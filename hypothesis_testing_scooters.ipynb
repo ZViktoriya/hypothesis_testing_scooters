{
 "cells": [
  {
   "cell_type": "markdown",
   "id": "ee7de07d",
   "metadata": {},
   "source": [
    "# **<p style=\"text-align: center;\">Проверка гипотез. </p>**"
   ]
  },
  {
   "cell_type": "markdown",
   "id": "9cd6d281",
   "metadata": {},
   "source": [
    "![**Сервис аренды самокатов GoFast**](https://encrypted-tbn0.gstatic.com/images?q=tbn:ANd9GcQRSM-MhBnCKx4CkkzPLAahXMUCG5abeMpOGg&usqp=CAU)"
   ]
  },
  {
   "cell_type": "code",
   "execution_count": 1,
   "id": "6a1ebcb7",
   "metadata": {},
   "outputs": [],
   "source": [
    "import pandas as pd\n",
    "import numpy as np\n",
    "import matplotlib.pyplot as plt\n",
    "from scipy.stats import binom\n",
    "from scipy.special import comb\n",
    "from scipy.stats import norm\n",
    "import scipy.stats as st\n",
    "from scipy import stats\n",
    "from scipy.stats import ttest_ind"
   ]
  },
  {
   "cell_type": "markdown",
   "id": "89169c5b",
   "metadata": {},
   "source": [
    "## Загрузка данных"
   ]
  },
  {
   "cell_type": "code",
   "execution_count": 2,
   "id": "1024573c",
   "metadata": {},
   "outputs": [
    {
     "data": {
      "text/html": [
       "<div>\n",
       "<style scoped>\n",
       "    .dataframe tbody tr th:only-of-type {\n",
       "        vertical-align: middle;\n",
       "    }\n",
       "\n",
       "    .dataframe tbody tr th {\n",
       "        vertical-align: top;\n",
       "    }\n",
       "\n",
       "    .dataframe thead th {\n",
       "        text-align: right;\n",
       "    }\n",
       "</style>\n",
       "<table border=\"1\" class=\"dataframe\">\n",
       "  <thead>\n",
       "    <tr style=\"text-align: right;\">\n",
       "      <th></th>\n",
       "      <th>user_id</th>\n",
       "      <th>name</th>\n",
       "      <th>age</th>\n",
       "      <th>city</th>\n",
       "      <th>subscription_type</th>\n",
       "    </tr>\n",
       "  </thead>\n",
       "  <tbody>\n",
       "    <tr>\n",
       "      <th>0</th>\n",
       "      <td>1</td>\n",
       "      <td>Кира</td>\n",
       "      <td>22</td>\n",
       "      <td>Тюмень</td>\n",
       "      <td>ultra</td>\n",
       "    </tr>\n",
       "    <tr>\n",
       "      <th>1</th>\n",
       "      <td>2</td>\n",
       "      <td>Станислав</td>\n",
       "      <td>31</td>\n",
       "      <td>Омск</td>\n",
       "      <td>ultra</td>\n",
       "    </tr>\n",
       "    <tr>\n",
       "      <th>2</th>\n",
       "      <td>3</td>\n",
       "      <td>Алексей</td>\n",
       "      <td>20</td>\n",
       "      <td>Москва</td>\n",
       "      <td>ultra</td>\n",
       "    </tr>\n",
       "    <tr>\n",
       "      <th>3</th>\n",
       "      <td>4</td>\n",
       "      <td>Константин</td>\n",
       "      <td>26</td>\n",
       "      <td>Ростов-на-Дону</td>\n",
       "      <td>ultra</td>\n",
       "    </tr>\n",
       "    <tr>\n",
       "      <th>4</th>\n",
       "      <td>5</td>\n",
       "      <td>Адель</td>\n",
       "      <td>28</td>\n",
       "      <td>Омск</td>\n",
       "      <td>ultra</td>\n",
       "    </tr>\n",
       "  </tbody>\n",
       "</table>\n",
       "</div>"
      ],
      "text/plain": [
       "   user_id        name  age            city subscription_type\n",
       "0        1        Кира   22          Тюмень             ultra\n",
       "1        2   Станислав   31            Омск             ultra\n",
       "2        3     Алексей   20          Москва             ultra\n",
       "3        4  Константин   26  Ростов-на-Дону             ultra\n",
       "4        5       Адель   28            Омск             ultra"
      ]
     },
     "execution_count": 2,
     "metadata": {},
     "output_type": "execute_result"
    }
   ],
   "source": [
    "df_users_go = pd.read_csv('/datasets/users_go.csv')\n",
    "df_users_go.head()"
   ]
  },
  {
   "cell_type": "code",
   "execution_count": 3,
   "id": "8e0c6175",
   "metadata": {},
   "outputs": [
    {
     "name": "stdout",
     "output_type": "stream",
     "text": [
      "<class 'pandas.core.frame.DataFrame'>\n",
      "RangeIndex: 1565 entries, 0 to 1564\n",
      "Data columns (total 5 columns):\n",
      " #   Column             Non-Null Count  Dtype \n",
      "---  ------             --------------  ----- \n",
      " 0   user_id            1565 non-null   int64 \n",
      " 1   name               1565 non-null   object\n",
      " 2   age                1565 non-null   int64 \n",
      " 3   city               1565 non-null   object\n",
      " 4   subscription_type  1565 non-null   object\n",
      "dtypes: int64(2), object(3)\n",
      "memory usage: 61.3+ KB\n"
     ]
    }
   ],
   "source": [
    "df_users_go.info()"
   ]
  },
  {
   "cell_type": "code",
   "execution_count": 4,
   "id": "3805e11b",
   "metadata": {},
   "outputs": [
    {
     "data": {
      "text/html": [
       "<div>\n",
       "<style scoped>\n",
       "    .dataframe tbody tr th:only-of-type {\n",
       "        vertical-align: middle;\n",
       "    }\n",
       "\n",
       "    .dataframe tbody tr th {\n",
       "        vertical-align: top;\n",
       "    }\n",
       "\n",
       "    .dataframe thead th {\n",
       "        text-align: right;\n",
       "    }\n",
       "</style>\n",
       "<table border=\"1\" class=\"dataframe\">\n",
       "  <thead>\n",
       "    <tr style=\"text-align: right;\">\n",
       "      <th></th>\n",
       "      <th>user_id</th>\n",
       "      <th>distance</th>\n",
       "      <th>duration</th>\n",
       "      <th>date</th>\n",
       "    </tr>\n",
       "  </thead>\n",
       "  <tbody>\n",
       "    <tr>\n",
       "      <th>0</th>\n",
       "      <td>1</td>\n",
       "      <td>4409.919140</td>\n",
       "      <td>25.599769</td>\n",
       "      <td>2021-01-01</td>\n",
       "    </tr>\n",
       "    <tr>\n",
       "      <th>1</th>\n",
       "      <td>1</td>\n",
       "      <td>2617.592153</td>\n",
       "      <td>15.816871</td>\n",
       "      <td>2021-01-18</td>\n",
       "    </tr>\n",
       "    <tr>\n",
       "      <th>2</th>\n",
       "      <td>1</td>\n",
       "      <td>754.159807</td>\n",
       "      <td>6.232113</td>\n",
       "      <td>2021-04-20</td>\n",
       "    </tr>\n",
       "    <tr>\n",
       "      <th>3</th>\n",
       "      <td>1</td>\n",
       "      <td>2694.783254</td>\n",
       "      <td>18.511000</td>\n",
       "      <td>2021-08-11</td>\n",
       "    </tr>\n",
       "    <tr>\n",
       "      <th>4</th>\n",
       "      <td>1</td>\n",
       "      <td>4028.687306</td>\n",
       "      <td>26.265803</td>\n",
       "      <td>2021-08-28</td>\n",
       "    </tr>\n",
       "  </tbody>\n",
       "</table>\n",
       "</div>"
      ],
      "text/plain": [
       "   user_id     distance   duration        date\n",
       "0        1  4409.919140  25.599769  2021-01-01\n",
       "1        1  2617.592153  15.816871  2021-01-18\n",
       "2        1   754.159807   6.232113  2021-04-20\n",
       "3        1  2694.783254  18.511000  2021-08-11\n",
       "4        1  4028.687306  26.265803  2021-08-28"
      ]
     },
     "execution_count": 4,
     "metadata": {},
     "output_type": "execute_result"
    }
   ],
   "source": [
    "df_rides_go = pd.read_csv('/datasets/rides_go.csv')\n",
    "df_rides_go.head()"
   ]
  },
  {
   "cell_type": "code",
   "execution_count": 5,
   "id": "b43bcdd6",
   "metadata": {},
   "outputs": [
    {
     "name": "stdout",
     "output_type": "stream",
     "text": [
      "<class 'pandas.core.frame.DataFrame'>\n",
      "RangeIndex: 18068 entries, 0 to 18067\n",
      "Data columns (total 4 columns):\n",
      " #   Column    Non-Null Count  Dtype  \n",
      "---  ------    --------------  -----  \n",
      " 0   user_id   18068 non-null  int64  \n",
      " 1   distance  18068 non-null  float64\n",
      " 2   duration  18068 non-null  float64\n",
      " 3   date      18068 non-null  object \n",
      "dtypes: float64(2), int64(1), object(1)\n",
      "memory usage: 564.8+ KB\n"
     ]
    }
   ],
   "source": [
    "df_rides_go.info()"
   ]
  },
  {
   "cell_type": "code",
   "execution_count": 6,
   "id": "f9b6ba5b",
   "metadata": {},
   "outputs": [
    {
     "data": {
      "text/html": [
       "<div>\n",
       "<style scoped>\n",
       "    .dataframe tbody tr th:only-of-type {\n",
       "        vertical-align: middle;\n",
       "    }\n",
       "\n",
       "    .dataframe tbody tr th {\n",
       "        vertical-align: top;\n",
       "    }\n",
       "\n",
       "    .dataframe thead th {\n",
       "        text-align: right;\n",
       "    }\n",
       "</style>\n",
       "<table border=\"1\" class=\"dataframe\">\n",
       "  <thead>\n",
       "    <tr style=\"text-align: right;\">\n",
       "      <th></th>\n",
       "      <th>subscription_type</th>\n",
       "      <th>minute_price</th>\n",
       "      <th>start_ride_price</th>\n",
       "      <th>subscription_fee</th>\n",
       "    </tr>\n",
       "  </thead>\n",
       "  <tbody>\n",
       "    <tr>\n",
       "      <th>0</th>\n",
       "      <td>free</td>\n",
       "      <td>8</td>\n",
       "      <td>50</td>\n",
       "      <td>0</td>\n",
       "    </tr>\n",
       "    <tr>\n",
       "      <th>1</th>\n",
       "      <td>ultra</td>\n",
       "      <td>6</td>\n",
       "      <td>0</td>\n",
       "      <td>199</td>\n",
       "    </tr>\n",
       "  </tbody>\n",
       "</table>\n",
       "</div>"
      ],
      "text/plain": [
       "  subscription_type  minute_price  start_ride_price  subscription_fee\n",
       "0              free             8                50                 0\n",
       "1             ultra             6                 0               199"
      ]
     },
     "execution_count": 6,
     "metadata": {},
     "output_type": "execute_result"
    }
   ],
   "source": [
    "df_subscriptions_go = pd.read_csv('/datasets/subscriptions_go.csv')\n",
    "df_subscriptions_go"
   ]
  },
  {
   "cell_type": "code",
   "execution_count": 7,
   "id": "e620116e",
   "metadata": {},
   "outputs": [
    {
     "name": "stdout",
     "output_type": "stream",
     "text": [
      "<class 'pandas.core.frame.DataFrame'>\n",
      "RangeIndex: 2 entries, 0 to 1\n",
      "Data columns (total 4 columns):\n",
      " #   Column             Non-Null Count  Dtype \n",
      "---  ------             --------------  ----- \n",
      " 0   subscription_type  2 non-null      object\n",
      " 1   minute_price       2 non-null      int64 \n",
      " 2   start_ride_price   2 non-null      int64 \n",
      " 3   subscription_fee   2 non-null      int64 \n",
      "dtypes: int64(3), object(1)\n",
      "memory usage: 192.0+ bytes\n"
     ]
    }
   ],
   "source": [
    "df_subscriptions_go.info()"
   ]
  },
  {
   "cell_type": "markdown",
   "id": "c1de1eb4",
   "metadata": {},
   "source": [
    "***Загрузили основные данные с информацией о пользователях, их поездках и подписках. Вывели первые строки каждого набора данных. Изучили общую информацию о каждом датафрейме,пропущенные значения в столбцах отсутствуют.***\n"
   ]
  },
  {
   "cell_type": "markdown",
   "id": "42fd1ed3",
   "metadata": {},
   "source": [
    "## Предобработка данных"
   ]
  },
  {
   "cell_type": "markdown",
   "id": "5c91f94c",
   "metadata": {},
   "source": [
    "### Приведем столбец date к типу даты pandas."
   ]
  },
  {
   "cell_type": "code",
   "execution_count": 8,
   "id": "9b69cf38",
   "metadata": {},
   "outputs": [
    {
     "data": {
      "text/html": [
       "<div>\n",
       "<style scoped>\n",
       "    .dataframe tbody tr th:only-of-type {\n",
       "        vertical-align: middle;\n",
       "    }\n",
       "\n",
       "    .dataframe tbody tr th {\n",
       "        vertical-align: top;\n",
       "    }\n",
       "\n",
       "    .dataframe thead th {\n",
       "        text-align: right;\n",
       "    }\n",
       "</style>\n",
       "<table border=\"1\" class=\"dataframe\">\n",
       "  <thead>\n",
       "    <tr style=\"text-align: right;\">\n",
       "      <th></th>\n",
       "      <th>user_id</th>\n",
       "      <th>distance</th>\n",
       "      <th>duration</th>\n",
       "      <th>date</th>\n",
       "    </tr>\n",
       "  </thead>\n",
       "  <tbody>\n",
       "    <tr>\n",
       "      <th>0</th>\n",
       "      <td>1</td>\n",
       "      <td>4409.919140</td>\n",
       "      <td>25.599769</td>\n",
       "      <td>2021-01-01</td>\n",
       "    </tr>\n",
       "    <tr>\n",
       "      <th>1</th>\n",
       "      <td>1</td>\n",
       "      <td>2617.592153</td>\n",
       "      <td>15.816871</td>\n",
       "      <td>2021-01-18</td>\n",
       "    </tr>\n",
       "    <tr>\n",
       "      <th>2</th>\n",
       "      <td>1</td>\n",
       "      <td>754.159807</td>\n",
       "      <td>6.232113</td>\n",
       "      <td>2021-04-20</td>\n",
       "    </tr>\n",
       "    <tr>\n",
       "      <th>3</th>\n",
       "      <td>1</td>\n",
       "      <td>2694.783254</td>\n",
       "      <td>18.511000</td>\n",
       "      <td>2021-08-11</td>\n",
       "    </tr>\n",
       "    <tr>\n",
       "      <th>4</th>\n",
       "      <td>1</td>\n",
       "      <td>4028.687306</td>\n",
       "      <td>26.265803</td>\n",
       "      <td>2021-08-28</td>\n",
       "    </tr>\n",
       "  </tbody>\n",
       "</table>\n",
       "</div>"
      ],
      "text/plain": [
       "   user_id     distance   duration       date\n",
       "0        1  4409.919140  25.599769 2021-01-01\n",
       "1        1  2617.592153  15.816871 2021-01-18\n",
       "2        1   754.159807   6.232113 2021-04-20\n",
       "3        1  2694.783254  18.511000 2021-08-11\n",
       "4        1  4028.687306  26.265803 2021-08-28"
      ]
     },
     "execution_count": 8,
     "metadata": {},
     "output_type": "execute_result"
    }
   ],
   "source": [
    "df_rides_go['date'] = pd.to_datetime(df_rides_go['date'],format='%Y-%m-%d')\n",
    "df_rides_go.head()"
   ]
  },
  {
   "cell_type": "code",
   "execution_count": 9,
   "id": "3482bee7",
   "metadata": {},
   "outputs": [
    {
     "name": "stdout",
     "output_type": "stream",
     "text": [
      "<class 'pandas.core.frame.DataFrame'>\n",
      "RangeIndex: 18068 entries, 0 to 18067\n",
      "Data columns (total 4 columns):\n",
      " #   Column    Non-Null Count  Dtype         \n",
      "---  ------    --------------  -----         \n",
      " 0   user_id   18068 non-null  int64         \n",
      " 1   distance  18068 non-null  float64       \n",
      " 2   duration  18068 non-null  float64       \n",
      " 3   date      18068 non-null  datetime64[ns]\n",
      "dtypes: datetime64[ns](1), float64(2), int64(1)\n",
      "memory usage: 564.8 KB\n"
     ]
    }
   ],
   "source": [
    "df_rides_go.info()"
   ]
  },
  {
   "cell_type": "markdown",
   "id": "b3b12b73",
   "metadata": {},
   "source": [
    "### Создадим новый столбец с номером месяца на основе столбца date."
   ]
  },
  {
   "cell_type": "code",
   "execution_count": 10,
   "id": "1ad4d2e3",
   "metadata": {},
   "outputs": [
    {
     "data": {
      "text/html": [
       "<div>\n",
       "<style scoped>\n",
       "    .dataframe tbody tr th:only-of-type {\n",
       "        vertical-align: middle;\n",
       "    }\n",
       "\n",
       "    .dataframe tbody tr th {\n",
       "        vertical-align: top;\n",
       "    }\n",
       "\n",
       "    .dataframe thead th {\n",
       "        text-align: right;\n",
       "    }\n",
       "</style>\n",
       "<table border=\"1\" class=\"dataframe\">\n",
       "  <thead>\n",
       "    <tr style=\"text-align: right;\">\n",
       "      <th></th>\n",
       "      <th>user_id</th>\n",
       "      <th>distance</th>\n",
       "      <th>duration</th>\n",
       "      <th>date</th>\n",
       "      <th>month_rides</th>\n",
       "    </tr>\n",
       "  </thead>\n",
       "  <tbody>\n",
       "    <tr>\n",
       "      <th>0</th>\n",
       "      <td>1</td>\n",
       "      <td>4409.919140</td>\n",
       "      <td>25.599769</td>\n",
       "      <td>2021-01-01</td>\n",
       "      <td>1</td>\n",
       "    </tr>\n",
       "    <tr>\n",
       "      <th>1</th>\n",
       "      <td>1</td>\n",
       "      <td>2617.592153</td>\n",
       "      <td>15.816871</td>\n",
       "      <td>2021-01-18</td>\n",
       "      <td>1</td>\n",
       "    </tr>\n",
       "    <tr>\n",
       "      <th>2</th>\n",
       "      <td>1</td>\n",
       "      <td>754.159807</td>\n",
       "      <td>6.232113</td>\n",
       "      <td>2021-04-20</td>\n",
       "      <td>4</td>\n",
       "    </tr>\n",
       "    <tr>\n",
       "      <th>3</th>\n",
       "      <td>1</td>\n",
       "      <td>2694.783254</td>\n",
       "      <td>18.511000</td>\n",
       "      <td>2021-08-11</td>\n",
       "      <td>8</td>\n",
       "    </tr>\n",
       "    <tr>\n",
       "      <th>4</th>\n",
       "      <td>1</td>\n",
       "      <td>4028.687306</td>\n",
       "      <td>26.265803</td>\n",
       "      <td>2021-08-28</td>\n",
       "      <td>8</td>\n",
       "    </tr>\n",
       "  </tbody>\n",
       "</table>\n",
       "</div>"
      ],
      "text/plain": [
       "   user_id     distance   duration       date  month_rides\n",
       "0        1  4409.919140  25.599769 2021-01-01            1\n",
       "1        1  2617.592153  15.816871 2021-01-18            1\n",
       "2        1   754.159807   6.232113 2021-04-20            4\n",
       "3        1  2694.783254  18.511000 2021-08-11            8\n",
       "4        1  4028.687306  26.265803 2021-08-28            8"
      ]
     },
     "execution_count": 10,
     "metadata": {},
     "output_type": "execute_result"
    }
   ],
   "source": [
    "df_rides_go['month_rides'] = df_rides_go['date'].dt.month\n",
    "df_rides_go.head()"
   ]
  },
  {
   "cell_type": "code",
   "execution_count": 11,
   "id": "836720b7",
   "metadata": {},
   "outputs": [
    {
     "name": "stdout",
     "output_type": "stream",
     "text": [
      "Период данных: 2021-01-01 до 2021-12-30\n"
     ]
    }
   ],
   "source": [
    "df_rides_go['date'] = pd.to_datetime(df_rides_go['date']).dt.date\n",
    "\n",
    "min_date = df_rides_go['date'].min()\n",
    "max_date = df_rides_go['date'].max()\n",
    "\n",
    "print('Период данных:', min_date, 'до', max_date)"
   ]
  },
  {
   "cell_type": "markdown",
   "id": "f8db0b7f",
   "metadata": {},
   "source": [
    "Проверим данные за какой период у нас имеются. Данные о сервисе аренды самокатов GoFast представленны за 2021 год.✔"
   ]
  },
  {
   "cell_type": "code",
   "execution_count": 12,
   "id": "60df9f63",
   "metadata": {},
   "outputs": [
    {
     "data": {
      "text/plain": [
       "Index(['user_id', 'distance', 'duration', 'date', 'month_rides'], dtype='object')"
      ]
     },
     "execution_count": 12,
     "metadata": {},
     "output_type": "execute_result"
    }
   ],
   "source": [
    "df_rides_go.columns"
   ]
  },
  {
   "cell_type": "markdown",
   "id": "c5a0527a",
   "metadata": {},
   "source": [
    "### Проверим наличие пропущенных значений и дубликатов в датафреймах. Обработаем их, если такие значения присутствуют."
   ]
  },
  {
   "cell_type": "code",
   "execution_count": 13,
   "id": "27542fd8",
   "metadata": {},
   "outputs": [
    {
     "data": {
      "text/html": [
       "<div>\n",
       "<style scoped>\n",
       "    .dataframe tbody tr th:only-of-type {\n",
       "        vertical-align: middle;\n",
       "    }\n",
       "\n",
       "    .dataframe tbody tr th {\n",
       "        vertical-align: top;\n",
       "    }\n",
       "\n",
       "    .dataframe thead th {\n",
       "        text-align: right;\n",
       "    }\n",
       "</style>\n",
       "<table border=\"1\" class=\"dataframe\">\n",
       "  <thead>\n",
       "    <tr style=\"text-align: right;\">\n",
       "      <th></th>\n",
       "      <th>user_id</th>\n",
       "      <th>name</th>\n",
       "      <th>age</th>\n",
       "      <th>city</th>\n",
       "      <th>subscription_type</th>\n",
       "    </tr>\n",
       "  </thead>\n",
       "  <tbody>\n",
       "    <tr>\n",
       "      <th>1534</th>\n",
       "      <td>293</td>\n",
       "      <td>Агата</td>\n",
       "      <td>26</td>\n",
       "      <td>Краснодар</td>\n",
       "      <td>ultra</td>\n",
       "    </tr>\n",
       "    <tr>\n",
       "      <th>1535</th>\n",
       "      <td>16</td>\n",
       "      <td>Амалия</td>\n",
       "      <td>27</td>\n",
       "      <td>Краснодар</td>\n",
       "      <td>ultra</td>\n",
       "    </tr>\n",
       "    <tr>\n",
       "      <th>1536</th>\n",
       "      <td>909</td>\n",
       "      <td>Константин</td>\n",
       "      <td>20</td>\n",
       "      <td>Екатеринбург</td>\n",
       "      <td>free</td>\n",
       "    </tr>\n",
       "    <tr>\n",
       "      <th>1537</th>\n",
       "      <td>403</td>\n",
       "      <td>Полина</td>\n",
       "      <td>19</td>\n",
       "      <td>Сочи</td>\n",
       "      <td>ultra</td>\n",
       "    </tr>\n",
       "    <tr>\n",
       "      <th>1538</th>\n",
       "      <td>908</td>\n",
       "      <td>Рустам</td>\n",
       "      <td>30</td>\n",
       "      <td>Тюмень</td>\n",
       "      <td>free</td>\n",
       "    </tr>\n",
       "    <tr>\n",
       "      <th>1539</th>\n",
       "      <td>43</td>\n",
       "      <td>Стефания</td>\n",
       "      <td>22</td>\n",
       "      <td>Омск</td>\n",
       "      <td>ultra</td>\n",
       "    </tr>\n",
       "    <tr>\n",
       "      <th>1540</th>\n",
       "      <td>127</td>\n",
       "      <td>Павел</td>\n",
       "      <td>25</td>\n",
       "      <td>Пятигорск</td>\n",
       "      <td>ultra</td>\n",
       "    </tr>\n",
       "    <tr>\n",
       "      <th>1541</th>\n",
       "      <td>659</td>\n",
       "      <td>Злата</td>\n",
       "      <td>27</td>\n",
       "      <td>Ростов-на-Дону</td>\n",
       "      <td>ultra</td>\n",
       "    </tr>\n",
       "    <tr>\n",
       "      <th>1542</th>\n",
       "      <td>204</td>\n",
       "      <td>Руслан</td>\n",
       "      <td>30</td>\n",
       "      <td>Пятигорск</td>\n",
       "      <td>ultra</td>\n",
       "    </tr>\n",
       "    <tr>\n",
       "      <th>1543</th>\n",
       "      <td>153</td>\n",
       "      <td>Герман</td>\n",
       "      <td>23</td>\n",
       "      <td>Москва</td>\n",
       "      <td>ultra</td>\n",
       "    </tr>\n",
       "    <tr>\n",
       "      <th>1544</th>\n",
       "      <td>1245</td>\n",
       "      <td>Регина</td>\n",
       "      <td>27</td>\n",
       "      <td>Пятигорск</td>\n",
       "      <td>free</td>\n",
       "    </tr>\n",
       "    <tr>\n",
       "      <th>1545</th>\n",
       "      <td>807</td>\n",
       "      <td>Александр</td>\n",
       "      <td>28</td>\n",
       "      <td>Екатеринбург</td>\n",
       "      <td>free</td>\n",
       "    </tr>\n",
       "    <tr>\n",
       "      <th>1546</th>\n",
       "      <td>924</td>\n",
       "      <td>Мария</td>\n",
       "      <td>23</td>\n",
       "      <td>Пятигорск</td>\n",
       "      <td>free</td>\n",
       "    </tr>\n",
       "    <tr>\n",
       "      <th>1547</th>\n",
       "      <td>635</td>\n",
       "      <td>Герман</td>\n",
       "      <td>21</td>\n",
       "      <td>Москва</td>\n",
       "      <td>ultra</td>\n",
       "    </tr>\n",
       "    <tr>\n",
       "      <th>1548</th>\n",
       "      <td>136</td>\n",
       "      <td>Марсель</td>\n",
       "      <td>25</td>\n",
       "      <td>Тюмень</td>\n",
       "      <td>ultra</td>\n",
       "    </tr>\n",
       "    <tr>\n",
       "      <th>1549</th>\n",
       "      <td>108</td>\n",
       "      <td>Влада</td>\n",
       "      <td>29</td>\n",
       "      <td>Тюмень</td>\n",
       "      <td>ultra</td>\n",
       "    </tr>\n",
       "    <tr>\n",
       "      <th>1550</th>\n",
       "      <td>737</td>\n",
       "      <td>Мелания</td>\n",
       "      <td>27</td>\n",
       "      <td>Ростов-на-Дону</td>\n",
       "      <td>free</td>\n",
       "    </tr>\n",
       "    <tr>\n",
       "      <th>1551</th>\n",
       "      <td>666</td>\n",
       "      <td>Зарина</td>\n",
       "      <td>29</td>\n",
       "      <td>Москва</td>\n",
       "      <td>ultra</td>\n",
       "    </tr>\n",
       "    <tr>\n",
       "      <th>1552</th>\n",
       "      <td>297</td>\n",
       "      <td>Егор</td>\n",
       "      <td>33</td>\n",
       "      <td>Пятигорск</td>\n",
       "      <td>ultra</td>\n",
       "    </tr>\n",
       "    <tr>\n",
       "      <th>1553</th>\n",
       "      <td>121</td>\n",
       "      <td>Алина</td>\n",
       "      <td>25</td>\n",
       "      <td>Пятигорск</td>\n",
       "      <td>ultra</td>\n",
       "    </tr>\n",
       "    <tr>\n",
       "      <th>1554</th>\n",
       "      <td>1198</td>\n",
       "      <td>Демид</td>\n",
       "      <td>29</td>\n",
       "      <td>Ростов-на-Дону</td>\n",
       "      <td>free</td>\n",
       "    </tr>\n",
       "    <tr>\n",
       "      <th>1555</th>\n",
       "      <td>72</td>\n",
       "      <td>Никита</td>\n",
       "      <td>25</td>\n",
       "      <td>Москва</td>\n",
       "      <td>ultra</td>\n",
       "    </tr>\n",
       "    <tr>\n",
       "      <th>1556</th>\n",
       "      <td>422</td>\n",
       "      <td>Кирилл</td>\n",
       "      <td>27</td>\n",
       "      <td>Сочи</td>\n",
       "      <td>ultra</td>\n",
       "    </tr>\n",
       "    <tr>\n",
       "      <th>1557</th>\n",
       "      <td>611</td>\n",
       "      <td>Владимир</td>\n",
       "      <td>28</td>\n",
       "      <td>Омск</td>\n",
       "      <td>ultra</td>\n",
       "    </tr>\n",
       "    <tr>\n",
       "      <th>1558</th>\n",
       "      <td>1237</td>\n",
       "      <td>Евгения</td>\n",
       "      <td>23</td>\n",
       "      <td>Тюмень</td>\n",
       "      <td>free</td>\n",
       "    </tr>\n",
       "    <tr>\n",
       "      <th>1559</th>\n",
       "      <td>209</td>\n",
       "      <td>Андрей</td>\n",
       "      <td>23</td>\n",
       "      <td>Омск</td>\n",
       "      <td>ultra</td>\n",
       "    </tr>\n",
       "    <tr>\n",
       "      <th>1560</th>\n",
       "      <td>829</td>\n",
       "      <td>Федор</td>\n",
       "      <td>29</td>\n",
       "      <td>Пятигорск</td>\n",
       "      <td>free</td>\n",
       "    </tr>\n",
       "    <tr>\n",
       "      <th>1561</th>\n",
       "      <td>809</td>\n",
       "      <td>Юрий</td>\n",
       "      <td>26</td>\n",
       "      <td>Сочи</td>\n",
       "      <td>free</td>\n",
       "    </tr>\n",
       "    <tr>\n",
       "      <th>1562</th>\n",
       "      <td>307</td>\n",
       "      <td>Ясмина</td>\n",
       "      <td>19</td>\n",
       "      <td>Краснодар</td>\n",
       "      <td>ultra</td>\n",
       "    </tr>\n",
       "    <tr>\n",
       "      <th>1563</th>\n",
       "      <td>47</td>\n",
       "      <td>Юрий</td>\n",
       "      <td>28</td>\n",
       "      <td>Тюмень</td>\n",
       "      <td>ultra</td>\n",
       "    </tr>\n",
       "    <tr>\n",
       "      <th>1564</th>\n",
       "      <td>1045</td>\n",
       "      <td>Артемий</td>\n",
       "      <td>28</td>\n",
       "      <td>Ростов-на-Дону</td>\n",
       "      <td>free</td>\n",
       "    </tr>\n",
       "  </tbody>\n",
       "</table>\n",
       "</div>"
      ],
      "text/plain": [
       "      user_id        name  age            city subscription_type\n",
       "1534      293       Агата   26       Краснодар             ultra\n",
       "1535       16      Амалия   27       Краснодар             ultra\n",
       "1536      909  Константин   20    Екатеринбург              free\n",
       "1537      403      Полина   19            Сочи             ultra\n",
       "1538      908      Рустам   30          Тюмень              free\n",
       "1539       43    Стефания   22            Омск             ultra\n",
       "1540      127       Павел   25       Пятигорск             ultra\n",
       "1541      659       Злата   27  Ростов-на-Дону             ultra\n",
       "1542      204      Руслан   30       Пятигорск             ultra\n",
       "1543      153      Герман   23          Москва             ultra\n",
       "1544     1245      Регина   27       Пятигорск              free\n",
       "1545      807   Александр   28    Екатеринбург              free\n",
       "1546      924       Мария   23       Пятигорск              free\n",
       "1547      635      Герман   21          Москва             ultra\n",
       "1548      136     Марсель   25          Тюмень             ultra\n",
       "1549      108       Влада   29          Тюмень             ultra\n",
       "1550      737     Мелания   27  Ростов-на-Дону              free\n",
       "1551      666      Зарина   29          Москва             ultra\n",
       "1552      297        Егор   33       Пятигорск             ultra\n",
       "1553      121       Алина   25       Пятигорск             ultra\n",
       "1554     1198       Демид   29  Ростов-на-Дону              free\n",
       "1555       72      Никита   25          Москва             ultra\n",
       "1556      422      Кирилл   27            Сочи             ultra\n",
       "1557      611    Владимир   28            Омск             ultra\n",
       "1558     1237     Евгения   23          Тюмень              free\n",
       "1559      209      Андрей   23            Омск             ultra\n",
       "1560      829       Федор   29       Пятигорск              free\n",
       "1561      809        Юрий   26            Сочи              free\n",
       "1562      307      Ясмина   19       Краснодар             ultra\n",
       "1563       47        Юрий   28          Тюмень             ultra\n",
       "1564     1045     Артемий   28  Ростов-на-Дону              free"
      ]
     },
     "execution_count": 13,
     "metadata": {},
     "output_type": "execute_result"
    }
   ],
   "source": [
    "duplicate_rows = df_users_go[df_users_go.duplicated ()]\n",
    "duplicate_rows"
   ]
  },
  {
   "cell_type": "code",
   "execution_count": 14,
   "id": "6a7e64c9",
   "metadata": {},
   "outputs": [
    {
     "data": {
      "text/plain": [
       "user_id              31\n",
       "name                 31\n",
       "age                  31\n",
       "city                 31\n",
       "subscription_type    31\n",
       "dtype: int64"
      ]
     },
     "execution_count": 14,
     "metadata": {},
     "output_type": "execute_result"
    }
   ],
   "source": [
    "duplicate_rows.count()"
   ]
  },
  {
   "cell_type": "code",
   "execution_count": 15,
   "id": "1c0639a2",
   "metadata": {},
   "outputs": [
    {
     "data": {
      "text/html": [
       "<div>\n",
       "<style scoped>\n",
       "    .dataframe tbody tr th:only-of-type {\n",
       "        vertical-align: middle;\n",
       "    }\n",
       "\n",
       "    .dataframe tbody tr th {\n",
       "        vertical-align: top;\n",
       "    }\n",
       "\n",
       "    .dataframe thead th {\n",
       "        text-align: right;\n",
       "    }\n",
       "</style>\n",
       "<table border=\"1\" class=\"dataframe\">\n",
       "  <thead>\n",
       "    <tr style=\"text-align: right;\">\n",
       "      <th></th>\n",
       "      <th>user_id</th>\n",
       "      <th>name</th>\n",
       "      <th>age</th>\n",
       "      <th>city</th>\n",
       "      <th>subscription_type</th>\n",
       "    </tr>\n",
       "  </thead>\n",
       "  <tbody>\n",
       "    <tr>\n",
       "      <th>292</th>\n",
       "      <td>293</td>\n",
       "      <td>Агата</td>\n",
       "      <td>26</td>\n",
       "      <td>Краснодар</td>\n",
       "      <td>ultra</td>\n",
       "    </tr>\n",
       "    <tr>\n",
       "      <th>1534</th>\n",
       "      <td>293</td>\n",
       "      <td>Агата</td>\n",
       "      <td>26</td>\n",
       "      <td>Краснодар</td>\n",
       "      <td>ultra</td>\n",
       "    </tr>\n",
       "  </tbody>\n",
       "</table>\n",
       "</div>"
      ],
      "text/plain": [
       "      user_id   name  age       city subscription_type\n",
       "292       293  Агата   26  Краснодар             ultra\n",
       "1534      293  Агата   26  Краснодар             ultra"
      ]
     },
     "execution_count": 15,
     "metadata": {},
     "output_type": "execute_result"
    }
   ],
   "source": [
    "df_users_go.loc[((df_users_go['user_id'] == 293) &(df_users_go['name' ] == 'Агата'))]"
   ]
  },
  {
   "cell_type": "code",
   "execution_count": 16,
   "id": "afd0108f",
   "metadata": {},
   "outputs": [
    {
     "data": {
      "text/plain": [
       "user_id              0\n",
       "name                 0\n",
       "age                  0\n",
       "city                 0\n",
       "subscription_type    0\n",
       "dtype: int64"
      ]
     },
     "execution_count": 16,
     "metadata": {},
     "output_type": "execute_result"
    }
   ],
   "source": [
    "df_users_go = df_users_go.drop_duplicates()\n",
    "duplicate_rows_drop = df_users_go[df_users_go.duplicated ()]\n",
    "duplicate_rows_drop.count()"
   ]
  },
  {
   "cell_type": "markdown",
   "id": "18f0e6d7",
   "metadata": {},
   "source": [
    "***Изучили общую информацию о каждом датафрейме,пропущенные значения в столбцах отсутствуют. Найден  31 дубликат в датафреймах,данные дубликаты удалили.***"
   ]
  },
  {
   "cell_type": "markdown",
   "id": "6b34bc52",
   "metadata": {},
   "source": [
    "## Исследовательский анализ данных"
   ]
  },
  {
   "cell_type": "markdown",
   "id": "e514ca9e",
   "metadata": {},
   "source": [
    "### Опишем и визуализируем общую информацию о пользователях и поездках: частота встречаемости городов."
   ]
  },
  {
   "cell_type": "code",
   "execution_count": 17,
   "id": "891c7bf5",
   "metadata": {},
   "outputs": [
    {
     "data": {
      "image/png": "[encoded data removed]",
      "text/plain": [
       "<Figure size 432x288 with 1 Axes>"
      ]
     },
     "metadata": {
      "needs_background": "light"
     },
     "output_type": "display_data"
    }
   ],
   "source": [
    "city_frequency= df_users_go['city'].value_counts()\n",
    "city_frequency.plot(kind='barh');"
   ]
  },
  {
   "cell_type": "code",
   "execution_count": 18,
   "id": "03fc8f8a",
   "metadata": {},
   "outputs": [
    {
     "name": "stdout",
     "output_type": "stream",
     "text": [
      "            Город  Количество пользователей\n",
      "0       Пятигорск                       219\n",
      "1    Екатеринбург                       204\n",
      "2  Ростов-на-Дону                       198\n",
      "3       Краснодар                       193\n",
      "4            Сочи                       189\n",
      "5            Омск                       183\n",
      "6          Тюмень                       180\n",
      "7          Москва                       168\n"
     ]
    }
   ],
   "source": [
    "city_frequency = df_users_go['city'].value_counts().reset_index()\n",
    "city_frequency.columns = ['Город', 'Количество пользователей']\n",
    "city_frequency = city_frequency.sort_values(by='Количество пользователей', ascending=False)\n",
    "print(city_frequency)"
   ]
  },
  {
   "cell_type": "code",
   "execution_count": 19,
   "id": "a63ea631",
   "metadata": {},
   "outputs": [
    {
     "data": {
      "text/plain": [
       "<Figure size 864x576 with 0 Axes>"
      ]
     },
     "metadata": {},
     "output_type": "display_data"
    },
    {
     "data": {
      "image/png": "[encoded data removed]",
      "text/plain": [
       "<Figure size 432x288 with 1 Axes>"
      ]
     },
     "metadata": {
      "needs_background": "light"
     },
     "output_type": "display_data"
    }
   ],
   "source": [
    "plt.figure(figsize=(12, 8))\n",
    "city_frequency.plot(kind='barh', x='Город', y='Количество пользователей')\n",
    "\n",
    "plt.xlabel('Количество пользователей')\n",
    "plt.ylabel('Город')\n",
    "plt.title('Частота встречаемости городов')\n",
    "plt.show()"
   ]
  },
  {
   "cell_type": "markdown",
   "id": "92ef4083",
   "metadata": {},
   "source": [
    "Исходя из предоставленной информации о количестве пользователей сервиса аренды самокатов GoFast в разных городах, можно сделать следующие выводы:\n",
    "    \n",
    " - Пятигорск является наиболее популярным городом среди пользователей GoFast, с 219 пользователями.\n",
    " - Екатеринбург занимает второе место по популярности с 204 пользователями.\n",
    " - Ростов-на-Дону, Краснодар, Сочи, Омск, Тюмень и Москва также имеют значительное количество пользователей, хотя и ниже по сравнению с Пятигорском и Екатеринбургом.\n",
    "    \n",
    "Можно заключить, что сервис аренды самокатов GoFast пользуется спросом в разных городах, и, вероятно, есть потенциал для расширения и увеличения покрытия в других городах. ✔"
   ]
  },
  {
   "cell_type": "markdown",
   "id": "23463090",
   "metadata": {},
   "source": [
    "### Опишем и визуализируем общую информацию о пользователях и поездках: соотношение пользователей с подпиской и без подписки"
   ]
  },
  {
   "cell_type": "code",
   "execution_count": 20,
   "id": "ca7f09dd",
   "metadata": {},
   "outputs": [
    {
     "data": {
      "image/png": "[encoded data removed]",
      "text/plain": [
       "<Figure size 432x288 with 1 Axes>"
      ]
     },
     "metadata": {
      "needs_background": "light"
     },
     "output_type": "display_data"
    }
   ],
   "source": [
    "subscription_type_ratio = df_users_go['subscription_type'].value_counts()\n",
    "subscription_type_ratio.plot(kind='barh');"
   ]
  },
  {
   "cell_type": "code",
   "execution_count": 21,
   "id": "b8aa852f",
   "metadata": {},
   "outputs": [
    {
     "data": {
      "image/png": "[encoded data removed]",
      "text/plain": [
       "<Figure size 432x432 with 1 Axes>"
      ]
     },
     "metadata": {},
     "output_type": "display_data"
    }
   ],
   "source": [
    "# Получение количества пользователей с подпиской и без подписки\n",
    "subscription_type_ratio = df_users_go['subscription_type'].value_counts()\n",
    "\n",
    "# Создание круговой диаграммы\n",
    "plt.figure(figsize=(6, 6))\n",
    "subscription_type_ratio.plot.pie(autopct='%1.1f%%')\n",
    "\n",
    "# Подпись диаграммы\n",
    "plt.title('Соотношение пользователей с подпиской и без подписки')\n",
    "\n",
    "# Отображение диаграммы\n",
    "plt.show()"
   ]
  },
  {
   "cell_type": "markdown",
   "id": "fa19e425",
   "metadata": {},
   "source": [
    "Исходя из предоставленных данных о соотношении пользователей с подпиской Ultra и без подписки, можно сделать следующие выводы:\n",
    "    \n",
    "- Большинство пользователей (54,4%) не имеют подписки на сервис аренды самокатов GoFast.\n",
    "- Пользователи с подпиской Ultra составляют 45,6% от общего числа пользователей.\n",
    "\n",
    "Эти данные могут указывать на потенциал для увеличения числа пользователей с подпиской. Бизнесу может быть выгодно провести дополнительные маркетинговые и промоциональные мероприятия, чтобы привлечь больше пользователей к использованию подписки и повысить ее привлекательность. ✔"
   ]
  },
  {
   "cell_type": "markdown",
   "id": "39600652",
   "metadata": {},
   "source": [
    "### Опишем и визуализируем общую информацию о пользователях и поездках: возраст пользователей."
   ]
  },
  {
   "cell_type": "code",
   "execution_count": 22,
   "id": "be139184",
   "metadata": {},
   "outputs": [
    {
     "data": {
      "image/png": "[encoded data removed]",
      "text/plain": [
       "<Figure size 864x576 with 1 Axes>"
      ]
     },
     "metadata": {
      "needs_background": "light"
     },
     "output_type": "display_data"
    }
   ],
   "source": [
    "users_age = df_users_go['age'].value_counts()\n",
    "users_age.plot(kind='barh', figsize=(12,8));"
   ]
  },
  {
   "cell_type": "markdown",
   "id": "28e72351",
   "metadata": {},
   "source": [
    "***Что касается возраста пользователей сервиса аренды самокатов GoFast, прослеживается высокая разница в возрасте. Активнее всего сервисом пользуются клиенты в возрасте 25 лет. Скачек пользовательской активности в диапазоне 25-31 год. В возрастном диапазоне 34 года и старше пользователи редко пользуются данным сервисом.Так же встречается возраст 12 -16 лет,клиентов этого возраста мало,тк данный возрастной диапазон ограничен требованиями компании по возрастному диапазону использования данного сервиса.***"
   ]
  },
  {
   "cell_type": "code",
   "execution_count": 23,
   "id": "0a4666a6",
   "metadata": {},
   "outputs": [
    {
     "data": {
      "text/plain": [
       "count    1534.000000\n",
       "mean       24.903520\n",
       "std         4.572367\n",
       "min        12.000000\n",
       "25%        22.000000\n",
       "50%        25.000000\n",
       "75%        28.000000\n",
       "max        43.000000\n",
       "Name: age, dtype: float64"
      ]
     },
     "execution_count": 23,
     "metadata": {},
     "output_type": "execute_result"
    }
   ],
   "source": [
    "df_users_go['age'].describe()"
   ]
  },
  {
   "cell_type": "code",
   "execution_count": 25,
   "id": "28879dce",
   "metadata": {},
   "outputs": [
    {
     "data": {
      "image/png": "[encoded data removed]",
      "text/plain": [
       "<Figure size 720x432 with 1 Axes>"
      ]
     },
     "metadata": {
      "needs_background": "light"
     },
     "output_type": "display_data"
    }
   ],
   "source": [
    "plt.figure(figsize=(10, 6))\n",
    "df_users_go['age'].plot.hist(bins=60, edgecolor='black')\n",
    "plt.xlabel('Возраст')\n",
    "plt.ylabel('Частота')\n",
    "plt.title('Распределение возраста пользователей')\n",
    "plt.show()"
   ]
  },
  {
   "cell_type": "markdown",
   "id": "8d88a415",
   "metadata": {},
   "source": [
    "Исходя из этих данных, можно сделать вывод, что большинство пользователей сервиса аренды самокатов GoFast находятся в возрастном диапазоне от 20 до 30 лет. Однако также есть пользователи моложе 20 лет и старше 30 лет, что указывает на разнообразие возрастных групп пользователей. Эта информация может быть полезной для определения целевой аудитории и разработки маркетинговых стратегий, учитывающих возрастные особенности пользователей. "
   ]
  },
  {
   "cell_type": "markdown",
   "id": "b0de6f9f",
   "metadata": {},
   "source": [
    "### Опишем и визуализируем общую информацию о пользователях и поездках: расстояние, которое пользователь преодолел за одну поездку."
   ]
  },
  {
   "cell_type": "code",
   "execution_count": 26,
   "id": "7d13a636",
   "metadata": {},
   "outputs": [
    {
     "data": {
      "image/png": "[encoded data removed]",
      "text/plain": [
       "<Figure size 432x288 with 1 Axes>"
      ]
     },
     "metadata": {
      "needs_background": "light"
     },
     "output_type": "display_data"
    }
   ],
   "source": [
    "df_rides_go.hist('distance', bins=100);"
   ]
  },
  {
   "cell_type": "markdown",
   "id": "56208aee",
   "metadata": {},
   "source": [
    "***Пользователи сервиса аренды самокатов GoFast проезжают чаще всего растояние 3,2 км. Сервис активно используют проезжая 2,5-3,5 км - это расстояние,исходя из пользовательских предпочтений, оптимальное для аренды самокатов.***"
   ]
  },
  {
   "cell_type": "code",
   "execution_count": 27,
   "id": "48285709",
   "metadata": {
    "scrolled": true
   },
   "outputs": [
    {
     "data": {
      "image/png": "[encoded data removed]",
      "text/plain": [
       "<Figure size 720x432 with 1 Axes>"
      ]
     },
     "metadata": {
      "needs_background": "light"
     },
     "output_type": "display_data"
    }
   ],
   "source": [
    "plt.figure(figsize=(10, 6))\n",
    "df_rides_go['distance'].plot.hist(bins=100)\n",
    "plt.grid(True)\n",
    "plt.xlabel('Расстояние')\n",
    "plt.ylabel('Частота')\n",
    "plt.title('Распределение расстояния преодоленного за одну поездку')\n",
    "plt.show()"
   ]
  },
  {
   "cell_type": "markdown",
   "id": "52c87656",
   "metadata": {},
   "source": [
    "В гистограмме распределения расстояний за одну поездку наблюдаются два пика в районе 500 метров и 3,3 километров, можно предположить следующие объяснения:\n",
    "- существуют два основных типа поездок. Первый пик в районе 500 метров может соответствовать коротким поездкам в пределах одного квартала или района. Второй пик в районе 3,3 километров может указывать на более длительные поездки, возможно, между различными районами города или для достижения конкретных мест назначения.\n",
    "- пользователи могут иметь привычку совершать поездки на определенное расстояние. Например, некоторые могут использовать самокаты для покрытия коротких расстояний вокруг своего дома или работы, что приводит к появлению первого пика. В то же время, другие могут предпочитать совершать более длительные поездки, что приводит к появлению второго пика.\n",
    "- географические факторы: Расстояние может быть также связано с географическими особенностями города или региона. Например, если сервис аренды самокатов популярен в центральной части города, то короткие поездки в этой области могут доминировать, что приводит к появлению первого пика. С другой стороны, поездки на более дальние расстояния могут быть связаны с достопримечательностями или другими интересными местами, что приводит к появлению второго пика.\n",
    "\n",
    "В целом, анализ расстояний и их распределения может предоставить полезную информацию о поведении пользователей и позволить адаптировать сервис аренды самокатов под их потребности. "
   ]
  },
  {
   "cell_type": "markdown",
   "id": "b8f0ee86",
   "metadata": {},
   "source": [
    "### Опишем и визуализируем общую информацию о пользователях и поездках: продолжительность поездок."
   ]
  },
  {
   "cell_type": "code",
   "execution_count": 29,
   "id": "8317c051",
   "metadata": {},
   "outputs": [
    {
     "data": {
      "image/png": "[encoded data removed]",
      "text/plain": [
       "<Figure size 720x432 with 1 Axes>"
      ]
     },
     "metadata": {
      "needs_background": "light"
     },
     "output_type": "display_data"
    }
   ],
   "source": [
    "plt.figure(figsize=(10, 6))\n",
    "df_rides_go['duration'].plot.hist(bins=100, grid=True)\n",
    "plt.xlabel('Продолжительность поездки (в минутах)')\n",
    "plt.ylabel('Частота')\n",
    "plt.title('Распределение продолжительности поездок')\n",
    "plt.show()"
   ]
  },
  {
   "cell_type": "markdown",
   "id": "d1e74f18",
   "metadata": {},
   "source": [
    "Пик около значения 0 на гистограмме продолжительности поездок может быть связан с несколькими возможными факторами:\n",
    "\n",
    "- Ошибки или неточности данных: Может быть, в наборе данных есть ошибки или неточности, которые приводят к появлению поездок с очень маленькой или нулевой продолжительностью. Это может быть вызвано ошибками в записи данных или аномальными значениями.\n",
    "- Технические причины: Пики около 0 могут также быть связаны с техническими аспектами системы аренды самокатов. Например, система может регистрировать короткие периоды времени, когда самокат не двигается или стоит на месте, как отдельные поездки с продолжительностью близкой к нулю."
   ]
  },
  {
   "cell_type": "code",
   "execution_count": 30,
   "id": "9097aa96",
   "metadata": {},
   "outputs": [
    {
     "data": {
      "text/plain": [
       "count    18068.000000\n",
       "mean        17.805011\n",
       "std          6.091051\n",
       "min          0.500000\n",
       "25%         13.597563\n",
       "50%         17.678395\n",
       "75%         21.724800\n",
       "max         40.823963\n",
       "Name: duration, dtype: float64"
      ]
     },
     "execution_count": 30,
     "metadata": {},
     "output_type": "execute_result"
    }
   ],
   "source": [
    "df_rides_go['duration'].describe()"
   ]
  },
  {
   "cell_type": "markdown",
   "id": "eb7eca40",
   "metadata": {},
   "source": [
    "Средняя продолжительность поездки составляет примерно 17.8 минут.\n",
    "Стандартное отклонение продолжительности поездок равно 6 минут.\n",
    "Минимальная продолжительность поездки составляет 0.5 минуты, что может быть связано с кратковременными поездками или ошибками в данных.\n",
    "25% поездок имеют продолжительность менее 13.6 минут, а 75% поездок имеют продолжительность менее 21.72 минут. Это указывает на наличие разнообразия продолжительности поездок.\n",
    "Максимальная продолжительность поездки составляет 40.82 минуты, что может быть связано с длительными поездками или выбросами в данных."
   ]
  },
  {
   "cell_type": "markdown",
   "id": "bbca7b99",
   "metadata": {},
   "source": [
    "## Объединение данных"
   ]
  },
  {
   "cell_type": "markdown",
   "id": "5464c663",
   "metadata": {},
   "source": [
    "### Объединим данные о пользователях, поездках и подписках в один датафрейм. Для этого воспользуемся методом merge()."
   ]
  },
  {
   "cell_type": "code",
   "execution_count": 31,
   "id": "8723f983",
   "metadata": {},
   "outputs": [
    {
     "data": {
      "text/html": [
       "<div>\n",
       "<style scoped>\n",
       "    .dataframe tbody tr th:only-of-type {\n",
       "        vertical-align: middle;\n",
       "    }\n",
       "\n",
       "    .dataframe tbody tr th {\n",
       "        vertical-align: top;\n",
       "    }\n",
       "\n",
       "    .dataframe thead th {\n",
       "        text-align: right;\n",
       "    }\n",
       "</style>\n",
       "<table border=\"1\" class=\"dataframe\">\n",
       "  <thead>\n",
       "    <tr style=\"text-align: right;\">\n",
       "      <th></th>\n",
       "      <th>user_id</th>\n",
       "      <th>name</th>\n",
       "      <th>age</th>\n",
       "      <th>city</th>\n",
       "      <th>subscription_type</th>\n",
       "      <th>distance</th>\n",
       "      <th>duration</th>\n",
       "      <th>date</th>\n",
       "      <th>month_rides</th>\n",
       "      <th>minute_price</th>\n",
       "      <th>start_ride_price</th>\n",
       "      <th>subscription_fee</th>\n",
       "    </tr>\n",
       "  </thead>\n",
       "  <tbody>\n",
       "    <tr>\n",
       "      <th>0</th>\n",
       "      <td>1</td>\n",
       "      <td>Кира</td>\n",
       "      <td>22</td>\n",
       "      <td>Тюмень</td>\n",
       "      <td>ultra</td>\n",
       "      <td>4409.919140</td>\n",
       "      <td>25.599769</td>\n",
       "      <td>2021-01-01</td>\n",
       "      <td>1</td>\n",
       "      <td>6</td>\n",
       "      <td>0</td>\n",
       "      <td>199</td>\n",
       "    </tr>\n",
       "    <tr>\n",
       "      <th>1</th>\n",
       "      <td>1</td>\n",
       "      <td>Кира</td>\n",
       "      <td>22</td>\n",
       "      <td>Тюмень</td>\n",
       "      <td>ultra</td>\n",
       "      <td>2617.592153</td>\n",
       "      <td>15.816871</td>\n",
       "      <td>2021-01-18</td>\n",
       "      <td>1</td>\n",
       "      <td>6</td>\n",
       "      <td>0</td>\n",
       "      <td>199</td>\n",
       "    </tr>\n",
       "    <tr>\n",
       "      <th>2</th>\n",
       "      <td>1</td>\n",
       "      <td>Кира</td>\n",
       "      <td>22</td>\n",
       "      <td>Тюмень</td>\n",
       "      <td>ultra</td>\n",
       "      <td>754.159807</td>\n",
       "      <td>6.232113</td>\n",
       "      <td>2021-04-20</td>\n",
       "      <td>4</td>\n",
       "      <td>6</td>\n",
       "      <td>0</td>\n",
       "      <td>199</td>\n",
       "    </tr>\n",
       "    <tr>\n",
       "      <th>3</th>\n",
       "      <td>1</td>\n",
       "      <td>Кира</td>\n",
       "      <td>22</td>\n",
       "      <td>Тюмень</td>\n",
       "      <td>ultra</td>\n",
       "      <td>2694.783254</td>\n",
       "      <td>18.511000</td>\n",
       "      <td>2021-08-11</td>\n",
       "      <td>8</td>\n",
       "      <td>6</td>\n",
       "      <td>0</td>\n",
       "      <td>199</td>\n",
       "    </tr>\n",
       "    <tr>\n",
       "      <th>4</th>\n",
       "      <td>1</td>\n",
       "      <td>Кира</td>\n",
       "      <td>22</td>\n",
       "      <td>Тюмень</td>\n",
       "      <td>ultra</td>\n",
       "      <td>4028.687306</td>\n",
       "      <td>26.265803</td>\n",
       "      <td>2021-08-28</td>\n",
       "      <td>8</td>\n",
       "      <td>6</td>\n",
       "      <td>0</td>\n",
       "      <td>199</td>\n",
       "    </tr>\n",
       "  </tbody>\n",
       "</table>\n",
       "</div>"
      ],
      "text/plain": [
       "   user_id  name  age    city subscription_type     distance   duration  \\\n",
       "0        1  Кира   22  Тюмень             ultra  4409.919140  25.599769   \n",
       "1        1  Кира   22  Тюмень             ultra  2617.592153  15.816871   \n",
       "2        1  Кира   22  Тюмень             ultra   754.159807   6.232113   \n",
       "3        1  Кира   22  Тюмень             ultra  2694.783254  18.511000   \n",
       "4        1  Кира   22  Тюмень             ultra  4028.687306  26.265803   \n",
       "\n",
       "         date  month_rides  minute_price  start_ride_price  subscription_fee  \n",
       "0  2021-01-01            1             6                 0               199  \n",
       "1  2021-01-18            1             6                 0               199  \n",
       "2  2021-04-20            4             6                 0               199  \n",
       "3  2021-08-11            8             6                 0               199  \n",
       "4  2021-08-28            8             6                 0               199  "
      ]
     },
     "execution_count": 31,
     "metadata": {},
     "output_type": "execute_result"
    }
   ],
   "source": [
    "data = df_users_go.merge(df_rides_go,on='user_id').merge(df_subscriptions_go,on='subscription_type')\n",
    "data.head()"
   ]
  },
  {
   "cell_type": "code",
   "execution_count": 32,
   "id": "b0ab5200",
   "metadata": {},
   "outputs": [
    {
     "name": "stdout",
     "output_type": "stream",
     "text": [
      "Размерность объединенного датафрейма: (18068, 12)\n",
      "Размерность исходного датафрейма df_users_go: (1534, 5)\n",
      "Размерность исходного датафрейма df_rides_go: (18068, 5)\n",
      "Размерность исходного датафрейма df_subscriptions_go: (2, 4)\n"
     ]
    }
   ],
   "source": [
    "print(\"Размерность объединенного датафрейма:\", data.shape)\n",
    "print(\"Размерность исходного датафрейма df_users_go:\", df_users_go.shape)\n",
    "print(\"Размерность исходного датафрейма df_rides_go:\", df_rides_go.shape)\n",
    "print(\"Размерность исходного датафрейма df_subscriptions_go:\", df_subscriptions_go.shape)"
   ]
  },
  {
   "cell_type": "markdown",
   "id": "f3677ccb",
   "metadata": {},
   "source": [
    "Проверим размерность полученной таблицы и сравним ее с размерностью таблиц до объединения. Убедимся что мы ничего не потеряли."
   ]
  },
  {
   "cell_type": "markdown",
   "id": "fb088008",
   "metadata": {},
   "source": [
    "### Создадим ещё два датафрейма из датафрейма:c данными о пользователях без подписки;с данными о пользователях с подпиской."
   ]
  },
  {
   "cell_type": "code",
   "execution_count": 33,
   "id": "691b5b6f",
   "metadata": {},
   "outputs": [
    {
     "data": {
      "text/html": [
       "<div>\n",
       "<style scoped>\n",
       "    .dataframe tbody tr th:only-of-type {\n",
       "        vertical-align: middle;\n",
       "    }\n",
       "\n",
       "    .dataframe tbody tr th {\n",
       "        vertical-align: top;\n",
       "    }\n",
       "\n",
       "    .dataframe thead th {\n",
       "        text-align: right;\n",
       "    }\n",
       "</style>\n",
       "<table border=\"1\" class=\"dataframe\">\n",
       "  <thead>\n",
       "    <tr style=\"text-align: right;\">\n",
       "      <th></th>\n",
       "      <th>user_id</th>\n",
       "      <th>name</th>\n",
       "      <th>age</th>\n",
       "      <th>city</th>\n",
       "      <th>subscription_type</th>\n",
       "      <th>distance</th>\n",
       "      <th>duration</th>\n",
       "      <th>date</th>\n",
       "      <th>month_rides</th>\n",
       "      <th>minute_price</th>\n",
       "      <th>start_ride_price</th>\n",
       "      <th>subscription_fee</th>\n",
       "    </tr>\n",
       "  </thead>\n",
       "  <tbody>\n",
       "    <tr>\n",
       "      <th>0</th>\n",
       "      <td>1</td>\n",
       "      <td>Кира</td>\n",
       "      <td>22</td>\n",
       "      <td>Тюмень</td>\n",
       "      <td>ultra</td>\n",
       "      <td>4409.919140</td>\n",
       "      <td>25.599769</td>\n",
       "      <td>2021-01-01</td>\n",
       "      <td>1</td>\n",
       "      <td>6</td>\n",
       "      <td>0</td>\n",
       "      <td>199</td>\n",
       "    </tr>\n",
       "    <tr>\n",
       "      <th>1</th>\n",
       "      <td>1</td>\n",
       "      <td>Кира</td>\n",
       "      <td>22</td>\n",
       "      <td>Тюмень</td>\n",
       "      <td>ultra</td>\n",
       "      <td>2617.592153</td>\n",
       "      <td>15.816871</td>\n",
       "      <td>2021-01-18</td>\n",
       "      <td>1</td>\n",
       "      <td>6</td>\n",
       "      <td>0</td>\n",
       "      <td>199</td>\n",
       "    </tr>\n",
       "    <tr>\n",
       "      <th>2</th>\n",
       "      <td>1</td>\n",
       "      <td>Кира</td>\n",
       "      <td>22</td>\n",
       "      <td>Тюмень</td>\n",
       "      <td>ultra</td>\n",
       "      <td>754.159807</td>\n",
       "      <td>6.232113</td>\n",
       "      <td>2021-04-20</td>\n",
       "      <td>4</td>\n",
       "      <td>6</td>\n",
       "      <td>0</td>\n",
       "      <td>199</td>\n",
       "    </tr>\n",
       "    <tr>\n",
       "      <th>3</th>\n",
       "      <td>1</td>\n",
       "      <td>Кира</td>\n",
       "      <td>22</td>\n",
       "      <td>Тюмень</td>\n",
       "      <td>ultra</td>\n",
       "      <td>2694.783254</td>\n",
       "      <td>18.511000</td>\n",
       "      <td>2021-08-11</td>\n",
       "      <td>8</td>\n",
       "      <td>6</td>\n",
       "      <td>0</td>\n",
       "      <td>199</td>\n",
       "    </tr>\n",
       "    <tr>\n",
       "      <th>4</th>\n",
       "      <td>1</td>\n",
       "      <td>Кира</td>\n",
       "      <td>22</td>\n",
       "      <td>Тюмень</td>\n",
       "      <td>ultra</td>\n",
       "      <td>4028.687306</td>\n",
       "      <td>26.265803</td>\n",
       "      <td>2021-08-28</td>\n",
       "      <td>8</td>\n",
       "      <td>6</td>\n",
       "      <td>0</td>\n",
       "      <td>199</td>\n",
       "    </tr>\n",
       "    <tr>\n",
       "      <th>...</th>\n",
       "      <td>...</td>\n",
       "      <td>...</td>\n",
       "      <td>...</td>\n",
       "      <td>...</td>\n",
       "      <td>...</td>\n",
       "      <td>...</td>\n",
       "      <td>...</td>\n",
       "      <td>...</td>\n",
       "      <td>...</td>\n",
       "      <td>...</td>\n",
       "      <td>...</td>\n",
       "      <td>...</td>\n",
       "    </tr>\n",
       "    <tr>\n",
       "      <th>6495</th>\n",
       "      <td>699</td>\n",
       "      <td>Оксана</td>\n",
       "      <td>22</td>\n",
       "      <td>Москва</td>\n",
       "      <td>ultra</td>\n",
       "      <td>3973.046497</td>\n",
       "      <td>24.671163</td>\n",
       "      <td>2021-08-29</td>\n",
       "      <td>8</td>\n",
       "      <td>6</td>\n",
       "      <td>0</td>\n",
       "      <td>199</td>\n",
       "    </tr>\n",
       "    <tr>\n",
       "      <th>6496</th>\n",
       "      <td>699</td>\n",
       "      <td>Оксана</td>\n",
       "      <td>22</td>\n",
       "      <td>Москва</td>\n",
       "      <td>ultra</td>\n",
       "      <td>3288.702563</td>\n",
       "      <td>15.892886</td>\n",
       "      <td>2021-09-12</td>\n",
       "      <td>9</td>\n",
       "      <td>6</td>\n",
       "      <td>0</td>\n",
       "      <td>199</td>\n",
       "    </tr>\n",
       "    <tr>\n",
       "      <th>6497</th>\n",
       "      <td>699</td>\n",
       "      <td>Оксана</td>\n",
       "      <td>22</td>\n",
       "      <td>Москва</td>\n",
       "      <td>ultra</td>\n",
       "      <td>3076.159348</td>\n",
       "      <td>14.389525</td>\n",
       "      <td>2021-09-26</td>\n",
       "      <td>9</td>\n",
       "      <td>6</td>\n",
       "      <td>0</td>\n",
       "      <td>199</td>\n",
       "    </tr>\n",
       "    <tr>\n",
       "      <th>6498</th>\n",
       "      <td>699</td>\n",
       "      <td>Оксана</td>\n",
       "      <td>22</td>\n",
       "      <td>Москва</td>\n",
       "      <td>ultra</td>\n",
       "      <td>4707.845501</td>\n",
       "      <td>15.839579</td>\n",
       "      <td>2021-10-17</td>\n",
       "      <td>10</td>\n",
       "      <td>6</td>\n",
       "      <td>0</td>\n",
       "      <td>199</td>\n",
       "    </tr>\n",
       "    <tr>\n",
       "      <th>6499</th>\n",
       "      <td>699</td>\n",
       "      <td>Оксана</td>\n",
       "      <td>22</td>\n",
       "      <td>Москва</td>\n",
       "      <td>ultra</td>\n",
       "      <td>3202.890770</td>\n",
       "      <td>25.217345</td>\n",
       "      <td>2021-12-03</td>\n",
       "      <td>12</td>\n",
       "      <td>6</td>\n",
       "      <td>0</td>\n",
       "      <td>199</td>\n",
       "    </tr>\n",
       "  </tbody>\n",
       "</table>\n",
       "<p>6500 rows × 12 columns</p>\n",
       "</div>"
      ],
      "text/plain": [
       "      user_id    name  age    city subscription_type     distance   duration  \\\n",
       "0           1    Кира   22  Тюмень             ultra  4409.919140  25.599769   \n",
       "1           1    Кира   22  Тюмень             ultra  2617.592153  15.816871   \n",
       "2           1    Кира   22  Тюмень             ultra   754.159807   6.232113   \n",
       "3           1    Кира   22  Тюмень             ultra  2694.783254  18.511000   \n",
       "4           1    Кира   22  Тюмень             ultra  4028.687306  26.265803   \n",
       "...       ...     ...  ...     ...               ...          ...        ...   \n",
       "6495      699  Оксана   22  Москва             ultra  3973.046497  24.671163   \n",
       "6496      699  Оксана   22  Москва             ultra  3288.702563  15.892886   \n",
       "6497      699  Оксана   22  Москва             ultra  3076.159348  14.389525   \n",
       "6498      699  Оксана   22  Москва             ultra  4707.845501  15.839579   \n",
       "6499      699  Оксана   22  Москва             ultra  3202.890770  25.217345   \n",
       "\n",
       "            date  month_rides  minute_price  start_ride_price  \\\n",
       "0     2021-01-01            1             6                 0   \n",
       "1     2021-01-18            1             6                 0   \n",
       "2     2021-04-20            4             6                 0   \n",
       "3     2021-08-11            8             6                 0   \n",
       "4     2021-08-28            8             6                 0   \n",
       "...          ...          ...           ...               ...   \n",
       "6495  2021-08-29            8             6                 0   \n",
       "6496  2021-09-12            9             6                 0   \n",
       "6497  2021-09-26            9             6                 0   \n",
       "6498  2021-10-17           10             6                 0   \n",
       "6499  2021-12-03           12             6                 0   \n",
       "\n",
       "      subscription_fee  \n",
       "0                  199  \n",
       "1                  199  \n",
       "2                  199  \n",
       "3                  199  \n",
       "4                  199  \n",
       "...                ...  \n",
       "6495               199  \n",
       "6496               199  \n",
       "6497               199  \n",
       "6498               199  \n",
       "6499               199  \n",
       "\n",
       "[6500 rows x 12 columns]"
      ]
     },
     "execution_count": 33,
     "metadata": {},
     "output_type": "execute_result"
    }
   ],
   "source": [
    "data_subscription_ultra = data.loc[(data['subscription_type'] == 'ultra')]\n",
    "data_subscription_ultra"
   ]
  },
  {
   "cell_type": "code",
   "execution_count": 34,
   "id": "01d1df54",
   "metadata": {},
   "outputs": [
    {
     "data": {
      "text/html": [
       "<div>\n",
       "<style scoped>\n",
       "    .dataframe tbody tr th:only-of-type {\n",
       "        vertical-align: middle;\n",
       "    }\n",
       "\n",
       "    .dataframe tbody tr th {\n",
       "        vertical-align: top;\n",
       "    }\n",
       "\n",
       "    .dataframe thead th {\n",
       "        text-align: right;\n",
       "    }\n",
       "</style>\n",
       "<table border=\"1\" class=\"dataframe\">\n",
       "  <thead>\n",
       "    <tr style=\"text-align: right;\">\n",
       "      <th></th>\n",
       "      <th>user_id</th>\n",
       "      <th>name</th>\n",
       "      <th>age</th>\n",
       "      <th>city</th>\n",
       "      <th>subscription_type</th>\n",
       "      <th>distance</th>\n",
       "      <th>duration</th>\n",
       "      <th>date</th>\n",
       "      <th>month_rides</th>\n",
       "      <th>minute_price</th>\n",
       "      <th>start_ride_price</th>\n",
       "      <th>subscription_fee</th>\n",
       "    </tr>\n",
       "  </thead>\n",
       "  <tbody>\n",
       "    <tr>\n",
       "      <th>6500</th>\n",
       "      <td>700</td>\n",
       "      <td>Айдар</td>\n",
       "      <td>22</td>\n",
       "      <td>Омск</td>\n",
       "      <td>free</td>\n",
       "      <td>2515.690719</td>\n",
       "      <td>14.944286</td>\n",
       "      <td>2021-01-02</td>\n",
       "      <td>1</td>\n",
       "      <td>8</td>\n",
       "      <td>50</td>\n",
       "      <td>0</td>\n",
       "    </tr>\n",
       "    <tr>\n",
       "      <th>6501</th>\n",
       "      <td>700</td>\n",
       "      <td>Айдар</td>\n",
       "      <td>22</td>\n",
       "      <td>Омск</td>\n",
       "      <td>free</td>\n",
       "      <td>846.932642</td>\n",
       "      <td>16.234663</td>\n",
       "      <td>2021-02-01</td>\n",
       "      <td>2</td>\n",
       "      <td>8</td>\n",
       "      <td>50</td>\n",
       "      <td>0</td>\n",
       "    </tr>\n",
       "    <tr>\n",
       "      <th>6502</th>\n",
       "      <td>700</td>\n",
       "      <td>Айдар</td>\n",
       "      <td>22</td>\n",
       "      <td>Омск</td>\n",
       "      <td>free</td>\n",
       "      <td>4004.434142</td>\n",
       "      <td>20.016628</td>\n",
       "      <td>2021-02-04</td>\n",
       "      <td>2</td>\n",
       "      <td>8</td>\n",
       "      <td>50</td>\n",
       "      <td>0</td>\n",
       "    </tr>\n",
       "    <tr>\n",
       "      <th>6503</th>\n",
       "      <td>700</td>\n",
       "      <td>Айдар</td>\n",
       "      <td>22</td>\n",
       "      <td>Омск</td>\n",
       "      <td>free</td>\n",
       "      <td>1205.911290</td>\n",
       "      <td>9.782872</td>\n",
       "      <td>2021-02-10</td>\n",
       "      <td>2</td>\n",
       "      <td>8</td>\n",
       "      <td>50</td>\n",
       "      <td>0</td>\n",
       "    </tr>\n",
       "    <tr>\n",
       "      <th>6504</th>\n",
       "      <td>700</td>\n",
       "      <td>Айдар</td>\n",
       "      <td>22</td>\n",
       "      <td>Омск</td>\n",
       "      <td>free</td>\n",
       "      <td>3047.379435</td>\n",
       "      <td>17.427673</td>\n",
       "      <td>2021-02-14</td>\n",
       "      <td>2</td>\n",
       "      <td>8</td>\n",
       "      <td>50</td>\n",
       "      <td>0</td>\n",
       "    </tr>\n",
       "    <tr>\n",
       "      <th>...</th>\n",
       "      <td>...</td>\n",
       "      <td>...</td>\n",
       "      <td>...</td>\n",
       "      <td>...</td>\n",
       "      <td>...</td>\n",
       "      <td>...</td>\n",
       "      <td>...</td>\n",
       "      <td>...</td>\n",
       "      <td>...</td>\n",
       "      <td>...</td>\n",
       "      <td>...</td>\n",
       "      <td>...</td>\n",
       "    </tr>\n",
       "    <tr>\n",
       "      <th>18063</th>\n",
       "      <td>1534</td>\n",
       "      <td>Альберт</td>\n",
       "      <td>25</td>\n",
       "      <td>Краснодар</td>\n",
       "      <td>free</td>\n",
       "      <td>3781.098080</td>\n",
       "      <td>19.822962</td>\n",
       "      <td>2021-11-04</td>\n",
       "      <td>11</td>\n",
       "      <td>8</td>\n",
       "      <td>50</td>\n",
       "      <td>0</td>\n",
       "    </tr>\n",
       "    <tr>\n",
       "      <th>18064</th>\n",
       "      <td>1534</td>\n",
       "      <td>Альберт</td>\n",
       "      <td>25</td>\n",
       "      <td>Краснодар</td>\n",
       "      <td>free</td>\n",
       "      <td>2840.423057</td>\n",
       "      <td>21.409799</td>\n",
       "      <td>2021-11-16</td>\n",
       "      <td>11</td>\n",
       "      <td>8</td>\n",
       "      <td>50</td>\n",
       "      <td>0</td>\n",
       "    </tr>\n",
       "    <tr>\n",
       "      <th>18065</th>\n",
       "      <td>1534</td>\n",
       "      <td>Альберт</td>\n",
       "      <td>25</td>\n",
       "      <td>Краснодар</td>\n",
       "      <td>free</td>\n",
       "      <td>3826.185507</td>\n",
       "      <td>18.435051</td>\n",
       "      <td>2021-11-18</td>\n",
       "      <td>11</td>\n",
       "      <td>8</td>\n",
       "      <td>50</td>\n",
       "      <td>0</td>\n",
       "    </tr>\n",
       "    <tr>\n",
       "      <th>18066</th>\n",
       "      <td>1534</td>\n",
       "      <td>Альберт</td>\n",
       "      <td>25</td>\n",
       "      <td>Краснодар</td>\n",
       "      <td>free</td>\n",
       "      <td>2902.308661</td>\n",
       "      <td>16.674362</td>\n",
       "      <td>2021-11-27</td>\n",
       "      <td>11</td>\n",
       "      <td>8</td>\n",
       "      <td>50</td>\n",
       "      <td>0</td>\n",
       "    </tr>\n",
       "    <tr>\n",
       "      <th>18067</th>\n",
       "      <td>1534</td>\n",
       "      <td>Альберт</td>\n",
       "      <td>25</td>\n",
       "      <td>Краснодар</td>\n",
       "      <td>free</td>\n",
       "      <td>2371.711192</td>\n",
       "      <td>15.893917</td>\n",
       "      <td>2021-12-29</td>\n",
       "      <td>12</td>\n",
       "      <td>8</td>\n",
       "      <td>50</td>\n",
       "      <td>0</td>\n",
       "    </tr>\n",
       "  </tbody>\n",
       "</table>\n",
       "<p>11568 rows × 12 columns</p>\n",
       "</div>"
      ],
      "text/plain": [
       "       user_id     name  age       city subscription_type     distance  \\\n",
       "6500       700    Айдар   22       Омск              free  2515.690719   \n",
       "6501       700    Айдар   22       Омск              free   846.932642   \n",
       "6502       700    Айдар   22       Омск              free  4004.434142   \n",
       "6503       700    Айдар   22       Омск              free  1205.911290   \n",
       "6504       700    Айдар   22       Омск              free  3047.379435   \n",
       "...        ...      ...  ...        ...               ...          ...   \n",
       "18063     1534  Альберт   25  Краснодар              free  3781.098080   \n",
       "18064     1534  Альберт   25  Краснодар              free  2840.423057   \n",
       "18065     1534  Альберт   25  Краснодар              free  3826.185507   \n",
       "18066     1534  Альберт   25  Краснодар              free  2902.308661   \n",
       "18067     1534  Альберт   25  Краснодар              free  2371.711192   \n",
       "\n",
       "        duration        date  month_rides  minute_price  start_ride_price  \\\n",
       "6500   14.944286  2021-01-02            1             8                50   \n",
       "6501   16.234663  2021-02-01            2             8                50   \n",
       "6502   20.016628  2021-02-04            2             8                50   \n",
       "6503    9.782872  2021-02-10            2             8                50   \n",
       "6504   17.427673  2021-02-14            2             8                50   \n",
       "...          ...         ...          ...           ...               ...   \n",
       "18063  19.822962  2021-11-04           11             8                50   \n",
       "18064  21.409799  2021-11-16           11             8                50   \n",
       "18065  18.435051  2021-11-18           11             8                50   \n",
       "18066  16.674362  2021-11-27           11             8                50   \n",
       "18067  15.893917  2021-12-29           12             8                50   \n",
       "\n",
       "       subscription_fee  \n",
       "6500                  0  \n",
       "6501                  0  \n",
       "6502                  0  \n",
       "6503                  0  \n",
       "6504                  0  \n",
       "...                 ...  \n",
       "18063                 0  \n",
       "18064                 0  \n",
       "18065                 0  \n",
       "18066                 0  \n",
       "18067                 0  \n",
       "\n",
       "[11568 rows x 12 columns]"
      ]
     },
     "execution_count": 34,
     "metadata": {},
     "output_type": "execute_result"
    }
   ],
   "source": [
    "data_subscription_free = data.loc[(data['subscription_type'] == 'free')]\n",
    "data_subscription_free"
   ]
  },
  {
   "cell_type": "markdown",
   "id": "607a7009",
   "metadata": {},
   "source": [
    "###  Визуализируем информацию о расстоянии и времени поездок для пользователей обеих категорий."
   ]
  },
  {
   "cell_type": "code",
   "execution_count": 38,
   "id": "26c714bb",
   "metadata": {},
   "outputs": [
    {
     "data": {
      "image/png": "[encoded data removed]",
      "text/plain": [
       "<Figure size 720x432 with 1 Axes>"
      ]
     },
     "metadata": {
      "needs_background": "light"
     },
     "output_type": "display_data"
    }
   ],
   "source": [
    "plt.figure(figsize=(10, 6))\n",
    "plt.hist(data_subscription_ultra['duration'], bins=100, alpha=0.6, label='С подпиской Ultra')\n",
    "plt.hist(data_subscription_free['duration'], bins=100, alpha=0.6, label='Без подписки')\n",
    "plt.xlabel('Продолжительность одной сессии (в минутах) ')\n",
    "plt.ylabel('Частота')\n",
    "plt.title('Распределение времени поездок для пользователей')\n",
    "plt.legend()\n",
    "plt.show()"
   ]
  },
  {
   "cell_type": "markdown",
   "id": "b6785768",
   "metadata": {},
   "source": [
    "\n",
    "Распределения для обеих групп пользователей объединим для наглядности, наложив их друг на друга. Заметим,что пик около 0 наблюдается в данных без подписки,это может свидетельствовать о том,что пользователь тратит время на изучение приложения по использованию самоката,в этот момент самокат стоит на месте и программа фиксирует эти показания как 0,либо пользователь совершает попытки сменить самокат. \n"
   ]
  },
  {
   "cell_type": "markdown",
   "id": "82efda23",
   "metadata": {},
   "source": [
    "## Подсчёт выручки"
   ]
  },
  {
   "cell_type": "markdown",
   "id": "7de75a76",
   "metadata": {},
   "source": [
    "###  Создадим датафрейм с агрегированными данными о поездках на основе датафрейма с объединёнными данными: найдем  суммарное расстояние, количество поездок и суммарное время для каждого пользователя за каждый месяц."
   ]
  },
  {
   "cell_type": "code",
   "execution_count": 39,
   "id": "c3fb6edf",
   "metadata": {},
   "outputs": [
    {
     "data": {
      "text/html": [
       "<div>\n",
       "<style scoped>\n",
       "    .dataframe tbody tr th:only-of-type {\n",
       "        vertical-align: middle;\n",
       "    }\n",
       "\n",
       "    .dataframe tbody tr th {\n",
       "        vertical-align: top;\n",
       "    }\n",
       "\n",
       "    .dataframe thead th {\n",
       "        text-align: right;\n",
       "    }\n",
       "</style>\n",
       "<table border=\"1\" class=\"dataframe\">\n",
       "  <thead>\n",
       "    <tr style=\"text-align: right;\">\n",
       "      <th></th>\n",
       "      <th>user_id</th>\n",
       "      <th>name</th>\n",
       "      <th>age</th>\n",
       "      <th>city</th>\n",
       "      <th>subscription_type</th>\n",
       "      <th>distance</th>\n",
       "      <th>duration</th>\n",
       "      <th>date</th>\n",
       "      <th>month_rides</th>\n",
       "      <th>minute_price</th>\n",
       "      <th>start_ride_price</th>\n",
       "      <th>subscription_fee</th>\n",
       "      <th>rounded_duration</th>\n",
       "    </tr>\n",
       "  </thead>\n",
       "  <tbody>\n",
       "    <tr>\n",
       "      <th>0</th>\n",
       "      <td>1</td>\n",
       "      <td>Кира</td>\n",
       "      <td>22</td>\n",
       "      <td>Тюмень</td>\n",
       "      <td>ultra</td>\n",
       "      <td>4409.919140</td>\n",
       "      <td>25.599769</td>\n",
       "      <td>2021-01-01</td>\n",
       "      <td>1</td>\n",
       "      <td>6</td>\n",
       "      <td>0</td>\n",
       "      <td>199</td>\n",
       "      <td>26</td>\n",
       "    </tr>\n",
       "    <tr>\n",
       "      <th>1</th>\n",
       "      <td>1</td>\n",
       "      <td>Кира</td>\n",
       "      <td>22</td>\n",
       "      <td>Тюмень</td>\n",
       "      <td>ultra</td>\n",
       "      <td>2617.592153</td>\n",
       "      <td>15.816871</td>\n",
       "      <td>2021-01-18</td>\n",
       "      <td>1</td>\n",
       "      <td>6</td>\n",
       "      <td>0</td>\n",
       "      <td>199</td>\n",
       "      <td>16</td>\n",
       "    </tr>\n",
       "    <tr>\n",
       "      <th>2</th>\n",
       "      <td>1</td>\n",
       "      <td>Кира</td>\n",
       "      <td>22</td>\n",
       "      <td>Тюмень</td>\n",
       "      <td>ultra</td>\n",
       "      <td>754.159807</td>\n",
       "      <td>6.232113</td>\n",
       "      <td>2021-04-20</td>\n",
       "      <td>4</td>\n",
       "      <td>6</td>\n",
       "      <td>0</td>\n",
       "      <td>199</td>\n",
       "      <td>7</td>\n",
       "    </tr>\n",
       "    <tr>\n",
       "      <th>3</th>\n",
       "      <td>1</td>\n",
       "      <td>Кира</td>\n",
       "      <td>22</td>\n",
       "      <td>Тюмень</td>\n",
       "      <td>ultra</td>\n",
       "      <td>2694.783254</td>\n",
       "      <td>18.511000</td>\n",
       "      <td>2021-08-11</td>\n",
       "      <td>8</td>\n",
       "      <td>6</td>\n",
       "      <td>0</td>\n",
       "      <td>199</td>\n",
       "      <td>19</td>\n",
       "    </tr>\n",
       "    <tr>\n",
       "      <th>4</th>\n",
       "      <td>1</td>\n",
       "      <td>Кира</td>\n",
       "      <td>22</td>\n",
       "      <td>Тюмень</td>\n",
       "      <td>ultra</td>\n",
       "      <td>4028.687306</td>\n",
       "      <td>26.265803</td>\n",
       "      <td>2021-08-28</td>\n",
       "      <td>8</td>\n",
       "      <td>6</td>\n",
       "      <td>0</td>\n",
       "      <td>199</td>\n",
       "      <td>27</td>\n",
       "    </tr>\n",
       "  </tbody>\n",
       "</table>\n",
       "</div>"
      ],
      "text/plain": [
       "   user_id  name  age    city subscription_type     distance   duration  \\\n",
       "0        1  Кира   22  Тюмень             ultra  4409.919140  25.599769   \n",
       "1        1  Кира   22  Тюмень             ultra  2617.592153  15.816871   \n",
       "2        1  Кира   22  Тюмень             ultra   754.159807   6.232113   \n",
       "3        1  Кира   22  Тюмень             ultra  2694.783254  18.511000   \n",
       "4        1  Кира   22  Тюмень             ultra  4028.687306  26.265803   \n",
       "\n",
       "         date  month_rides  minute_price  start_ride_price  subscription_fee  \\\n",
       "0  2021-01-01            1             6                 0               199   \n",
       "1  2021-01-18            1             6                 0               199   \n",
       "2  2021-04-20            4             6                 0               199   \n",
       "3  2021-08-11            8             6                 0               199   \n",
       "4  2021-08-28            8             6                 0               199   \n",
       "\n",
       "   rounded_duration  \n",
       "0                26  \n",
       "1                16  \n",
       "2                 7  \n",
       "3                19  \n",
       "4                27  "
      ]
     },
     "execution_count": 39,
     "metadata": {},
     "output_type": "execute_result"
    }
   ],
   "source": [
    "data['rounded_duration'] = np.ceil(data['duration']).astype(int)\n",
    "data.head()"
   ]
  },
  {
   "cell_type": "markdown",
   "id": "d4efed7a",
   "metadata": {},
   "source": [
    "Перед построением сводной таблицы и расчетом выручки длительность каждой поездки округлим до целой минуты(до следующего целого числа). ✔\n"
   ]
  },
  {
   "cell_type": "code",
   "execution_count": 40,
   "id": "c9864262",
   "metadata": {},
   "outputs": [
    {
     "data": {
      "text/html": [
       "<div>\n",
       "<style scoped>\n",
       "    .dataframe tbody tr th:only-of-type {\n",
       "        vertical-align: middle;\n",
       "    }\n",
       "\n",
       "    .dataframe tbody tr th {\n",
       "        vertical-align: top;\n",
       "    }\n",
       "\n",
       "    .dataframe thead tr th {\n",
       "        text-align: left;\n",
       "    }\n",
       "</style>\n",
       "<table border=\"1\" class=\"dataframe\">\n",
       "  <thead>\n",
       "    <tr>\n",
       "      <th></th>\n",
       "      <th>user_id</th>\n",
       "      <th>month_rides</th>\n",
       "      <th>subscription_type</th>\n",
       "      <th>distance</th>\n",
       "    </tr>\n",
       "    <tr>\n",
       "      <th></th>\n",
       "      <th></th>\n",
       "      <th></th>\n",
       "      <th></th>\n",
       "      <th>sum</th>\n",
       "    </tr>\n",
       "  </thead>\n",
       "  <tbody>\n",
       "    <tr>\n",
       "      <th>0</th>\n",
       "      <td>1</td>\n",
       "      <td>1</td>\n",
       "      <td>ultra</td>\n",
       "      <td>7027.511294</td>\n",
       "    </tr>\n",
       "    <tr>\n",
       "      <th>1</th>\n",
       "      <td>1</td>\n",
       "      <td>4</td>\n",
       "      <td>ultra</td>\n",
       "      <td>754.159807</td>\n",
       "    </tr>\n",
       "    <tr>\n",
       "      <th>2</th>\n",
       "      <td>1</td>\n",
       "      <td>8</td>\n",
       "      <td>ultra</td>\n",
       "      <td>6723.470560</td>\n",
       "    </tr>\n",
       "    <tr>\n",
       "      <th>3</th>\n",
       "      <td>1</td>\n",
       "      <td>10</td>\n",
       "      <td>ultra</td>\n",
       "      <td>5809.911100</td>\n",
       "    </tr>\n",
       "    <tr>\n",
       "      <th>4</th>\n",
       "      <td>1</td>\n",
       "      <td>11</td>\n",
       "      <td>ultra</td>\n",
       "      <td>7003.499363</td>\n",
       "    </tr>\n",
       "  </tbody>\n",
       "</table>\n",
       "</div>"
      ],
      "text/plain": [
       "  user_id month_rides subscription_type     distance\n",
       "                                                 sum\n",
       "0       1           1             ultra  7027.511294\n",
       "1       1           4             ultra   754.159807\n",
       "2       1           8             ultra  6723.470560\n",
       "3       1          10             ultra  5809.911100\n",
       "4       1          11             ultra  7003.499363"
      ]
     },
     "execution_count": 40,
     "metadata": {},
     "output_type": "execute_result"
    }
   ],
   "source": [
    "sum_distance = data.groupby(['user_id', 'month_rides', 'subscription_type']).agg({'distance': ['sum']}). reset_index()\n",
    "sum_distance.head()"
   ]
  },
  {
   "cell_type": "code",
   "execution_count": 41,
   "id": "97035e0c",
   "metadata": {},
   "outputs": [
    {
     "data": {
      "text/html": [
       "<div>\n",
       "<style scoped>\n",
       "    .dataframe tbody tr th:only-of-type {\n",
       "        vertical-align: middle;\n",
       "    }\n",
       "\n",
       "    .dataframe tbody tr th {\n",
       "        vertical-align: top;\n",
       "    }\n",
       "\n",
       "    .dataframe thead th {\n",
       "        text-align: right;\n",
       "    }\n",
       "</style>\n",
       "<table border=\"1\" class=\"dataframe\">\n",
       "  <thead>\n",
       "    <tr style=\"text-align: right;\">\n",
       "      <th></th>\n",
       "      <th>user_id</th>\n",
       "      <th>month_rides</th>\n",
       "      <th>subscription_type</th>\n",
       "      <th>duration_count</th>\n",
       "    </tr>\n",
       "  </thead>\n",
       "  <tbody>\n",
       "    <tr>\n",
       "      <th>0</th>\n",
       "      <td>1</td>\n",
       "      <td>1</td>\n",
       "      <td>ultra</td>\n",
       "      <td>2</td>\n",
       "    </tr>\n",
       "    <tr>\n",
       "      <th>1</th>\n",
       "      <td>1</td>\n",
       "      <td>4</td>\n",
       "      <td>ultra</td>\n",
       "      <td>1</td>\n",
       "    </tr>\n",
       "    <tr>\n",
       "      <th>2</th>\n",
       "      <td>1</td>\n",
       "      <td>8</td>\n",
       "      <td>ultra</td>\n",
       "      <td>2</td>\n",
       "    </tr>\n",
       "    <tr>\n",
       "      <th>3</th>\n",
       "      <td>1</td>\n",
       "      <td>10</td>\n",
       "      <td>ultra</td>\n",
       "      <td>2</td>\n",
       "    </tr>\n",
       "    <tr>\n",
       "      <th>4</th>\n",
       "      <td>1</td>\n",
       "      <td>11</td>\n",
       "      <td>ultra</td>\n",
       "      <td>3</td>\n",
       "    </tr>\n",
       "  </tbody>\n",
       "</table>\n",
       "</div>"
      ],
      "text/plain": [
       "   user_id  month_rides subscription_type  duration_count\n",
       "0        1            1             ultra               2\n",
       "1        1            4             ultra               1\n",
       "2        1            8             ultra               2\n",
       "3        1           10             ultra               2\n",
       "4        1           11             ultra               3"
      ]
     },
     "execution_count": 41,
     "metadata": {},
     "output_type": "execute_result"
    }
   ],
   "source": [
    "count_duration = data.groupby(['user_id', 'month_rides', 'subscription_type']).agg({'duration': ['count']}). reset_index()\n",
    "count_duration.columns = ['user_id', 'month_rides', 'subscription_type', 'duration_count']\n",
    "count_duration.head()"
   ]
  },
  {
   "cell_type": "code",
   "execution_count": 42,
   "id": "75480a0e",
   "metadata": {},
   "outputs": [
    {
     "data": {
      "text/html": [
       "<div>\n",
       "<style scoped>\n",
       "    .dataframe tbody tr th:only-of-type {\n",
       "        vertical-align: middle;\n",
       "    }\n",
       "\n",
       "    .dataframe tbody tr th {\n",
       "        vertical-align: top;\n",
       "    }\n",
       "\n",
       "    .dataframe thead th {\n",
       "        text-align: right;\n",
       "    }\n",
       "</style>\n",
       "<table border=\"1\" class=\"dataframe\">\n",
       "  <thead>\n",
       "    <tr style=\"text-align: right;\">\n",
       "      <th></th>\n",
       "      <th>user_id</th>\n",
       "      <th>month_rides</th>\n",
       "      <th>subscription_type</th>\n",
       "      <th>duration_sum</th>\n",
       "    </tr>\n",
       "  </thead>\n",
       "  <tbody>\n",
       "    <tr>\n",
       "      <th>0</th>\n",
       "      <td>1</td>\n",
       "      <td>1</td>\n",
       "      <td>ultra</td>\n",
       "      <td>41.416640</td>\n",
       "    </tr>\n",
       "    <tr>\n",
       "      <th>1</th>\n",
       "      <td>1</td>\n",
       "      <td>4</td>\n",
       "      <td>ultra</td>\n",
       "      <td>6.232113</td>\n",
       "    </tr>\n",
       "    <tr>\n",
       "      <th>2</th>\n",
       "      <td>1</td>\n",
       "      <td>8</td>\n",
       "      <td>ultra</td>\n",
       "      <td>44.776802</td>\n",
       "    </tr>\n",
       "    <tr>\n",
       "      <th>3</th>\n",
       "      <td>1</td>\n",
       "      <td>10</td>\n",
       "      <td>ultra</td>\n",
       "      <td>31.578017</td>\n",
       "    </tr>\n",
       "    <tr>\n",
       "      <th>4</th>\n",
       "      <td>1</td>\n",
       "      <td>11</td>\n",
       "      <td>ultra</td>\n",
       "      <td>53.397424</td>\n",
       "    </tr>\n",
       "  </tbody>\n",
       "</table>\n",
       "</div>"
      ],
      "text/plain": [
       "   user_id  month_rides subscription_type  duration_sum\n",
       "0        1            1             ultra     41.416640\n",
       "1        1            4             ultra      6.232113\n",
       "2        1            8             ultra     44.776802\n",
       "3        1           10             ultra     31.578017\n",
       "4        1           11             ultra     53.397424"
      ]
     },
     "execution_count": 42,
     "metadata": {},
     "output_type": "execute_result"
    }
   ],
   "source": [
    "sum_duration = data.groupby(['user_id', 'month_rides', 'subscription_type']).agg({'duration': ['sum']}). reset_index()\n",
    "sum_duration.columns = ['user_id', 'month_rides', 'subscription_type', 'duration_sum']\n",
    "sum_duration.head()"
   ]
  },
  {
   "cell_type": "markdown",
   "id": "f3a0247d",
   "metadata": {},
   "source": [
    "### В этот же датафрейм добавим столбец с помесячной выручкой, которую принёс каждый пользователь. Для этого обратимся к информации об условиях оплаты для подписчиков и тех, у кого нет подписки. Продолжительность каждой поездки в каждой строке исходного датафрейма для подсчёта стоимости округляется до следующего целого числа."
   ]
  },
  {
   "cell_type": "code",
   "execution_count": 43,
   "id": "5341fabd",
   "metadata": {},
   "outputs": [
    {
     "data": {
      "text/html": [
       "<div>\n",
       "<style scoped>\n",
       "    .dataframe tbody tr th:only-of-type {\n",
       "        vertical-align: middle;\n",
       "    }\n",
       "\n",
       "    .dataframe tbody tr th {\n",
       "        vertical-align: top;\n",
       "    }\n",
       "\n",
       "    .dataframe thead th {\n",
       "        text-align: right;\n",
       "    }\n",
       "</style>\n",
       "<table border=\"1\" class=\"dataframe\">\n",
       "  <thead>\n",
       "    <tr style=\"text-align: right;\">\n",
       "      <th></th>\n",
       "      <th>user_id</th>\n",
       "      <th>name</th>\n",
       "      <th>age</th>\n",
       "      <th>city</th>\n",
       "      <th>subscription_type</th>\n",
       "      <th>distance</th>\n",
       "      <th>duration</th>\n",
       "      <th>date</th>\n",
       "      <th>month_rides</th>\n",
       "      <th>minute_price</th>\n",
       "      <th>start_ride_price</th>\n",
       "      <th>subscription_fee</th>\n",
       "      <th>rounded_duration</th>\n",
       "      <th>monthly_revenue</th>\n",
       "    </tr>\n",
       "  </thead>\n",
       "  <tbody>\n",
       "    <tr>\n",
       "      <th>0</th>\n",
       "      <td>1</td>\n",
       "      <td>Кира</td>\n",
       "      <td>22</td>\n",
       "      <td>Тюмень</td>\n",
       "      <td>ultra</td>\n",
       "      <td>4409.919140</td>\n",
       "      <td>25.599769</td>\n",
       "      <td>2021-01-01</td>\n",
       "      <td>1</td>\n",
       "      <td>6</td>\n",
       "      <td>0</td>\n",
       "      <td>199</td>\n",
       "      <td>26</td>\n",
       "      <td>448.0</td>\n",
       "    </tr>\n",
       "    <tr>\n",
       "      <th>1</th>\n",
       "      <td>1</td>\n",
       "      <td>Кира</td>\n",
       "      <td>22</td>\n",
       "      <td>Тюмень</td>\n",
       "      <td>ultra</td>\n",
       "      <td>2617.592153</td>\n",
       "      <td>15.816871</td>\n",
       "      <td>2021-01-18</td>\n",
       "      <td>1</td>\n",
       "      <td>6</td>\n",
       "      <td>0</td>\n",
       "      <td>199</td>\n",
       "      <td>16</td>\n",
       "      <td>237.0</td>\n",
       "    </tr>\n",
       "    <tr>\n",
       "      <th>2</th>\n",
       "      <td>1</td>\n",
       "      <td>Кира</td>\n",
       "      <td>22</td>\n",
       "      <td>Тюмень</td>\n",
       "      <td>ultra</td>\n",
       "      <td>754.159807</td>\n",
       "      <td>6.232113</td>\n",
       "      <td>2021-04-20</td>\n",
       "      <td>4</td>\n",
       "      <td>6</td>\n",
       "      <td>0</td>\n",
       "      <td>199</td>\n",
       "      <td>7</td>\n",
       "      <td>468.0</td>\n",
       "    </tr>\n",
       "    <tr>\n",
       "      <th>3</th>\n",
       "      <td>1</td>\n",
       "      <td>Кира</td>\n",
       "      <td>22</td>\n",
       "      <td>Тюмень</td>\n",
       "      <td>ultra</td>\n",
       "      <td>2694.783254</td>\n",
       "      <td>18.511000</td>\n",
       "      <td>2021-08-11</td>\n",
       "      <td>8</td>\n",
       "      <td>6</td>\n",
       "      <td>0</td>\n",
       "      <td>199</td>\n",
       "      <td>19</td>\n",
       "      <td>389.0</td>\n",
       "    </tr>\n",
       "    <tr>\n",
       "      <th>4</th>\n",
       "      <td>1</td>\n",
       "      <td>Кира</td>\n",
       "      <td>22</td>\n",
       "      <td>Тюмень</td>\n",
       "      <td>ultra</td>\n",
       "      <td>4028.687306</td>\n",
       "      <td>26.265803</td>\n",
       "      <td>2021-08-28</td>\n",
       "      <td>8</td>\n",
       "      <td>6</td>\n",
       "      <td>0</td>\n",
       "      <td>199</td>\n",
       "      <td>27</td>\n",
       "      <td>520.0</td>\n",
       "    </tr>\n",
       "  </tbody>\n",
       "</table>\n",
       "</div>"
      ],
      "text/plain": [
       "   user_id  name  age    city subscription_type     distance   duration  \\\n",
       "0        1  Кира   22  Тюмень             ultra  4409.919140  25.599769   \n",
       "1        1  Кира   22  Тюмень             ultra  2617.592153  15.816871   \n",
       "2        1  Кира   22  Тюмень             ultra   754.159807   6.232113   \n",
       "3        1  Кира   22  Тюмень             ultra  2694.783254  18.511000   \n",
       "4        1  Кира   22  Тюмень             ultra  4028.687306  26.265803   \n",
       "\n",
       "         date  month_rides  minute_price  start_ride_price  subscription_fee  \\\n",
       "0  2021-01-01            1             6                 0               199   \n",
       "1  2021-01-18            1             6                 0               199   \n",
       "2  2021-04-20            4             6                 0               199   \n",
       "3  2021-08-11            8             6                 0               199   \n",
       "4  2021-08-28            8             6                 0               199   \n",
       "\n",
       "   rounded_duration  monthly_revenue  \n",
       "0                26            448.0  \n",
       "1                16            237.0  \n",
       "2                 7            468.0  \n",
       "3                19            389.0  \n",
       "4                27            520.0  "
      ]
     },
     "execution_count": 43,
     "metadata": {},
     "output_type": "execute_result"
    }
   ],
   "source": [
    "data['monthly_revenue'] = np.ceil((data['start_ride_price']*count_duration['duration_count']) + \\\n",
    "    (data['minute_price']* sum_duration['duration_sum']) + data['subscription_fee'])\n",
    "data.head()"
   ]
  },
  {
   "cell_type": "code",
   "execution_count": 46,
   "id": "0d26e914",
   "metadata": {},
   "outputs": [
    {
     "data": {
      "text/html": [
       "<div>\n",
       "<style scoped>\n",
       "    .dataframe tbody tr th:only-of-type {\n",
       "        vertical-align: middle;\n",
       "    }\n",
       "\n",
       "    .dataframe tbody tr th {\n",
       "        vertical-align: top;\n",
       "    }\n",
       "\n",
       "    .dataframe thead th {\n",
       "        text-align: right;\n",
       "    }\n",
       "</style>\n",
       "<table border=\"1\" class=\"dataframe\">\n",
       "  <thead>\n",
       "    <tr style=\"text-align: right;\">\n",
       "      <th></th>\n",
       "      <th></th>\n",
       "      <th>total_trips</th>\n",
       "      <th>total_distance</th>\n",
       "      <th>minute_price</th>\n",
       "      <th>total_duration</th>\n",
       "      <th>start_ride_price</th>\n",
       "      <th>subscription_fee</th>\n",
       "      <th>revenue</th>\n",
       "    </tr>\n",
       "    <tr>\n",
       "      <th>user_id</th>\n",
       "      <th>month_rides</th>\n",
       "      <th></th>\n",
       "      <th></th>\n",
       "      <th></th>\n",
       "      <th></th>\n",
       "      <th></th>\n",
       "      <th></th>\n",
       "      <th></th>\n",
       "    </tr>\n",
       "  </thead>\n",
       "  <tbody>\n",
       "    <tr>\n",
       "      <th rowspan=\"5\" valign=\"top\">1</th>\n",
       "      <th>1</th>\n",
       "      <td>2</td>\n",
       "      <td>7027.511294</td>\n",
       "      <td>6</td>\n",
       "      <td>42</td>\n",
       "      <td>0</td>\n",
       "      <td>199</td>\n",
       "      <td>451</td>\n",
       "    </tr>\n",
       "    <tr>\n",
       "      <th>4</th>\n",
       "      <td>1</td>\n",
       "      <td>754.159807</td>\n",
       "      <td>6</td>\n",
       "      <td>7</td>\n",
       "      <td>0</td>\n",
       "      <td>199</td>\n",
       "      <td>241</td>\n",
       "    </tr>\n",
       "    <tr>\n",
       "      <th>8</th>\n",
       "      <td>2</td>\n",
       "      <td>6723.470560</td>\n",
       "      <td>6</td>\n",
       "      <td>46</td>\n",
       "      <td>0</td>\n",
       "      <td>199</td>\n",
       "      <td>475</td>\n",
       "    </tr>\n",
       "    <tr>\n",
       "      <th>10</th>\n",
       "      <td>2</td>\n",
       "      <td>5809.911100</td>\n",
       "      <td>6</td>\n",
       "      <td>32</td>\n",
       "      <td>0</td>\n",
       "      <td>199</td>\n",
       "      <td>391</td>\n",
       "    </tr>\n",
       "    <tr>\n",
       "      <th>11</th>\n",
       "      <td>3</td>\n",
       "      <td>7003.499363</td>\n",
       "      <td>6</td>\n",
       "      <td>56</td>\n",
       "      <td>0</td>\n",
       "      <td>199</td>\n",
       "      <td>535</td>\n",
       "    </tr>\n",
       "    <tr>\n",
       "      <th>...</th>\n",
       "      <th>...</th>\n",
       "      <td>...</td>\n",
       "      <td>...</td>\n",
       "      <td>...</td>\n",
       "      <td>...</td>\n",
       "      <td>...</td>\n",
       "      <td>...</td>\n",
       "      <td>...</td>\n",
       "    </tr>\n",
       "    <tr>\n",
       "      <th rowspan=\"5\" valign=\"top\">1534</th>\n",
       "      <th>6</th>\n",
       "      <td>2</td>\n",
       "      <td>3409.468534</td>\n",
       "      <td>8</td>\n",
       "      <td>26</td>\n",
       "      <td>50</td>\n",
       "      <td>0</td>\n",
       "      <td>308</td>\n",
       "    </tr>\n",
       "    <tr>\n",
       "      <th>8</th>\n",
       "      <td>2</td>\n",
       "      <td>7622.453034</td>\n",
       "      <td>8</td>\n",
       "      <td>48</td>\n",
       "      <td>50</td>\n",
       "      <td>0</td>\n",
       "      <td>484</td>\n",
       "    </tr>\n",
       "    <tr>\n",
       "      <th>9</th>\n",
       "      <td>1</td>\n",
       "      <td>4928.173852</td>\n",
       "      <td>8</td>\n",
       "      <td>23</td>\n",
       "      <td>50</td>\n",
       "      <td>0</td>\n",
       "      <td>234</td>\n",
       "    </tr>\n",
       "    <tr>\n",
       "      <th>11</th>\n",
       "      <td>4</td>\n",
       "      <td>13350.015305</td>\n",
       "      <td>8</td>\n",
       "      <td>78</td>\n",
       "      <td>50</td>\n",
       "      <td>0</td>\n",
       "      <td>824</td>\n",
       "    </tr>\n",
       "    <tr>\n",
       "      <th>12</th>\n",
       "      <td>1</td>\n",
       "      <td>2371.711192</td>\n",
       "      <td>8</td>\n",
       "      <td>16</td>\n",
       "      <td>50</td>\n",
       "      <td>0</td>\n",
       "      <td>178</td>\n",
       "    </tr>\n",
       "  </tbody>\n",
       "</table>\n",
       "<p>11331 rows × 7 columns</p>\n",
       "</div>"
      ],
      "text/plain": [
       "                     total_trips  total_distance  minute_price  \\\n",
       "user_id month_rides                                              \n",
       "1       1                      2     7027.511294             6   \n",
       "        4                      1      754.159807             6   \n",
       "        8                      2     6723.470560             6   \n",
       "        10                     2     5809.911100             6   \n",
       "        11                     3     7003.499363             6   \n",
       "...                          ...             ...           ...   \n",
       "1534    6                      2     3409.468534             8   \n",
       "        8                      2     7622.453034             8   \n",
       "        9                      1     4928.173852             8   \n",
       "        11                     4    13350.015305             8   \n",
       "        12                     1     2371.711192             8   \n",
       "\n",
       "                     total_duration  start_ride_price  subscription_fee  \\\n",
       "user_id month_rides                                                       \n",
       "1       1                        42                 0               199   \n",
       "        4                         7                 0               199   \n",
       "        8                        46                 0               199   \n",
       "        10                       32                 0               199   \n",
       "        11                       56                 0               199   \n",
       "...                             ...               ...               ...   \n",
       "1534    6                        26                50                 0   \n",
       "        8                        48                50                 0   \n",
       "        9                        23                50                 0   \n",
       "        11                       78                50                 0   \n",
       "        12                       16                50                 0   \n",
       "\n",
       "                     revenue  \n",
       "user_id month_rides           \n",
       "1       1                451  \n",
       "        4                241  \n",
       "        8                475  \n",
       "        10               391  \n",
       "        11               535  \n",
       "...                      ...  \n",
       "1534    6                308  \n",
       "        8                484  \n",
       "        9                234  \n",
       "        11               824  \n",
       "        12               178  \n",
       "\n",
       "[11331 rows x 7 columns]"
      ]
     },
     "execution_count": 46,
     "metadata": {},
     "output_type": "execute_result"
    }
   ],
   "source": [
    "pivot_table = data.pivot_table(\n",
    "    index=['user_id', 'month_rides'],\n",
    "    values=['distance', 'rounded_duration', 'date', 'start_ride_price', 'minute_price', 'subscription_fee'],\n",
    "    aggfunc={\n",
    "        'distance': 'sum',\n",
    "        'rounded_duration': 'sum',\n",
    "        'date': 'count',\n",
    "        'start_ride_price': 'first',\n",
    "        'minute_price': 'first',\n",
    "        'subscription_fee': 'first'\n",
    "    }\n",
    ")\n",
    "\n",
    "\n",
    "pivot_table.columns = ['total_trips', 'total_distance', 'minute_price', 'total_duration', 'start_ride_price', 'subscription_fee']\n",
    "pivot_table['revenue'] = round((pivot_table['start_ride_price'] * pivot_table['total_trips']) + (pivot_table['minute_price'] * pivot_table['total_duration']) + pivot_table['subscription_fee'], 2)\n",
    "pivot_table"
   ]
  },
  {
   "cell_type": "markdown",
   "id": "42deaa71",
   "metadata": {},
   "source": [
    "## Проверка гипотез"
   ]
  },
  {
   "cell_type": "markdown",
   "id": "d70e5fa7",
   "metadata": {},
   "source": [
    "### Важно понять, тратят ли пользователи с подпиской больше времени на поездки? Если да, то пользователи с подпиской могут быть «выгоднее» для компании. Проверьте гипотезу. Используйте исходные данные о продолжительности каждой сессии — отдельно для подписчиков и тех, у кого нет подписки."
   ]
  },
  {
   "cell_type": "code",
   "execution_count": 47,
   "id": "321c9dfd",
   "metadata": {},
   "outputs": [
    {
     "data": {
      "text/html": [
       "<div>\n",
       "<style scoped>\n",
       "    .dataframe tbody tr th:only-of-type {\n",
       "        vertical-align: middle;\n",
       "    }\n",
       "\n",
       "    .dataframe tbody tr th {\n",
       "        vertical-align: top;\n",
       "    }\n",
       "\n",
       "    .dataframe thead th {\n",
       "        text-align: right;\n",
       "    }\n",
       "</style>\n",
       "<table border=\"1\" class=\"dataframe\">\n",
       "  <thead>\n",
       "    <tr style=\"text-align: right;\">\n",
       "      <th></th>\n",
       "      <th>user_id</th>\n",
       "      <th>name</th>\n",
       "      <th>age</th>\n",
       "      <th>city</th>\n",
       "      <th>subscription_type</th>\n",
       "      <th>distance</th>\n",
       "      <th>duration</th>\n",
       "      <th>date</th>\n",
       "      <th>month_rides</th>\n",
       "      <th>minute_price</th>\n",
       "      <th>start_ride_price</th>\n",
       "      <th>subscription_fee</th>\n",
       "      <th>rounded_duration</th>\n",
       "      <th>monthly_revenue</th>\n",
       "    </tr>\n",
       "  </thead>\n",
       "  <tbody>\n",
       "    <tr>\n",
       "      <th>18063</th>\n",
       "      <td>1534</td>\n",
       "      <td>Альберт</td>\n",
       "      <td>25</td>\n",
       "      <td>Краснодар</td>\n",
       "      <td>free</td>\n",
       "      <td>3781.098080</td>\n",
       "      <td>19.822962</td>\n",
       "      <td>2021-11-04</td>\n",
       "      <td>11</td>\n",
       "      <td>8</td>\n",
       "      <td>50</td>\n",
       "      <td>0</td>\n",
       "      <td>20</td>\n",
       "      <td>NaN</td>\n",
       "    </tr>\n",
       "    <tr>\n",
       "      <th>18064</th>\n",
       "      <td>1534</td>\n",
       "      <td>Альберт</td>\n",
       "      <td>25</td>\n",
       "      <td>Краснодар</td>\n",
       "      <td>free</td>\n",
       "      <td>2840.423057</td>\n",
       "      <td>21.409799</td>\n",
       "      <td>2021-11-16</td>\n",
       "      <td>11</td>\n",
       "      <td>8</td>\n",
       "      <td>50</td>\n",
       "      <td>0</td>\n",
       "      <td>22</td>\n",
       "      <td>NaN</td>\n",
       "    </tr>\n",
       "    <tr>\n",
       "      <th>18065</th>\n",
       "      <td>1534</td>\n",
       "      <td>Альберт</td>\n",
       "      <td>25</td>\n",
       "      <td>Краснодар</td>\n",
       "      <td>free</td>\n",
       "      <td>3826.185507</td>\n",
       "      <td>18.435051</td>\n",
       "      <td>2021-11-18</td>\n",
       "      <td>11</td>\n",
       "      <td>8</td>\n",
       "      <td>50</td>\n",
       "      <td>0</td>\n",
       "      <td>19</td>\n",
       "      <td>NaN</td>\n",
       "    </tr>\n",
       "    <tr>\n",
       "      <th>18066</th>\n",
       "      <td>1534</td>\n",
       "      <td>Альберт</td>\n",
       "      <td>25</td>\n",
       "      <td>Краснодар</td>\n",
       "      <td>free</td>\n",
       "      <td>2902.308661</td>\n",
       "      <td>16.674362</td>\n",
       "      <td>2021-11-27</td>\n",
       "      <td>11</td>\n",
       "      <td>8</td>\n",
       "      <td>50</td>\n",
       "      <td>0</td>\n",
       "      <td>17</td>\n",
       "      <td>NaN</td>\n",
       "    </tr>\n",
       "    <tr>\n",
       "      <th>18067</th>\n",
       "      <td>1534</td>\n",
       "      <td>Альберт</td>\n",
       "      <td>25</td>\n",
       "      <td>Краснодар</td>\n",
       "      <td>free</td>\n",
       "      <td>2371.711192</td>\n",
       "      <td>15.893917</td>\n",
       "      <td>2021-12-29</td>\n",
       "      <td>12</td>\n",
       "      <td>8</td>\n",
       "      <td>50</td>\n",
       "      <td>0</td>\n",
       "      <td>16</td>\n",
       "      <td>NaN</td>\n",
       "    </tr>\n",
       "  </tbody>\n",
       "</table>\n",
       "</div>"
      ],
      "text/plain": [
       "       user_id     name  age       city subscription_type     distance  \\\n",
       "18063     1534  Альберт   25  Краснодар              free  3781.098080   \n",
       "18064     1534  Альберт   25  Краснодар              free  2840.423057   \n",
       "18065     1534  Альберт   25  Краснодар              free  3826.185507   \n",
       "18066     1534  Альберт   25  Краснодар              free  2902.308661   \n",
       "18067     1534  Альберт   25  Краснодар              free  2371.711192   \n",
       "\n",
       "        duration        date  month_rides  minute_price  start_ride_price  \\\n",
       "18063  19.822962  2021-11-04           11             8                50   \n",
       "18064  21.409799  2021-11-16           11             8                50   \n",
       "18065  18.435051  2021-11-18           11             8                50   \n",
       "18066  16.674362  2021-11-27           11             8                50   \n",
       "18067  15.893917  2021-12-29           12             8                50   \n",
       "\n",
       "       subscription_fee  rounded_duration  monthly_revenue  \n",
       "18063                 0                20              NaN  \n",
       "18064                 0                22              NaN  \n",
       "18065                 0                19              NaN  \n",
       "18066                 0                17              NaN  \n",
       "18067                 0                16              NaN  "
      ]
     },
     "execution_count": 47,
     "metadata": {},
     "output_type": "execute_result"
    }
   ],
   "source": [
    "data.tail()"
   ]
  },
  {
   "cell_type": "markdown",
   "id": "adfa8abc",
   "metadata": {},
   "source": [
    "**Нулевая гипотеза (H0):** Средняя продолжительность поездок для пользователей с подпиской и без подписки одинакова.\n",
    "\n",
    "**Альтернативная гипотеза (H1):** Средняя продолжительность поездок для пользователей с подпиской больше, чем для пользователей без подписки.\n",
    "\n",
    "Уровень статистической значимости возьмем 0.05 (или 5%)."
   ]
  },
  {
   "cell_type": "code",
   "execution_count": 48,
   "id": "e9154f28",
   "metadata": {},
   "outputs": [
    {
     "name": "stdout",
     "output_type": "stream",
     "text": [
      "Отвергаем нулевую гипотезу.\n",
      "Пользователи с подпиской тратят больше времени на поездки.\n"
     ]
    }
   ],
   "source": [
    "duration_subscription = data_subscription_ultra['duration']\n",
    "duration_no_subscription = data_subscription_free['duration']\n",
    "\n",
    "mean_subscription = np.mean(duration_subscription)\n",
    "mean_no_subscription = np.mean(duration_no_subscription)\n",
    "\n",
    "t_stat, p_value = stats.ttest_ind(duration_subscription, duration_no_subscription, alternative='greater')\n",
    "\n",
    "if p_value < 0.05:\n",
    "    print(\"Отвергаем нулевую гипотезу.\")\n",
    "    print(\"Пользователи с подпиской тратят больше времени на поездки.\")\n",
    "else:\n",
    "    print(\"Не можем отвергнуть нулевую гипотезу.\")"
   ]
  },
  {
   "cell_type": "code",
   "execution_count": 50,
   "id": "a42153ee",
   "metadata": {},
   "outputs": [
    {
     "name": "stdout",
     "output_type": "stream",
     "text": [
      "18.54198516280583\n",
      "17.39090929866399\n"
     ]
    }
   ],
   "source": [
    "print(mean_subscription)\n",
    "print(mean_no_subscription)"
   ]
  },
  {
   "cell_type": "markdown",
   "id": "aeb82a27",
   "metadata": {},
   "source": [
    "### Расстояние одной поездки в 3130 метров — оптимальное с точки зрения износа самоката. Можно ли сказать, что расстояние, которое проезжают пользователи с подпиской за одну поездку, не превышает 3130 метров? Проверьте гипотезу и сделайте выводы."
   ]
  },
  {
   "cell_type": "markdown",
   "id": "3f51d5bd",
   "metadata": {},
   "source": [
    "**Нулевая гипотеза (H0):** Среднее расстояние, которое проезжают пользователи с подпиской за одну поездку, не превышает 3130 метров.\n",
    "**Альтернативная гипотеза (H1):** Среднее расстояние, которое проезжают пользователи с подпиской за одну поездку, превышает 3130 метров.\n",
    "Уровень статистической значимости возьмем 0.05 (или 5%)."
   ]
  },
  {
   "cell_type": "code",
   "execution_count": 55,
   "id": "fa372d5a",
   "metadata": {},
   "outputs": [
    {
     "name": "stdout",
     "output_type": "stream",
     "text": [
      "p-значение: 0.9195368847849785\n",
      "Не получилось отвергнуть нулевую гипотезу\n"
     ]
    }
   ],
   "source": [
    "distance_subscription = data_subscription_ultra['distance']\n",
    "mean_distance_subscription = np.mean(distance_subscription)\n",
    "\n",
    "optimal_distance = 3130\n",
    "alpha = 0.05\n",
    "\n",
    "t_stat, p_value = stats.ttest_1samp(distance_subscription, optimal_distance, alternative='greater')\n",
    "\n",
    "print('p-значение:', p_value)\n",
    "\n",
    "if p_value < alpha:\n",
    "    print('Отвергаем нулевую гипотезу')\n",
    "else:\n",
    "    print('Не получилось отвергнуть нулевую гипотезу')"
   ]
  },
  {
   "cell_type": "code",
   "execution_count": 56,
   "id": "8cddf1c8",
   "metadata": {},
   "outputs": [
    {
     "data": {
      "text/plain": [
       "3115.4453880370247"
      ]
     },
     "execution_count": 56,
     "metadata": {},
     "output_type": "execute_result"
    }
   ],
   "source": [
    "mean_distance_subscription"
   ]
  },
  {
   "cell_type": "markdown",
   "id": "b4e79b80",
   "metadata": {},
   "source": [
    "**Не можем отвергнуть нулевую гипотезу. Нет статистических доказательств того, что расстояние, которое проезжают пользователи с подпиской за одну поездку, превышает 3130 метров.**"
   ]
  },
  {
   "cell_type": "markdown",
   "id": "d22feb6d",
   "metadata": {},
   "source": [
    "### Проверьте гипотезу о том, будет ли помесячная выручка от пользователей с подпиской по месяцам выше, чем выручка от пользователей без подписки. Сделайте вывод."
   ]
  },
  {
   "cell_type": "markdown",
   "id": "44925051",
   "metadata": {},
   "source": [
    "**Нулевая гипотеза (H0):** Средняя помесячная выручка от пользователей с подпиской равна средней помесячной выручке от пользователей без подписки.\n",
    "\n",
    "**Альтернативная гипотеза (H1):** Средняя помесячная выручка от пользователей с подпиской выше, чем средняя помесячная выручка от пользователей без подписки.\n",
    "\n",
    "Уровень статистической значимости возьмем 0.05 (или 5%)."
   ]
  },
  {
   "cell_type": "code",
   "execution_count": 62,
   "id": "29ecbe06",
   "metadata": {},
   "outputs": [
    {
     "name": "stdout",
     "output_type": "stream",
     "text": [
      "p-значение: 1.8850394384715216e-31\n",
      "Отвергаем нулевую гипотезу.\n",
      "Помесячная выручка от пользователей с подпиской выше, чем от пользователей без подписки.\n"
     ]
    }
   ],
   "source": [
    "revenue_subscription = pivot_table[pivot_table['subscription_fee'] == 199]['revenue']\n",
    "revenue_no_subscription = pivot_table[pivot_table['subscription_fee'] == 0]['revenue']\n",
    "\n",
    "t_stat, p_value = ttest_ind(revenue_subscription, revenue_no_subscription, alternative='greater')\n",
    "\n",
    "print('p-значение:', p_value)\n",
    "\n",
    "if p_value < 0.05:\n",
    "    print(\"Отвергаем нулевую гипотезу.\")\n",
    "    print(\"Помесячная выручка от пользователей с подпиской выше, чем от пользователей без подписки.\")\n",
    "else:\n",
    "    print(\"Не можем отвергнуть нулевую гипотезу.\")"
   ]
  },
  {
   "cell_type": "markdown",
   "id": "3928e677",
   "metadata": {},
   "source": [
    "### Представьте такую ситуацию: техническая команда сервиса обновила сервера, с которыми взаимодействует мобильное приложение. Она надеется, что из-за этого количество обращений в техподдержку значимо снизилось. Некоторый файл содержит для каждого пользователя данные о количестве обращений до обновления и после него. Какой тест вам понадобился бы для проверки этой гипотезы?\n"
   ]
  },
  {
   "cell_type": "markdown",
   "id": "f10434c5",
   "metadata": {},
   "source": [
    "Для проверки гипотезы о значимом снижении количества обращений в техподдержку после обновления серверов, можно использовать парный t-тест для зависимых выборок (paired t-test).\n",
    "\n",
    "Парный t-тест для зависимых выборок (paired t-test):\n",
    "\n",
    "**Нулевая гипотеза (H0):** Среднее количество обращений до и после обновления серверов не отличается.\n",
    "\n",
    "**Альтернативная гипотеза (H1):** Среднее количество обращений после обновления серверов значимо снизилось.\n",
    "\n",
    "Уровень статистической значимости: Выбираем значение 0.05.\n",
    "\n",
    "**Критерий принятия решения:** Если p-значение, полученное при выполнении теста, меньше выбранного уровня статистической значимости, то мы отвергаем нулевую гипотезу и делаем вывод о значимом снижении количества обращений."
   ]
  },
  {
   "cell_type": "markdown",
   "id": "366271e9",
   "metadata": {},
   "source": [
    "***Для корректного выбора метода проверки гипотезы о снижении количества обращений в техподдержку после обновления серверов, необходимо определить, являются ли сравниваемые выборки зависимыми или независимыми. Зависимость выборок определяется наличием связи между ними или измерениями, проведенными на одних и тех же объектах или субъектах.***\n",
    "\n",
    "***Если сравниваемые выборки представляют собой измерения одних и тех же пользователей до и после обновления серверов, то выборки будут зависимыми. Для проверки гипотезы о снижении количества обращений рекомендуется использовать парный t-тест для зависимых выборок или непараметрический аналог, такой как тест знаковых рангов Уилкоксона.***\n",
    "\n",
    "***Альтернативная гипотеза будет сформулирована в соответствии с ожидаемым снижением количества обращений. Например, если предполагается, что количество обращений после обновления значимо снизится, то альтернативная гипотеза будет звучать как \"Среднее количество обращений после обновления серверов меньше, чем среднее количество обращений до обновления серверов\".***"
   ]
  },
  {
   "cell_type": "code",
   "execution_count": 67,
   "id": "b52a8f75",
   "metadata": {},
   "outputs": [
    {
     "name": "stdout",
     "output_type": "stream",
     "text": [
      "Значение t-статистики: 6.324555320336758\n",
      "Значение p-value: 0.9984008989238323\n",
      "Не отвергаем нулевую гипотезу.\n",
      "Количество обращений в техподдержку снизилось.\n"
     ]
    }
   ],
   "source": [
    "# Пример данных до и после обновления\n",
    "data_before = [5, 7, 6, 9, 8]\n",
    "data_after = [3, 6, 4, 7, 5]\n",
    "\n",
    "# Проведение парного t-теста\n",
    "t_statistic, p_value = stats.ttest_rel(data_before, data_after, alternative='less')\n",
    "\n",
    "# Вывод результатов\n",
    "print(\"Значение t-статистики:\", t_statistic)\n",
    "print(\"Значение p-value:\", p_value)\n",
    "\n",
    "if p_value < 0.05:\n",
    "    print(\"Отвергаем нулевую гипотезу.\")\n",
    "    print(\"Количество обращений в техподдержку не снизилось.\")\n",
    "else:\n",
    "    print(\"Не отвергаем нулевую гипотезу.\")\n",
    "    print(\"Количество обращений в техподдержку снизилось.\")"
   ]
  },
  {
   "cell_type": "markdown",
   "id": "d4de6a71",
   "metadata": {},
   "source": [
    "## Распределения"
   ]
  },
  {
   "cell_type": "markdown",
   "id": "30c59d16",
   "metadata": {},
   "source": [
    "### Отделу маркетинга GoFast поставили задачу: нужно провести акцию с раздачей промокодов на один бесплатный месяц подписки, в рамках которой как минимум 100 существующих клиентов должны продлить эту подписку. То есть по завершении периода действия подписки пользователь может либо отказаться от неё, либо продлить, совершив соотвествующий платёж. Эта акция уже проводилась ранее и по итогу выяснилось, что после бесплатного пробного периода подписку продлевают 10% пользователей. Выясните, какое минимальное количество промокодов нужно разослать, чтобы вероятность не выполнить план была примерно 5 %. Подберите параметры распределения, описывающего эту ситуацию, постройте график распределения и сформулируйте ответ на вопрос о количестве промокодов."
   ]
  },
  {
   "cell_type": "code",
   "execution_count": 69,
   "id": "2807a199",
   "metadata": {},
   "outputs": [
    {
     "name": "stdout",
     "output_type": "stream",
     "text": [
      "Минимальное количество промокодов для вероятности 5%:  1161\n"
     ]
    }
   ],
   "source": [
    "target_clients = 100  # Целевое количество клиентов для продления подписки\n",
    "p_renewal = 0.1       # Вероятность продления подписки\n",
    "\n",
    "# Подбор значения параметра n\n",
    "n = 1\n",
    "while binom.cdf(target_clients - 1, n, p_renewal) > 0.05:\n",
    "    n += 1\n",
    "\n",
    "# Вывод \n",
    "print(\"Минимальное количество промокодов для вероятности 5%: \", n)"
   ]
  },
  {
   "cell_type": "markdown",
   "id": "a373b481",
   "metadata": {},
   "source": [
    "### Отдел маркетинга рассылает клиентам push-уведомления в мобильном приложении. Клиенты могут открыть его или не открывать. Известно, что уведомления открывают около 40 % получивших клиентов. Отдел планирует разослать 1 млн уведомлений. С помощью аппроксимации постройте примерный график распределения и оцените вероятность того, что уведомление откроют не более 399,5 тыс. пользователей."
   ]
  },
  {
   "cell_type": "code",
   "execution_count": 70,
   "id": "7167d8da",
   "metadata": {},
   "outputs": [
    {
     "data": {
      "image/png": "[encoded data removed]",
      "text/plain": [
       "<Figure size 432x288 with 1 Axes>"
      ]
     },
     "metadata": {
      "needs_background": "light"
     },
     "output_type": "display_data"
    },
    {
     "name": "stdout",
     "output_type": "stream",
     "text": [
      "Вероятность открытия не более 399,5 тыс. уведомлений: 0.1537\n"
     ]
    }
   ],
   "source": [
    "# Заданные значения\n",
    "n_notifications = 1000000  # Количество разосланных уведомлений\n",
    "p_open = 0.4               # Вероятность открытия уведомления\n",
    "\n",
    "# Вычисление параметров нормальной аппроксимации\n",
    "mean = n_notifications * p_open\n",
    "std_dev = np.sqrt(n_notifications * p_open * (1 - p_open))\n",
    "\n",
    "# График нормального распределения\n",
    "x = np.linspace(mean - 4 * std_dev, mean + 4 * std_dev, 1000)\n",
    "pdf = norm.pdf(x, loc=mean, scale=std_dev)\n",
    "plt.plot(x, pdf)\n",
    "plt.xlabel('Количество открытых уведомлений')\n",
    "plt.ylabel('Плотность вероятности')\n",
    "plt.title('Распределение открытых уведомлений')\n",
    "plt.grid(True)\n",
    "plt.show()\n",
    "\n",
    "# Оценка вероятности открытия не более 399,5 тыс. уведомлений\n",
    "result = norm.cdf(399500, loc=mean, scale=std_dev)\n",
    "print(\"Вероятность открытия не более 399,5 тыс. уведомлений: {:.4f}\".format(result))"
   ]
  },
  {
   "cell_type": "markdown",
   "id": "0efaf100",
   "metadata": {},
   "source": [
    "***Вероятность открытия не более 399,5 тыс. уведомлений составляет примерно 15.37%. Это означает, что с вероятностью около 15.37% количество открытых уведомлений не превысит 399,5 тыс. пользователей.***"
   ]
  },
  {
   "cell_type": "markdown",
   "id": "489198f2",
   "metadata": {},
   "source": [
    "### **<p style=\"text-align: center;\">Итоговый вывод. </p>**\n",
    " Задача проекта проанализировать популярный сервис аренды самокатов GoFast,для этого было сделано следующее:\n",
    "\n",
    "- Проверили данные за какой период у нас имеются. Данные о сервисе аренды самокатов GoFast представленны за 2021 год.\n",
    "- Изучили общую информацию о каждом датафрейме,пропущенные значения в столбцах отсутствуют. Найден 31 дубликат в датафреймах,данные дубликаты удалили.\n",
    "\n",
    "***Исходя из предоставленной информации о количестве пользователей сервиса аренды самокатов GoFast в разных городах, можно сделать следующие выводы:*** Пятигорск является наиболее популярным городом среди пользователей GoFast, с 219 пользователями.Екатеринбург занимает второе место по популярности с 204 пользователями.Ростов-на-Дону, Краснодар, Сочи, Омск, Тюмень и Москва также имеют значительное количество пользователей, хотя и ниже по сравнению с Пятигорском и Екатеринбургом. Можно заключить, что сервис аренды самокатов GoFast пользуется спросом в разных городах, и есть потенциал для расширения и увеличения покрытия в других городах.\n",
    "\n",
    "***Исходя из предоставленных данных о соотношении пользователей с подпиской Ultra и без подписки, можно сделать следующие выводы:*** Большинство пользователей (54,4%) не имеют подписки на сервис аренды самокатов GoFast.\n",
    "Пользователи с подпиской Ultra составляют 45,6% от общего числа пользователей.Эти данные могут указывать на потенциал для увеличения числа пользователей с подпиской. Бизнесу может быть выгодно провести дополнительные маркетинговые и промоциональные мероприятия, чтобы привлечь больше пользователей к использованию подписки и повысить ее привлекательность. \n",
    "\n",
    "***Исходя из данных о возрасе пользователей,*** можно сделать вывод, что большинство пользователей сервиса аренды самокатов GoFast находятся в возрастном диапазоне от 20 до 30 лет. Однако также есть пользователи моложе 20 лет и старше 30 лет, что указывает на разнообразие возрастных групп пользователей. Эта информация может быть полезной для определения целевой аудитории и разработки маркетинговых стратегий, учитывающих возрастные особенности пользователей.\n",
    "\n",
    "Проверили некоторые гипотезы, которые могут помочь бизнесу вырасти.\n",
    "\n",
    "Проверив гипотезы были сделаны следующие выводы:\n",
    "\n",
    "- Пользователи с подпиской тратят больше времени на поездки. Таким образом, можно сделать вывод, что пользователи с подпиской могут быть выгоднее для компании, так как они тратят больше времени на поездки.\n",
    "\n",
    "- Нет статистических доказательств того, что расстояние, которое проезжают пользователи с подпиской за одну поездку, превышает 3130 метров.\n",
    "- Нет статистических доказательств того, что помесячная выручка от пользователей с подпиской выше, чем от пользователей без подписки.\"\n"
   ]
  },
  {
   "cell_type": "code",
   "execution_count": null,
   "id": "17298767",
   "metadata": {},
   "outputs": [],
   "source": []
  }
 ],
 "metadata": {
  "ExecuteTimeLog": [
   {
    "duration": 43,
    "start_time": "2023-05-28T12:01:52.508Z"
   },
   {
    "duration": 391,
    "start_time": "2023-05-28T12:01:55.949Z"
   },
   {
    "duration": 124,
    "start_time": "2023-05-28T12:01:58.557Z"
   },
   {
    "duration": 33,
    "start_time": "2023-05-28T12:03:17.024Z"
   },
   {
    "duration": 36,
    "start_time": "2023-05-28T12:04:53.492Z"
   },
   {
    "duration": 179,
    "start_time": "2023-05-28T12:08:40.081Z"
   },
   {
    "duration": 33,
    "start_time": "2023-05-28T12:10:31.222Z"
   },
   {
    "duration": 10,
    "start_time": "2023-05-28T12:10:33.684Z"
   },
   {
    "duration": 40,
    "start_time": "2023-05-28T12:10:48.095Z"
   },
   {
    "duration": 10,
    "start_time": "2023-05-28T12:10:50.473Z"
   },
   {
    "duration": 6,
    "start_time": "2023-05-28T12:11:35.400Z"
   },
   {
    "duration": 6,
    "start_time": "2023-05-28T12:11:50.982Z"
   },
   {
    "duration": 73,
    "start_time": "2023-05-28T12:14:35.780Z"
   },
   {
    "duration": 32,
    "start_time": "2023-05-28T12:14:56.606Z"
   },
   {
    "duration": 9,
    "start_time": "2023-05-28T12:15:55.204Z"
   },
   {
    "duration": 8,
    "start_time": "2023-05-28T12:25:20.759Z"
   },
   {
    "duration": 50,
    "start_time": "2023-05-28T12:26:04.396Z"
   },
   {
    "duration": 11,
    "start_time": "2023-05-28T12:26:10.812Z"
   },
   {
    "duration": 17,
    "start_time": "2023-05-28T12:33:19.622Z"
   },
   {
    "duration": 32,
    "start_time": "2023-05-28T12:35:51.415Z"
   },
   {
    "duration": 395,
    "start_time": "2023-05-28T12:37:25.215Z"
   },
   {
    "duration": 51,
    "start_time": "2023-05-28T12:37:25.612Z"
   },
   {
    "duration": 16,
    "start_time": "2023-05-28T12:37:25.665Z"
   },
   {
    "duration": 57,
    "start_time": "2023-05-28T12:37:25.684Z"
   },
   {
    "duration": 11,
    "start_time": "2023-05-28T12:37:25.744Z"
   },
   {
    "duration": 25,
    "start_time": "2023-05-28T12:37:25.757Z"
   },
   {
    "duration": 17,
    "start_time": "2023-05-28T12:37:25.789Z"
   },
   {
    "duration": 18,
    "start_time": "2023-05-28T12:37:25.808Z"
   },
   {
    "duration": 15,
    "start_time": "2023-05-28T12:37:25.828Z"
   },
   {
    "duration": 15,
    "start_time": "2023-05-28T12:37:25.845Z"
   },
   {
    "duration": 5,
    "start_time": "2023-05-28T12:47:06.660Z"
   },
   {
    "duration": 16,
    "start_time": "2023-05-28T12:47:14.307Z"
   },
   {
    "duration": 19,
    "start_time": "2023-05-28T12:50:23.308Z"
   },
   {
    "duration": 7,
    "start_time": "2023-05-28T12:54:32.213Z"
   },
   {
    "duration": 13,
    "start_time": "2023-05-28T12:54:41.534Z"
   },
   {
    "duration": 6,
    "start_time": "2023-05-28T13:00:44.627Z"
   },
   {
    "duration": 7,
    "start_time": "2023-05-28T13:01:47.610Z"
   },
   {
    "duration": 7,
    "start_time": "2023-05-28T13:03:05.556Z"
   },
   {
    "duration": 4,
    "start_time": "2023-05-28T13:03:34.459Z"
   },
   {
    "duration": 17,
    "start_time": "2023-05-28T13:06:02.502Z"
   },
   {
    "duration": 11,
    "start_time": "2023-05-28T13:06:55.352Z"
   },
   {
    "duration": 9,
    "start_time": "2023-05-28T13:07:23.754Z"
   },
   {
    "duration": 8,
    "start_time": "2023-05-28T13:09:34.355Z"
   },
   {
    "duration": 22,
    "start_time": "2023-05-28T13:14:36.860Z"
   },
   {
    "duration": 10,
    "start_time": "2023-05-28T13:18:30.957Z"
   },
   {
    "duration": 9,
    "start_time": "2023-05-28T13:18:44.957Z"
   },
   {
    "duration": 14,
    "start_time": "2023-05-28T13:24:52.212Z"
   },
   {
    "duration": 11,
    "start_time": "2023-05-28T13:25:05.113Z"
   },
   {
    "duration": 13,
    "start_time": "2023-05-28T13:26:22.873Z"
   },
   {
    "duration": 381,
    "start_time": "2023-05-28T13:26:42.516Z"
   },
   {
    "duration": 56,
    "start_time": "2023-05-28T13:26:42.901Z"
   },
   {
    "duration": 11,
    "start_time": "2023-05-28T13:26:42.959Z"
   },
   {
    "duration": 42,
    "start_time": "2023-05-28T13:26:42.972Z"
   },
   {
    "duration": 11,
    "start_time": "2023-05-28T13:26:43.018Z"
   },
   {
    "duration": 19,
    "start_time": "2023-05-28T13:26:43.030Z"
   },
   {
    "duration": 8,
    "start_time": "2023-05-28T13:26:43.051Z"
   },
   {
    "duration": 13,
    "start_time": "2023-05-28T13:26:43.060Z"
   },
   {
    "duration": 14,
    "start_time": "2023-05-28T13:26:43.075Z"
   },
   {
    "duration": 12,
    "start_time": "2023-05-28T13:26:43.093Z"
   },
   {
    "duration": 14,
    "start_time": "2023-05-28T13:26:43.106Z"
   },
   {
    "duration": 9,
    "start_time": "2023-05-28T13:26:43.122Z"
   },
   {
    "duration": 10,
    "start_time": "2023-05-28T13:26:43.133Z"
   },
   {
    "duration": 8,
    "start_time": "2023-05-28T13:26:43.145Z"
   },
   {
    "duration": 390,
    "start_time": "2023-05-28T20:09:12.268Z"
   },
   {
    "duration": 86,
    "start_time": "2023-05-28T20:09:12.660Z"
   },
   {
    "duration": 12,
    "start_time": "2023-05-28T20:09:12.747Z"
   },
   {
    "duration": 72,
    "start_time": "2023-05-28T20:09:12.760Z"
   },
   {
    "duration": 10,
    "start_time": "2023-05-28T20:09:12.834Z"
   },
   {
    "duration": 59,
    "start_time": "2023-05-28T20:09:12.846Z"
   },
   {
    "duration": 11,
    "start_time": "2023-05-28T20:09:12.907Z"
   },
   {
    "duration": 16,
    "start_time": "2023-05-28T20:09:12.920Z"
   },
   {
    "duration": 10,
    "start_time": "2023-05-28T20:09:12.938Z"
   },
   {
    "duration": 10,
    "start_time": "2023-05-28T20:09:12.950Z"
   },
   {
    "duration": 12,
    "start_time": "2023-05-28T20:09:12.962Z"
   },
   {
    "duration": 5,
    "start_time": "2023-05-28T20:09:12.976Z"
   },
   {
    "duration": 11,
    "start_time": "2023-05-28T20:09:12.983Z"
   },
   {
    "duration": 10,
    "start_time": "2023-05-28T20:09:12.996Z"
   },
   {
    "duration": 5,
    "start_time": "2023-05-28T20:20:12.057Z"
   },
   {
    "duration": 518,
    "start_time": "2023-05-28T20:21:38.273Z"
   },
   {
    "duration": 8,
    "start_time": "2023-05-28T20:25:32.317Z"
   },
   {
    "duration": 8,
    "start_time": "2023-05-28T20:30:03.400Z"
   },
   {
    "duration": 170,
    "start_time": "2023-05-28T20:30:19.106Z"
   },
   {
    "duration": 5,
    "start_time": "2023-05-28T20:34:24.389Z"
   },
   {
    "duration": 8,
    "start_time": "2023-05-28T20:49:33.503Z"
   },
   {
    "duration": 12,
    "start_time": "2023-05-28T20:50:31.298Z"
   },
   {
    "duration": 12,
    "start_time": "2023-05-28T20:59:46.291Z"
   },
   {
    "duration": 151,
    "start_time": "2023-05-28T21:00:05.670Z"
   },
   {
    "duration": 6,
    "start_time": "2023-05-28T21:01:44.408Z"
   },
   {
    "duration": 8,
    "start_time": "2023-05-28T21:02:24.358Z"
   },
   {
    "duration": 144,
    "start_time": "2023-05-28T21:02:37.758Z"
   },
   {
    "duration": 11,
    "start_time": "2023-05-28T21:03:02.005Z"
   },
   {
    "duration": 261,
    "start_time": "2023-05-28T21:08:14.095Z"
   },
   {
    "duration": 5,
    "start_time": "2023-05-28T21:08:17.690Z"
   },
   {
    "duration": 340,
    "start_time": "2023-05-28T21:13:36.642Z"
   },
   {
    "duration": 269,
    "start_time": "2023-05-28T21:13:51.786Z"
   },
   {
    "duration": 256,
    "start_time": "2023-05-28T21:14:00.257Z"
   },
   {
    "duration": 245,
    "start_time": "2023-05-28T21:14:05.896Z"
   },
   {
    "duration": 6,
    "start_time": "2023-05-28T21:22:26.769Z"
   },
   {
    "duration": 9,
    "start_time": "2023-05-28T21:29:58.407Z"
   },
   {
    "duration": 224,
    "start_time": "2023-05-28T21:31:03.166Z"
   },
   {
    "duration": 26,
    "start_time": "2023-05-28T21:31:20.487Z"
   },
   {
    "duration": 240,
    "start_time": "2023-05-28T21:32:01.375Z"
   },
   {
    "duration": 415,
    "start_time": "2023-05-28T21:32:15.669Z"
   },
   {
    "duration": 44,
    "start_time": "2023-05-28T21:32:16.087Z"
   },
   {
    "duration": 23,
    "start_time": "2023-05-28T21:32:16.133Z"
   },
   {
    "duration": 49,
    "start_time": "2023-05-28T21:32:16.158Z"
   },
   {
    "duration": 12,
    "start_time": "2023-05-28T21:32:16.209Z"
   },
   {
    "duration": 36,
    "start_time": "2023-05-28T21:32:16.223Z"
   },
   {
    "duration": 11,
    "start_time": "2023-05-28T21:32:16.263Z"
   },
   {
    "duration": 29,
    "start_time": "2023-05-28T21:32:16.276Z"
   },
   {
    "duration": 11,
    "start_time": "2023-05-28T21:32:16.307Z"
   },
   {
    "duration": 47,
    "start_time": "2023-05-28T21:32:16.320Z"
   },
   {
    "duration": 18,
    "start_time": "2023-05-28T21:32:16.369Z"
   },
   {
    "duration": 7,
    "start_time": "2023-05-28T21:32:16.389Z"
   },
   {
    "duration": 14,
    "start_time": "2023-05-28T21:32:16.398Z"
   },
   {
    "duration": 10,
    "start_time": "2023-05-28T21:32:16.415Z"
   },
   {
    "duration": 603,
    "start_time": "2023-05-28T21:32:16.427Z"
   },
   {
    "duration": 192,
    "start_time": "2023-05-28T21:32:17.032Z"
   },
   {
    "duration": 326,
    "start_time": "2023-05-28T21:32:17.226Z"
   },
   {
    "duration": 320,
    "start_time": "2023-05-28T21:32:17.554Z"
   },
   {
    "duration": 12,
    "start_time": "2023-05-28T21:33:08.391Z"
   },
   {
    "duration": 289,
    "start_time": "2023-05-28T21:35:01.056Z"
   },
   {
    "duration": 304,
    "start_time": "2023-05-28T21:40:56.993Z"
   },
   {
    "duration": 274,
    "start_time": "2023-05-28T21:41:05.573Z"
   },
   {
    "duration": 308,
    "start_time": "2023-05-28T21:41:12.668Z"
   },
   {
    "duration": 31,
    "start_time": "2023-05-28T22:18:14.167Z"
   },
   {
    "duration": 23,
    "start_time": "2023-05-28T22:35:58.393Z"
   },
   {
    "duration": 74,
    "start_time": "2023-05-28T22:37:04.904Z"
   },
   {
    "duration": 9,
    "start_time": "2023-05-28T22:37:16.237Z"
   },
   {
    "duration": 23,
    "start_time": "2023-05-28T22:37:33.086Z"
   },
   {
    "duration": 17,
    "start_time": "2023-05-28T22:38:01.156Z"
   },
   {
    "duration": 24,
    "start_time": "2023-05-28T22:38:04.886Z"
   },
   {
    "duration": 16,
    "start_time": "2023-05-28T22:38:39.129Z"
   },
   {
    "duration": 16,
    "start_time": "2023-05-28T22:39:56.086Z"
   },
   {
    "duration": 599,
    "start_time": "2023-05-28T22:42:50.319Z"
   },
   {
    "duration": 494,
    "start_time": "2023-05-28T22:43:10.621Z"
   },
   {
    "duration": 13,
    "start_time": "2023-05-28T22:51:50.626Z"
   },
   {
    "duration": 14,
    "start_time": "2023-05-28T22:52:12.255Z"
   },
   {
    "duration": 10,
    "start_time": "2023-05-28T23:04:37.787Z"
   },
   {
    "duration": 22,
    "start_time": "2023-05-28T23:05:16.000Z"
   },
   {
    "duration": 20,
    "start_time": "2023-05-28T23:05:39.188Z"
   },
   {
    "duration": 22,
    "start_time": "2023-05-28T23:08:04.980Z"
   },
   {
    "duration": 22,
    "start_time": "2023-05-28T23:08:20.991Z"
   },
   {
    "duration": 26,
    "start_time": "2023-05-28T23:09:38.208Z"
   },
   {
    "duration": 704,
    "start_time": "2023-05-28T23:12:46.698Z"
   },
   {
    "duration": 17,
    "start_time": "2023-05-28T23:13:05.441Z"
   },
   {
    "duration": 3,
    "start_time": "2023-05-28T23:16:27.490Z"
   },
   {
    "duration": 769,
    "start_time": "2023-05-28T23:24:49.580Z"
   },
   {
    "duration": 19,
    "start_time": "2023-05-28T23:25:20.060Z"
   },
   {
    "duration": 22,
    "start_time": "2023-05-28T23:25:49.712Z"
   },
   {
    "duration": 27,
    "start_time": "2023-05-28T23:26:10.789Z"
   },
   {
    "duration": 20,
    "start_time": "2023-05-28T23:26:22.797Z"
   },
   {
    "duration": 21,
    "start_time": "2023-05-28T23:26:44.049Z"
   },
   {
    "duration": 22,
    "start_time": "2023-05-28T23:26:47.756Z"
   },
   {
    "duration": 5,
    "start_time": "2023-05-28T23:29:57.453Z"
   },
   {
    "duration": 843,
    "start_time": "2023-05-28T23:35:56.082Z"
   },
   {
    "duration": 740,
    "start_time": "2023-05-28T23:36:22.390Z"
   },
   {
    "duration": 8,
    "start_time": "2023-05-28T23:36:55.306Z"
   },
   {
    "duration": 5,
    "start_time": "2023-05-28T23:36:58.974Z"
   },
   {
    "duration": 27,
    "start_time": "2023-05-28T23:39:19.680Z"
   },
   {
    "duration": 22,
    "start_time": "2023-05-28T23:39:31.023Z"
   },
   {
    "duration": 26,
    "start_time": "2023-05-28T23:39:41.794Z"
   },
   {
    "duration": 1515,
    "start_time": "2023-05-28T23:40:02.488Z"
   },
   {
    "duration": 821,
    "start_time": "2023-05-28T23:41:36.008Z"
   },
   {
    "duration": 20,
    "start_time": "2023-05-28T23:41:47.774Z"
   },
   {
    "duration": 23,
    "start_time": "2023-05-28T23:41:53.828Z"
   },
   {
    "duration": 27,
    "start_time": "2023-05-28T23:43:47.500Z"
   },
   {
    "duration": 23,
    "start_time": "2023-05-28T23:44:26.001Z"
   },
   {
    "duration": 16,
    "start_time": "2023-05-28T23:51:08.653Z"
   },
   {
    "duration": 181,
    "start_time": "2023-05-28T23:51:51.179Z"
   },
   {
    "duration": 15,
    "start_time": "2023-05-28T23:52:10.855Z"
   },
   {
    "duration": 14,
    "start_time": "2023-05-28T23:52:23.590Z"
   },
   {
    "duration": 16,
    "start_time": "2023-05-28T23:53:55.696Z"
   },
   {
    "duration": 9,
    "start_time": "2023-05-28T23:55:31.826Z"
   },
   {
    "duration": 10,
    "start_time": "2023-05-28T23:55:59.658Z"
   },
   {
    "duration": 15,
    "start_time": "2023-05-29T00:01:40.584Z"
   },
   {
    "duration": 10,
    "start_time": "2023-05-29T00:02:06.425Z"
   },
   {
    "duration": 15,
    "start_time": "2023-05-29T00:03:08.559Z"
   },
   {
    "duration": 13,
    "start_time": "2023-05-29T00:03:19.705Z"
   },
   {
    "duration": 238,
    "start_time": "2023-05-29T00:04:22.286Z"
   },
   {
    "duration": 20,
    "start_time": "2023-05-29T00:04:32.513Z"
   },
   {
    "duration": 20,
    "start_time": "2023-05-29T00:04:59.459Z"
   },
   {
    "duration": 8,
    "start_time": "2023-05-29T00:05:10.982Z"
   },
   {
    "duration": 15,
    "start_time": "2023-05-29T00:08:59.414Z"
   },
   {
    "duration": 22,
    "start_time": "2023-05-29T00:10:46.753Z"
   },
   {
    "duration": 21,
    "start_time": "2023-05-29T00:12:08.727Z"
   },
   {
    "duration": 14,
    "start_time": "2023-05-29T00:13:26.757Z"
   },
   {
    "duration": 15,
    "start_time": "2023-05-29T00:14:17.279Z"
   },
   {
    "duration": 1254,
    "start_time": "2023-05-29T07:28:45.892Z"
   },
   {
    "duration": 110,
    "start_time": "2023-05-29T07:28:47.149Z"
   },
   {
    "duration": 12,
    "start_time": "2023-05-29T07:28:47.261Z"
   },
   {
    "duration": 154,
    "start_time": "2023-05-29T07:28:47.275Z"
   },
   {
    "duration": 12,
    "start_time": "2023-05-29T07:28:47.431Z"
   },
   {
    "duration": 68,
    "start_time": "2023-05-29T07:28:47.445Z"
   },
   {
    "duration": 10,
    "start_time": "2023-05-29T07:28:47.515Z"
   },
   {
    "duration": 20,
    "start_time": "2023-05-29T07:28:47.527Z"
   },
   {
    "duration": 10,
    "start_time": "2023-05-29T07:28:47.549Z"
   },
   {
    "duration": 16,
    "start_time": "2023-05-29T07:28:47.560Z"
   },
   {
    "duration": 16,
    "start_time": "2023-05-29T07:28:47.577Z"
   },
   {
    "duration": 8,
    "start_time": "2023-05-29T07:28:47.594Z"
   },
   {
    "duration": 12,
    "start_time": "2023-05-29T07:28:47.604Z"
   },
   {
    "duration": 9,
    "start_time": "2023-05-29T07:28:47.619Z"
   },
   {
    "duration": 157,
    "start_time": "2023-05-29T07:28:47.629Z"
   },
   {
    "duration": 123,
    "start_time": "2023-05-29T07:28:47.788Z"
   },
   {
    "duration": 275,
    "start_time": "2023-05-29T07:28:47.912Z"
   },
   {
    "duration": 271,
    "start_time": "2023-05-29T07:28:48.189Z"
   },
   {
    "duration": 261,
    "start_time": "2023-05-29T07:28:48.462Z"
   },
   {
    "duration": 41,
    "start_time": "2023-05-29T07:28:48.725Z"
   },
   {
    "duration": 17,
    "start_time": "2023-05-29T07:28:48.768Z"
   },
   {
    "duration": 23,
    "start_time": "2023-05-29T07:28:48.787Z"
   },
   {
    "duration": 599,
    "start_time": "2023-05-29T07:28:48.812Z"
   },
   {
    "duration": 486,
    "start_time": "2023-05-29T07:28:49.413Z"
   },
   {
    "duration": 20,
    "start_time": "2023-05-29T07:28:49.901Z"
   },
   {
    "duration": 34,
    "start_time": "2023-05-29T07:28:49.923Z"
   },
   {
    "duration": 20,
    "start_time": "2023-05-29T07:28:49.959Z"
   },
   {
    "duration": 22,
    "start_time": "2023-05-29T07:28:49.980Z"
   },
   {
    "duration": 15,
    "start_time": "2023-05-29T07:28:50.004Z"
   },
   {
    "duration": 42,
    "start_time": "2023-05-29T07:28:50.020Z"
   },
   {
    "duration": 29,
    "start_time": "2023-05-29T07:28:50.064Z"
   },
   {
    "duration": 30,
    "start_time": "2023-05-29T07:28:50.094Z"
   },
   {
    "duration": 47,
    "start_time": "2023-05-29T07:28:50.126Z"
   },
   {
    "duration": 11,
    "start_time": "2023-05-29T07:28:50.175Z"
   },
   {
    "duration": 31,
    "start_time": "2023-05-29T07:28:50.188Z"
   },
   {
    "duration": 207,
    "start_time": "2023-05-29T07:30:06.293Z"
   },
   {
    "duration": 202,
    "start_time": "2023-05-29T07:30:29.354Z"
   },
   {
    "duration": 201,
    "start_time": "2023-05-29T07:31:03.156Z"
   },
   {
    "duration": 104,
    "start_time": "2023-05-29T07:32:44.314Z"
   },
   {
    "duration": 3,
    "start_time": "2023-05-29T07:34:35.792Z"
   },
   {
    "duration": 19,
    "start_time": "2023-05-29T07:34:52.112Z"
   },
   {
    "duration": 137,
    "start_time": "2023-05-29T07:39:17.098Z"
   },
   {
    "duration": 136,
    "start_time": "2023-05-29T07:54:46.598Z"
   },
   {
    "duration": 240,
    "start_time": "2023-05-29T07:56:27.711Z"
   },
   {
    "duration": 18,
    "start_time": "2023-05-29T08:09:48.075Z"
   },
   {
    "duration": 3,
    "start_time": "2023-05-29T08:10:05.314Z"
   },
   {
    "duration": 10,
    "start_time": "2023-05-29T08:10:11.376Z"
   },
   {
    "duration": 149,
    "start_time": "2023-05-29T08:12:00.522Z"
   },
   {
    "duration": 137,
    "start_time": "2023-05-29T08:12:54.694Z"
   },
   {
    "duration": 176,
    "start_time": "2023-05-29T08:14:40.929Z"
   },
   {
    "duration": 182,
    "start_time": "2023-05-29T08:17:18.610Z"
   },
   {
    "duration": 1177,
    "start_time": "2023-05-29T13:41:59.757Z"
   },
   {
    "duration": 41,
    "start_time": "2023-05-29T13:42:00.936Z"
   },
   {
    "duration": 25,
    "start_time": "2023-05-29T13:42:00.979Z"
   },
   {
    "duration": 69,
    "start_time": "2023-05-29T13:42:01.007Z"
   },
   {
    "duration": 18,
    "start_time": "2023-05-29T13:42:01.077Z"
   },
   {
    "duration": 54,
    "start_time": "2023-05-29T13:42:01.097Z"
   },
   {
    "duration": 26,
    "start_time": "2023-05-29T13:42:01.153Z"
   },
   {
    "duration": 45,
    "start_time": "2023-05-29T13:42:01.181Z"
   },
   {
    "duration": 43,
    "start_time": "2023-05-29T13:42:01.227Z"
   },
   {
    "duration": 40,
    "start_time": "2023-05-29T13:42:01.273Z"
   },
   {
    "duration": 48,
    "start_time": "2023-05-29T13:42:01.315Z"
   },
   {
    "duration": 30,
    "start_time": "2023-05-29T13:42:01.365Z"
   },
   {
    "duration": 51,
    "start_time": "2023-05-29T13:42:01.397Z"
   },
   {
    "duration": 26,
    "start_time": "2023-05-29T13:42:01.450Z"
   },
   {
    "duration": 180,
    "start_time": "2023-05-29T13:42:01.477Z"
   },
   {
    "duration": 141,
    "start_time": "2023-05-29T13:42:01.659Z"
   },
   {
    "duration": 303,
    "start_time": "2023-05-29T13:42:01.802Z"
   },
   {
    "duration": 297,
    "start_time": "2023-05-29T13:42:02.107Z"
   },
   {
    "duration": 328,
    "start_time": "2023-05-29T13:42:02.406Z"
   },
   {
    "duration": 42,
    "start_time": "2023-05-29T13:42:02.736Z"
   },
   {
    "duration": 37,
    "start_time": "2023-05-29T13:42:02.780Z"
   },
   {
    "duration": 49,
    "start_time": "2023-05-29T13:42:02.820Z"
   },
   {
    "duration": 618,
    "start_time": "2023-05-29T13:42:02.871Z"
   },
   {
    "duration": 506,
    "start_time": "2023-05-29T13:42:03.491Z"
   },
   {
    "duration": 22,
    "start_time": "2023-05-29T13:42:03.999Z"
   },
   {
    "duration": 39,
    "start_time": "2023-05-29T13:42:04.023Z"
   },
   {
    "duration": 19,
    "start_time": "2023-05-29T13:42:04.064Z"
   },
   {
    "duration": 20,
    "start_time": "2023-05-29T13:42:04.086Z"
   },
   {
    "duration": 41,
    "start_time": "2023-05-29T13:42:04.108Z"
   },
   {
    "duration": 13,
    "start_time": "2023-05-29T13:42:04.151Z"
   },
   {
    "duration": 38,
    "start_time": "2023-05-29T13:42:04.166Z"
   },
   {
    "duration": 32,
    "start_time": "2023-05-29T13:42:04.205Z"
   },
   {
    "duration": 56,
    "start_time": "2023-05-29T13:42:04.238Z"
   },
   {
    "duration": 17,
    "start_time": "2023-05-29T13:42:04.296Z"
   },
   {
    "duration": 34,
    "start_time": "2023-05-29T13:42:04.315Z"
   },
   {
    "duration": 360,
    "start_time": "2023-05-29T13:42:04.351Z"
   },
   {
    "duration": 0,
    "start_time": "2023-05-29T13:42:04.713Z"
   },
   {
    "duration": 21,
    "start_time": "2023-05-29T13:48:38.087Z"
   },
   {
    "duration": 1065,
    "start_time": "2023-05-29T13:59:03.243Z"
   },
   {
    "duration": 38,
    "start_time": "2023-05-29T13:59:04.310Z"
   },
   {
    "duration": 10,
    "start_time": "2023-05-29T13:59:04.350Z"
   },
   {
    "duration": 40,
    "start_time": "2023-05-29T13:59:04.362Z"
   },
   {
    "duration": 11,
    "start_time": "2023-05-29T13:59:04.403Z"
   },
   {
    "duration": 20,
    "start_time": "2023-05-29T13:59:04.416Z"
   },
   {
    "duration": 11,
    "start_time": "2023-05-29T13:59:04.438Z"
   },
   {
    "duration": 17,
    "start_time": "2023-05-29T13:59:04.451Z"
   },
   {
    "duration": 9,
    "start_time": "2023-05-29T13:59:04.470Z"
   },
   {
    "duration": 15,
    "start_time": "2023-05-29T13:59:04.482Z"
   },
   {
    "duration": 13,
    "start_time": "2023-05-29T13:59:04.498Z"
   },
   {
    "duration": 33,
    "start_time": "2023-05-29T13:59:04.513Z"
   },
   {
    "duration": 11,
    "start_time": "2023-05-29T13:59:04.548Z"
   },
   {
    "duration": 14,
    "start_time": "2023-05-29T13:59:04.560Z"
   },
   {
    "duration": 153,
    "start_time": "2023-05-29T13:59:04.575Z"
   },
   {
    "duration": 119,
    "start_time": "2023-05-29T13:59:04.730Z"
   },
   {
    "duration": 267,
    "start_time": "2023-05-29T13:59:04.851Z"
   },
   {
    "duration": 262,
    "start_time": "2023-05-29T13:59:05.120Z"
   },
   {
    "duration": 256,
    "start_time": "2023-05-29T13:59:05.384Z"
   },
   {
    "duration": 25,
    "start_time": "2023-05-29T13:59:05.645Z"
   },
   {
    "duration": 15,
    "start_time": "2023-05-29T13:59:05.672Z"
   },
   {
    "duration": 41,
    "start_time": "2023-05-29T13:59:05.689Z"
   },
   {
    "duration": 589,
    "start_time": "2023-05-29T13:59:05.732Z"
   },
   {
    "duration": 530,
    "start_time": "2023-05-29T13:59:06.323Z"
   },
   {
    "duration": 23,
    "start_time": "2023-05-29T13:59:06.855Z"
   },
   {
    "duration": 19,
    "start_time": "2023-05-29T13:59:06.879Z"
   },
   {
    "duration": 24,
    "start_time": "2023-05-29T13:59:06.900Z"
   },
   {
    "duration": 18,
    "start_time": "2023-05-29T13:59:06.948Z"
   },
   {
    "duration": 14,
    "start_time": "2023-05-29T13:59:06.968Z"
   },
   {
    "duration": 20,
    "start_time": "2023-05-29T13:59:06.984Z"
   },
   {
    "duration": 8,
    "start_time": "2023-05-29T13:59:07.006Z"
   },
   {
    "duration": 36,
    "start_time": "2023-05-29T13:59:07.016Z"
   },
   {
    "duration": 22,
    "start_time": "2023-05-29T13:59:07.054Z"
   },
   {
    "duration": 11,
    "start_time": "2023-05-29T13:59:07.077Z"
   },
   {
    "duration": 22,
    "start_time": "2023-05-29T13:59:07.090Z"
   },
   {
    "duration": 251,
    "start_time": "2023-05-29T13:59:07.114Z"
   },
   {
    "duration": 0,
    "start_time": "2023-05-29T13:59:07.366Z"
   },
   {
    "duration": 2785,
    "start_time": "2023-05-29T20:56:58.685Z"
   },
   {
    "duration": 100,
    "start_time": "2023-05-29T20:57:01.472Z"
   },
   {
    "duration": 14,
    "start_time": "2023-05-29T20:57:01.574Z"
   },
   {
    "duration": 116,
    "start_time": "2023-05-29T20:57:01.590Z"
   },
   {
    "duration": 18,
    "start_time": "2023-05-29T20:57:01.709Z"
   },
   {
    "duration": 96,
    "start_time": "2023-05-29T20:57:01.729Z"
   },
   {
    "duration": 13,
    "start_time": "2023-05-29T20:57:01.827Z"
   },
   {
    "duration": 31,
    "start_time": "2023-05-29T20:57:01.842Z"
   },
   {
    "duration": 28,
    "start_time": "2023-05-29T20:57:01.875Z"
   },
   {
    "duration": 50,
    "start_time": "2023-05-29T20:57:01.905Z"
   },
   {
    "duration": 42,
    "start_time": "2023-05-29T20:57:01.957Z"
   },
   {
    "duration": 34,
    "start_time": "2023-05-29T20:57:02.001Z"
   },
   {
    "duration": 49,
    "start_time": "2023-05-29T20:57:02.037Z"
   },
   {
    "duration": 45,
    "start_time": "2023-05-29T20:57:02.088Z"
   },
   {
    "duration": 147,
    "start_time": "2023-05-29T20:57:02.135Z"
   },
   {
    "duration": 104,
    "start_time": "2023-05-29T20:57:02.283Z"
   },
   {
    "duration": 254,
    "start_time": "2023-05-29T20:57:02.389Z"
   },
   {
    "duration": 256,
    "start_time": "2023-05-29T20:57:02.644Z"
   },
   {
    "duration": 268,
    "start_time": "2023-05-29T20:57:02.901Z"
   },
   {
    "duration": 26,
    "start_time": "2023-05-29T20:57:03.171Z"
   },
   {
    "duration": 32,
    "start_time": "2023-05-29T20:57:03.198Z"
   },
   {
    "duration": 19,
    "start_time": "2023-05-29T20:57:03.233Z"
   },
   {
    "duration": 597,
    "start_time": "2023-05-29T20:57:03.254Z"
   },
   {
    "duration": 492,
    "start_time": "2023-05-29T20:57:03.853Z"
   },
   {
    "duration": 21,
    "start_time": "2023-05-29T20:57:04.347Z"
   },
   {
    "duration": 18,
    "start_time": "2023-05-29T20:57:04.370Z"
   },
   {
    "duration": 48,
    "start_time": "2023-05-29T20:57:04.390Z"
   },
   {
    "duration": 25,
    "start_time": "2023-05-29T20:57:04.440Z"
   },
   {
    "duration": 17,
    "start_time": "2023-05-29T20:57:04.467Z"
   },
   {
    "duration": 34,
    "start_time": "2023-05-29T20:57:04.485Z"
   },
   {
    "duration": 13,
    "start_time": "2023-05-29T20:57:04.521Z"
   },
   {
    "duration": 9,
    "start_time": "2023-05-29T20:57:04.536Z"
   },
   {
    "duration": 24,
    "start_time": "2023-05-29T20:57:04.546Z"
   },
   {
    "duration": 10,
    "start_time": "2023-05-29T20:57:04.571Z"
   },
   {
    "duration": 60,
    "start_time": "2023-05-29T20:57:04.583Z"
   },
   {
    "duration": 342,
    "start_time": "2023-05-29T20:57:04.644Z"
   },
   {
    "duration": 0,
    "start_time": "2023-05-29T20:57:04.988Z"
   },
   {
    "duration": 140,
    "start_time": "2023-05-29T20:58:00.068Z"
   },
   {
    "duration": 1082,
    "start_time": "2023-05-29T20:58:28.205Z"
   },
   {
    "duration": 39,
    "start_time": "2023-05-29T20:58:29.288Z"
   },
   {
    "duration": 11,
    "start_time": "2023-05-29T20:58:29.328Z"
   },
   {
    "duration": 32,
    "start_time": "2023-05-29T20:58:29.341Z"
   },
   {
    "duration": 13,
    "start_time": "2023-05-29T20:58:29.375Z"
   },
   {
    "duration": 24,
    "start_time": "2023-05-29T20:58:29.390Z"
   },
   {
    "duration": 10,
    "start_time": "2023-05-29T20:58:29.417Z"
   },
   {
    "duration": 17,
    "start_time": "2023-05-29T20:58:29.428Z"
   },
   {
    "duration": 11,
    "start_time": "2023-05-29T20:58:29.447Z"
   },
   {
    "duration": 11,
    "start_time": "2023-05-29T20:58:29.459Z"
   },
   {
    "duration": 46,
    "start_time": "2023-05-29T20:58:29.471Z"
   },
   {
    "duration": 7,
    "start_time": "2023-05-29T20:58:29.519Z"
   },
   {
    "duration": 23,
    "start_time": "2023-05-29T20:58:29.527Z"
   },
   {
    "duration": 8,
    "start_time": "2023-05-29T20:58:29.553Z"
   },
   {
    "duration": 147,
    "start_time": "2023-05-29T20:58:29.562Z"
   },
   {
    "duration": 125,
    "start_time": "2023-05-29T20:58:29.711Z"
   },
   {
    "duration": 259,
    "start_time": "2023-05-29T20:58:29.838Z"
   },
   {
    "duration": 300,
    "start_time": "2023-05-29T20:58:30.099Z"
   },
   {
    "duration": 255,
    "start_time": "2023-05-29T20:58:30.401Z"
   },
   {
    "duration": 24,
    "start_time": "2023-05-29T20:58:30.658Z"
   },
   {
    "duration": 33,
    "start_time": "2023-05-29T20:58:30.684Z"
   },
   {
    "duration": 22,
    "start_time": "2023-05-29T20:58:30.718Z"
   },
   {
    "duration": 529,
    "start_time": "2023-05-29T20:58:30.741Z"
   },
   {
    "duration": 449,
    "start_time": "2023-05-29T20:58:31.272Z"
   },
   {
    "duration": 28,
    "start_time": "2023-05-29T20:58:31.723Z"
   },
   {
    "duration": 18,
    "start_time": "2023-05-29T20:58:31.753Z"
   },
   {
    "duration": 47,
    "start_time": "2023-05-29T20:58:31.773Z"
   },
   {
    "duration": 18,
    "start_time": "2023-05-29T20:58:31.822Z"
   },
   {
    "duration": 22,
    "start_time": "2023-05-29T20:58:31.842Z"
   },
   {
    "duration": 27,
    "start_time": "2023-05-29T20:58:31.866Z"
   },
   {
    "duration": 9,
    "start_time": "2023-05-29T20:58:31.895Z"
   },
   {
    "duration": 11,
    "start_time": "2023-05-29T20:58:31.918Z"
   },
   {
    "duration": 36,
    "start_time": "2023-05-29T20:58:31.930Z"
   },
   {
    "duration": 7,
    "start_time": "2023-05-29T20:58:31.970Z"
   },
   {
    "duration": 25,
    "start_time": "2023-05-29T20:58:31.979Z"
   },
   {
    "duration": 134,
    "start_time": "2023-05-29T20:58:32.005Z"
   },
   {
    "duration": 167,
    "start_time": "2023-05-29T20:58:32.141Z"
   },
   {
    "duration": 152,
    "start_time": "2023-05-29T20:59:58.290Z"
   },
   {
    "duration": 128,
    "start_time": "2023-05-29T21:00:05.540Z"
   },
   {
    "duration": 104,
    "start_time": "2023-05-29T21:28:18.910Z"
   },
   {
    "duration": 10,
    "start_time": "2023-05-29T21:29:15.028Z"
   },
   {
    "duration": 12,
    "start_time": "2023-05-29T21:29:18.302Z"
   },
   {
    "duration": 3,
    "start_time": "2023-05-29T22:09:41.376Z"
   },
   {
    "duration": 1275,
    "start_time": "2023-05-30T07:02:49.414Z"
   },
   {
    "duration": 83,
    "start_time": "2023-05-30T07:02:50.691Z"
   },
   {
    "duration": 11,
    "start_time": "2023-05-30T07:02:50.776Z"
   },
   {
    "duration": 76,
    "start_time": "2023-05-30T07:02:50.789Z"
   },
   {
    "duration": 11,
    "start_time": "2023-05-30T07:02:50.866Z"
   },
   {
    "duration": 70,
    "start_time": "2023-05-30T07:02:50.878Z"
   },
   {
    "duration": 13,
    "start_time": "2023-05-30T07:02:50.949Z"
   },
   {
    "duration": 16,
    "start_time": "2023-05-30T07:02:50.963Z"
   },
   {
    "duration": 13,
    "start_time": "2023-05-30T07:02:50.981Z"
   },
   {
    "duration": 27,
    "start_time": "2023-05-30T07:02:50.998Z"
   },
   {
    "duration": 22,
    "start_time": "2023-05-30T07:02:51.027Z"
   },
   {
    "duration": 8,
    "start_time": "2023-05-30T07:02:51.051Z"
   },
   {
    "duration": 69,
    "start_time": "2023-05-30T07:02:51.061Z"
   },
   {
    "duration": 11,
    "start_time": "2023-05-30T07:02:51.132Z"
   },
   {
    "duration": 171,
    "start_time": "2023-05-30T07:02:51.145Z"
   },
   {
    "duration": 126,
    "start_time": "2023-05-30T07:02:51.325Z"
   },
   {
    "duration": 282,
    "start_time": "2023-05-30T07:02:51.453Z"
   },
   {
    "duration": 255,
    "start_time": "2023-05-30T07:02:51.737Z"
   },
   {
    "duration": 293,
    "start_time": "2023-05-30T07:02:51.995Z"
   },
   {
    "duration": 45,
    "start_time": "2023-05-30T07:02:52.290Z"
   },
   {
    "duration": 16,
    "start_time": "2023-05-30T07:02:52.337Z"
   },
   {
    "duration": 56,
    "start_time": "2023-05-30T07:02:52.355Z"
   },
   {
    "duration": 592,
    "start_time": "2023-05-30T07:02:52.413Z"
   },
   {
    "duration": 498,
    "start_time": "2023-05-30T07:02:53.006Z"
   },
   {
    "duration": 29,
    "start_time": "2023-05-30T07:02:53.506Z"
   },
   {
    "duration": 17,
    "start_time": "2023-05-30T07:02:53.537Z"
   },
   {
    "duration": 21,
    "start_time": "2023-05-30T07:02:53.556Z"
   },
   {
    "duration": 23,
    "start_time": "2023-05-30T07:02:53.579Z"
   },
   {
    "duration": 37,
    "start_time": "2023-05-30T07:02:53.604Z"
   },
   {
    "duration": 19,
    "start_time": "2023-05-30T07:02:53.643Z"
   },
   {
    "duration": 8,
    "start_time": "2023-05-30T07:02:53.664Z"
   },
   {
    "duration": 11,
    "start_time": "2023-05-30T07:02:53.674Z"
   },
   {
    "duration": 160,
    "start_time": "2023-05-30T07:02:53.687Z"
   },
   {
    "duration": 30,
    "start_time": "2023-05-30T07:02:53.849Z"
   },
   {
    "duration": 80,
    "start_time": "2023-05-30T07:02:53.882Z"
   },
   {
    "duration": 164,
    "start_time": "2023-05-30T07:02:53.964Z"
   },
   {
    "duration": 172,
    "start_time": "2023-05-30T07:02:54.129Z"
   },
   {
    "duration": 5,
    "start_time": "2023-05-30T07:03:52.558Z"
   },
   {
    "duration": 53,
    "start_time": "2023-05-30T07:09:32.503Z"
   },
   {
    "duration": 6,
    "start_time": "2023-05-30T07:10:01.272Z"
   },
   {
    "duration": 25,
    "start_time": "2023-05-30T07:11:55.128Z"
   },
   {
    "duration": 30,
    "start_time": "2023-05-30T07:12:37.705Z"
   },
   {
    "duration": 11,
    "start_time": "2023-05-30T07:22:21.396Z"
   },
   {
    "duration": 172,
    "start_time": "2023-05-30T07:22:57.233Z"
   },
   {
    "duration": 273,
    "start_time": "2023-05-30T07:23:10.923Z"
   },
   {
    "duration": 158,
    "start_time": "2023-05-30T07:23:18.758Z"
   },
   {
    "duration": 234,
    "start_time": "2023-05-30T07:23:44.895Z"
   },
   {
    "duration": 155,
    "start_time": "2023-05-30T07:23:53.674Z"
   },
   {
    "duration": 148,
    "start_time": "2023-05-30T07:24:08.574Z"
   },
   {
    "duration": 11,
    "start_time": "2023-05-30T07:26:07.956Z"
   },
   {
    "duration": 168,
    "start_time": "2023-05-30T07:26:41.578Z"
   },
   {
    "duration": 159,
    "start_time": "2023-05-30T07:26:59.778Z"
   },
   {
    "duration": 168,
    "start_time": "2023-05-30T07:27:08.315Z"
   },
   {
    "duration": 90,
    "start_time": "2023-05-30T07:53:00.641Z"
   },
   {
    "duration": 13,
    "start_time": "2023-05-30T08:00:25.622Z"
   },
   {
    "duration": 147,
    "start_time": "2023-05-30T08:05:16.247Z"
   },
   {
    "duration": 178,
    "start_time": "2023-05-30T08:07:10.952Z"
   },
   {
    "duration": 240,
    "start_time": "2023-05-30T08:14:48.851Z"
   },
   {
    "duration": 271,
    "start_time": "2023-05-30T08:15:05.135Z"
   },
   {
    "duration": 284,
    "start_time": "2023-05-30T08:17:21.114Z"
   },
   {
    "duration": 251,
    "start_time": "2023-05-30T08:17:54.288Z"
   },
   {
    "duration": 160,
    "start_time": "2023-05-30T08:25:48.839Z"
   },
   {
    "duration": 241,
    "start_time": "2023-05-30T08:25:56.287Z"
   },
   {
    "duration": 1040,
    "start_time": "2023-05-30T10:29:27.211Z"
   },
   {
    "duration": 36,
    "start_time": "2023-05-30T10:29:28.253Z"
   },
   {
    "duration": 15,
    "start_time": "2023-05-30T10:29:28.290Z"
   },
   {
    "duration": 41,
    "start_time": "2023-05-30T10:29:28.307Z"
   },
   {
    "duration": 10,
    "start_time": "2023-05-30T10:29:28.349Z"
   },
   {
    "duration": 22,
    "start_time": "2023-05-30T10:29:28.361Z"
   },
   {
    "duration": 9,
    "start_time": "2023-05-30T10:29:28.385Z"
   },
   {
    "duration": 10,
    "start_time": "2023-05-30T10:29:28.396Z"
   },
   {
    "duration": 16,
    "start_time": "2023-05-30T10:29:28.408Z"
   },
   {
    "duration": 10,
    "start_time": "2023-05-30T10:29:28.426Z"
   },
   {
    "duration": 93,
    "start_time": "2023-05-30T10:29:28.437Z"
   },
   {
    "duration": 0,
    "start_time": "2023-05-30T10:29:28.532Z"
   },
   {
    "duration": 0,
    "start_time": "2023-05-30T10:29:28.533Z"
   },
   {
    "duration": 0,
    "start_time": "2023-05-30T10:29:28.534Z"
   },
   {
    "duration": 0,
    "start_time": "2023-05-30T10:29:28.535Z"
   },
   {
    "duration": 0,
    "start_time": "2023-05-30T10:29:28.536Z"
   },
   {
    "duration": 0,
    "start_time": "2023-05-30T10:29:28.537Z"
   },
   {
    "duration": 1,
    "start_time": "2023-05-30T10:29:28.537Z"
   },
   {
    "duration": 0,
    "start_time": "2023-05-30T10:29:28.539Z"
   },
   {
    "duration": 0,
    "start_time": "2023-05-30T10:29:28.539Z"
   },
   {
    "duration": 0,
    "start_time": "2023-05-30T10:29:28.540Z"
   },
   {
    "duration": 0,
    "start_time": "2023-05-30T10:29:28.542Z"
   },
   {
    "duration": 0,
    "start_time": "2023-05-30T10:29:28.542Z"
   },
   {
    "duration": 0,
    "start_time": "2023-05-30T10:29:28.543Z"
   },
   {
    "duration": 1,
    "start_time": "2023-05-30T10:29:28.544Z"
   },
   {
    "duration": 0,
    "start_time": "2023-05-30T10:29:28.546Z"
   },
   {
    "duration": 0,
    "start_time": "2023-05-30T10:29:28.547Z"
   },
   {
    "duration": 0,
    "start_time": "2023-05-30T10:29:28.548Z"
   },
   {
    "duration": 0,
    "start_time": "2023-05-30T10:29:28.549Z"
   },
   {
    "duration": 1,
    "start_time": "2023-05-30T10:29:28.549Z"
   },
   {
    "duration": 0,
    "start_time": "2023-05-30T10:29:28.551Z"
   },
   {
    "duration": 0,
    "start_time": "2023-05-30T10:29:28.552Z"
   },
   {
    "duration": 0,
    "start_time": "2023-05-30T10:29:28.553Z"
   },
   {
    "duration": 0,
    "start_time": "2023-05-30T10:29:28.554Z"
   },
   {
    "duration": 0,
    "start_time": "2023-05-30T10:29:28.555Z"
   },
   {
    "duration": 0,
    "start_time": "2023-05-30T10:29:28.555Z"
   },
   {
    "duration": 0,
    "start_time": "2023-05-30T10:29:28.556Z"
   },
   {
    "duration": 0,
    "start_time": "2023-05-30T10:29:28.558Z"
   },
   {
    "duration": 0,
    "start_time": "2023-05-30T10:29:28.561Z"
   },
   {
    "duration": 1,
    "start_time": "2023-05-30T10:29:28.561Z"
   },
   {
    "duration": 0,
    "start_time": "2023-05-30T10:29:28.562Z"
   },
   {
    "duration": 0,
    "start_time": "2023-05-30T10:29:28.563Z"
   },
   {
    "duration": 0,
    "start_time": "2023-05-30T10:29:28.564Z"
   },
   {
    "duration": 0,
    "start_time": "2023-05-30T10:29:28.565Z"
   },
   {
    "duration": 0,
    "start_time": "2023-05-30T10:29:28.566Z"
   },
   {
    "duration": 0,
    "start_time": "2023-05-30T10:29:28.625Z"
   },
   {
    "duration": 19,
    "start_time": "2023-05-30T10:30:40.458Z"
   },
   {
    "duration": 1043,
    "start_time": "2023-05-30T10:31:03.826Z"
   },
   {
    "duration": 41,
    "start_time": "2023-05-30T10:31:04.871Z"
   },
   {
    "duration": 27,
    "start_time": "2023-05-30T10:31:04.914Z"
   },
   {
    "duration": 95,
    "start_time": "2023-05-30T10:31:04.944Z"
   },
   {
    "duration": 16,
    "start_time": "2023-05-30T10:31:05.041Z"
   },
   {
    "duration": 43,
    "start_time": "2023-05-30T10:31:05.058Z"
   },
   {
    "duration": 26,
    "start_time": "2023-05-30T10:31:05.103Z"
   },
   {
    "duration": 24,
    "start_time": "2023-05-30T10:31:05.131Z"
   },
   {
    "duration": 9,
    "start_time": "2023-05-30T10:31:05.157Z"
   },
   {
    "duration": 14,
    "start_time": "2023-05-30T10:31:05.168Z"
   },
   {
    "duration": 27,
    "start_time": "2023-05-30T10:31:05.183Z"
   },
   {
    "duration": 6,
    "start_time": "2023-05-30T10:31:05.211Z"
   },
   {
    "duration": 51,
    "start_time": "2023-05-30T10:31:05.219Z"
   },
   {
    "duration": 12,
    "start_time": "2023-05-30T10:31:05.271Z"
   },
   {
    "duration": 24,
    "start_time": "2023-05-30T10:31:05.284Z"
   },
   {
    "duration": 20,
    "start_time": "2023-05-30T10:31:05.309Z"
   },
   {
    "duration": 130,
    "start_time": "2023-05-30T10:31:05.330Z"
   },
   {
    "duration": 7,
    "start_time": "2023-05-30T10:31:05.463Z"
   },
   {
    "duration": 155,
    "start_time": "2023-05-30T10:31:05.472Z"
   },
   {
    "duration": 116,
    "start_time": "2023-05-30T10:31:05.629Z"
   },
   {
    "duration": 85,
    "start_time": "2023-05-30T10:31:05.747Z"
   },
   {
    "duration": 219,
    "start_time": "2023-05-30T10:31:05.833Z"
   },
   {
    "duration": 7,
    "start_time": "2023-05-30T10:31:06.053Z"
   },
   {
    "duration": 157,
    "start_time": "2023-05-30T10:31:06.061Z"
   },
   {
    "duration": 230,
    "start_time": "2023-05-30T10:31:06.219Z"
   },
   {
    "duration": 308,
    "start_time": "2023-05-30T10:31:06.450Z"
   },
   {
    "duration": 224,
    "start_time": "2023-05-30T10:31:06.759Z"
   },
   {
    "duration": 231,
    "start_time": "2023-05-30T10:31:06.986Z"
   },
   {
    "duration": 23,
    "start_time": "2023-05-30T10:31:07.219Z"
   },
   {
    "duration": 17,
    "start_time": "2023-05-30T10:31:07.244Z"
   },
   {
    "duration": 21,
    "start_time": "2023-05-30T10:31:07.263Z"
   },
   {
    "duration": 440,
    "start_time": "2023-05-30T10:31:07.286Z"
   },
   {
    "duration": 511,
    "start_time": "2023-05-30T10:31:07.727Z"
   },
   {
    "duration": 19,
    "start_time": "2023-05-30T10:31:08.240Z"
   },
   {
    "duration": 40,
    "start_time": "2023-05-30T10:31:08.260Z"
   },
   {
    "duration": 24,
    "start_time": "2023-05-30T10:31:08.302Z"
   },
   {
    "duration": 30,
    "start_time": "2023-05-30T10:31:08.328Z"
   },
   {
    "duration": 26,
    "start_time": "2023-05-30T10:31:08.359Z"
   },
   {
    "duration": 31,
    "start_time": "2023-05-30T10:31:08.386Z"
   },
   {
    "duration": 34,
    "start_time": "2023-05-30T10:31:08.418Z"
   },
   {
    "duration": 25,
    "start_time": "2023-05-30T10:31:08.454Z"
   },
   {
    "duration": 27,
    "start_time": "2023-05-30T10:31:08.481Z"
   },
   {
    "duration": 21,
    "start_time": "2023-05-30T10:31:08.509Z"
   },
   {
    "duration": 27,
    "start_time": "2023-05-30T10:31:08.531Z"
   },
   {
    "duration": 128,
    "start_time": "2023-05-30T10:31:08.560Z"
   },
   {
    "duration": 160,
    "start_time": "2023-05-30T10:31:08.690Z"
   },
   {
    "duration": 4,
    "start_time": "2023-05-30T10:34:39.347Z"
   },
   {
    "duration": 460,
    "start_time": "2023-05-30T10:47:22.277Z"
   },
   {
    "duration": 404,
    "start_time": "2023-05-30T10:47:43.969Z"
   },
   {
    "duration": 533,
    "start_time": "2023-05-30T10:47:54.187Z"
   },
   {
    "duration": 447,
    "start_time": "2023-05-30T10:48:03.454Z"
   },
   {
    "duration": 457,
    "start_time": "2023-05-30T10:48:15.826Z"
   },
   {
    "duration": 444,
    "start_time": "2023-05-30T10:49:20.435Z"
   },
   {
    "duration": 588,
    "start_time": "2023-05-30T10:53:33.372Z"
   },
   {
    "duration": 15,
    "start_time": "2023-05-30T11:17:28.244Z"
   },
   {
    "duration": 5,
    "start_time": "2023-05-30T11:24:40.765Z"
   },
   {
    "duration": 16,
    "start_time": "2023-05-30T11:30:17.512Z"
   },
   {
    "duration": 107,
    "start_time": "2023-05-30T11:31:20.665Z"
   },
   {
    "duration": 42,
    "start_time": "2023-05-30T11:31:56.704Z"
   },
   {
    "duration": 44,
    "start_time": "2023-05-30T11:32:14.191Z"
   },
   {
    "duration": 39,
    "start_time": "2023-05-30T11:34:42.006Z"
   },
   {
    "duration": 13,
    "start_time": "2023-05-30T11:37:38.005Z"
   },
   {
    "duration": 309,
    "start_time": "2023-05-30T11:49:09.170Z"
   },
   {
    "duration": 205,
    "start_time": "2023-05-30T11:52:41.189Z"
   },
   {
    "duration": 243,
    "start_time": "2023-05-30T11:52:56.119Z"
   },
   {
    "duration": 166044,
    "start_time": "2023-05-30T11:55:16.270Z"
   },
   {
    "duration": 21,
    "start_time": "2023-05-30T12:00:34.643Z"
   },
   {
    "duration": 18,
    "start_time": "2023-05-30T12:01:48.553Z"
   },
   {
    "duration": 12,
    "start_time": "2023-05-30T12:06:10.844Z"
   },
   {
    "duration": 4,
    "start_time": "2023-05-30T12:06:26.513Z"
   },
   {
    "duration": 5,
    "start_time": "2023-05-30T12:06:30.400Z"
   },
   {
    "duration": 5,
    "start_time": "2023-05-30T12:09:44.194Z"
   },
   {
    "duration": 6,
    "start_time": "2023-05-30T12:16:02.753Z"
   },
   {
    "duration": 7,
    "start_time": "2023-05-30T12:19:39.659Z"
   },
   {
    "duration": 5,
    "start_time": "2023-05-30T12:19:53.278Z"
   },
   {
    "duration": 9,
    "start_time": "2023-05-30T12:24:08.153Z"
   },
   {
    "duration": 1149,
    "start_time": "2023-05-30T12:24:51.265Z"
   },
   {
    "duration": 78,
    "start_time": "2023-05-30T12:24:52.415Z"
   },
   {
    "duration": 11,
    "start_time": "2023-05-30T12:24:52.495Z"
   },
   {
    "duration": 52,
    "start_time": "2023-05-30T12:24:52.508Z"
   },
   {
    "duration": 30,
    "start_time": "2023-05-30T12:24:52.561Z"
   },
   {
    "duration": 29,
    "start_time": "2023-05-30T12:24:52.593Z"
   },
   {
    "duration": 86,
    "start_time": "2023-05-30T12:24:52.624Z"
   },
   {
    "duration": 111,
    "start_time": "2023-05-30T12:24:52.711Z"
   },
   {
    "duration": 53,
    "start_time": "2023-05-30T12:24:52.830Z"
   },
   {
    "duration": 103,
    "start_time": "2023-05-30T12:24:52.886Z"
   },
   {
    "duration": 96,
    "start_time": "2023-05-30T12:24:52.991Z"
   },
   {
    "duration": 167,
    "start_time": "2023-05-30T12:24:53.089Z"
   },
   {
    "duration": 121,
    "start_time": "2023-05-30T12:24:53.257Z"
   },
   {
    "duration": 36,
    "start_time": "2023-05-30T12:24:53.379Z"
   },
   {
    "duration": 64,
    "start_time": "2023-05-30T12:24:53.417Z"
   },
   {
    "duration": 12,
    "start_time": "2023-05-30T12:24:53.482Z"
   },
   {
    "duration": 231,
    "start_time": "2023-05-30T12:24:53.495Z"
   },
   {
    "duration": 28,
    "start_time": "2023-05-30T12:24:53.729Z"
   },
   {
    "duration": 199,
    "start_time": "2023-05-30T12:24:53.758Z"
   },
   {
    "duration": 123,
    "start_time": "2023-05-30T12:24:53.959Z"
   },
   {
    "duration": 115,
    "start_time": "2023-05-30T12:24:54.084Z"
   },
   {
    "duration": 306,
    "start_time": "2023-05-30T12:24:54.200Z"
   },
   {
    "duration": 16,
    "start_time": "2023-05-30T12:24:54.507Z"
   },
   {
    "duration": 232,
    "start_time": "2023-05-30T12:24:54.536Z"
   },
   {
    "duration": 442,
    "start_time": "2023-05-30T12:24:54.777Z"
   },
   {
    "duration": 364,
    "start_time": "2023-05-30T12:24:55.229Z"
   },
   {
    "duration": 375,
    "start_time": "2023-05-30T12:24:55.594Z"
   },
   {
    "duration": 323,
    "start_time": "2023-05-30T12:24:55.973Z"
   },
   {
    "duration": 68,
    "start_time": "2023-05-30T12:24:56.298Z"
   },
   {
    "duration": 5,
    "start_time": "2023-05-30T12:24:56.371Z"
   },
   {
    "duration": 50,
    "start_time": "2023-05-30T12:24:56.377Z"
   },
   {
    "duration": 42,
    "start_time": "2023-05-30T12:24:56.432Z"
   },
   {
    "duration": 544,
    "start_time": "2023-05-30T12:24:56.476Z"
   },
   {
    "duration": 672,
    "start_time": "2023-05-30T12:24:57.022Z"
   },
   {
    "duration": 555,
    "start_time": "2023-05-30T12:24:57.695Z"
   },
   {
    "duration": 587,
    "start_time": "2023-05-30T12:24:58.252Z"
   },
   {
    "duration": 18,
    "start_time": "2023-05-30T12:24:58.841Z"
   },
   {
    "duration": 44,
    "start_time": "2023-05-30T12:24:58.861Z"
   },
   {
    "duration": 45,
    "start_time": "2023-05-30T12:24:58.906Z"
   },
   {
    "duration": 57,
    "start_time": "2023-05-30T12:24:58.955Z"
   },
   {
    "duration": 27,
    "start_time": "2023-05-30T12:24:59.014Z"
   },
   {
    "duration": 42,
    "start_time": "2023-05-30T12:24:59.044Z"
   },
   {
    "duration": 52,
    "start_time": "2023-05-30T12:24:59.088Z"
   },
   {
    "duration": 10,
    "start_time": "2023-05-30T12:24:59.141Z"
   },
   {
    "duration": 29,
    "start_time": "2023-05-30T12:24:59.153Z"
   },
   {
    "duration": 177,
    "start_time": "2023-05-30T12:24:59.183Z"
   },
   {
    "duration": 0,
    "start_time": "2023-05-30T12:24:59.368Z"
   },
   {
    "duration": 0,
    "start_time": "2023-05-30T12:24:59.370Z"
   },
   {
    "duration": 0,
    "start_time": "2023-05-30T12:24:59.372Z"
   },
   {
    "duration": 0,
    "start_time": "2023-05-30T12:24:59.373Z"
   },
   {
    "duration": 0,
    "start_time": "2023-05-30T12:24:59.375Z"
   },
   {
    "duration": 0,
    "start_time": "2023-05-30T12:24:59.376Z"
   },
   {
    "duration": 0,
    "start_time": "2023-05-30T12:24:59.377Z"
   },
   {
    "duration": 0,
    "start_time": "2023-05-30T12:24:59.379Z"
   },
   {
    "duration": 1434,
    "start_time": "2023-05-31T20:40:58.097Z"
   },
   {
    "duration": 86,
    "start_time": "2023-05-31T20:40:59.533Z"
   },
   {
    "duration": 17,
    "start_time": "2023-05-31T20:40:59.621Z"
   },
   {
    "duration": 120,
    "start_time": "2023-05-31T20:40:59.640Z"
   },
   {
    "duration": 17,
    "start_time": "2023-05-31T20:40:59.763Z"
   },
   {
    "duration": 59,
    "start_time": "2023-05-31T20:40:59.782Z"
   },
   {
    "duration": 11,
    "start_time": "2023-05-31T20:40:59.843Z"
   },
   {
    "duration": 15,
    "start_time": "2023-05-31T20:40:59.856Z"
   },
   {
    "duration": 11,
    "start_time": "2023-05-31T20:40:59.873Z"
   },
   {
    "duration": 11,
    "start_time": "2023-05-31T20:40:59.886Z"
   },
   {
    "duration": 57,
    "start_time": "2023-05-31T20:40:59.898Z"
   },
   {
    "duration": 5,
    "start_time": "2023-05-31T20:40:59.957Z"
   },
   {
    "duration": 16,
    "start_time": "2023-05-31T20:40:59.963Z"
   },
   {
    "duration": 7,
    "start_time": "2023-05-31T20:40:59.984Z"
   },
   {
    "duration": 49,
    "start_time": "2023-05-31T20:40:59.993Z"
   },
   {
    "duration": 12,
    "start_time": "2023-05-31T20:41:00.045Z"
   },
   {
    "duration": 159,
    "start_time": "2023-05-31T20:41:00.059Z"
   },
   {
    "duration": 9,
    "start_time": "2023-05-31T20:41:00.221Z"
   },
   {
    "duration": 173,
    "start_time": "2023-05-31T20:41:00.242Z"
   },
   {
    "duration": 128,
    "start_time": "2023-05-31T20:41:00.417Z"
   },
   {
    "duration": 105,
    "start_time": "2023-05-31T20:41:00.547Z"
   },
   {
    "duration": 285,
    "start_time": "2023-05-31T20:41:00.655Z"
   },
   {
    "duration": 11,
    "start_time": "2023-05-31T20:41:00.942Z"
   },
   {
    "duration": 205,
    "start_time": "2023-05-31T20:41:00.955Z"
   },
   {
    "duration": 270,
    "start_time": "2023-05-31T20:41:01.163Z"
   },
   {
    "duration": 416,
    "start_time": "2023-05-31T20:41:01.435Z"
   },
   {
    "duration": 299,
    "start_time": "2023-05-31T20:41:01.854Z"
   },
   {
    "duration": 355,
    "start_time": "2023-05-31T20:41:02.155Z"
   },
   {
    "duration": 35,
    "start_time": "2023-05-31T20:41:02.512Z"
   },
   {
    "duration": 5,
    "start_time": "2023-05-31T20:41:02.549Z"
   },
   {
    "duration": 42,
    "start_time": "2023-05-31T20:41:02.562Z"
   },
   {
    "duration": 23,
    "start_time": "2023-05-31T20:41:02.606Z"
   },
   {
    "duration": 566,
    "start_time": "2023-05-31T20:41:02.631Z"
   },
   {
    "duration": 684,
    "start_time": "2023-05-31T20:41:03.199Z"
   },
   {
    "duration": 525,
    "start_time": "2023-05-31T20:41:03.886Z"
   },
   {
    "duration": 517,
    "start_time": "2023-05-31T20:41:04.414Z"
   },
   {
    "duration": 19,
    "start_time": "2023-05-31T20:41:04.933Z"
   },
   {
    "duration": 42,
    "start_time": "2023-05-31T20:41:04.954Z"
   },
   {
    "duration": 18,
    "start_time": "2023-05-31T20:41:04.997Z"
   },
   {
    "duration": 33,
    "start_time": "2023-05-31T20:41:05.017Z"
   },
   {
    "duration": 18,
    "start_time": "2023-05-31T20:41:05.054Z"
   },
   {
    "duration": 13,
    "start_time": "2023-05-31T20:41:05.074Z"
   },
   {
    "duration": 72,
    "start_time": "2023-05-31T20:41:05.089Z"
   },
   {
    "duration": 8,
    "start_time": "2023-05-31T20:41:05.163Z"
   },
   {
    "duration": 6,
    "start_time": "2023-05-31T20:41:05.173Z"
   },
   {
    "duration": 121,
    "start_time": "2023-05-31T20:41:05.181Z"
   },
   {
    "duration": 0,
    "start_time": "2023-05-31T20:41:05.304Z"
   },
   {
    "duration": 0,
    "start_time": "2023-05-31T20:41:05.305Z"
   },
   {
    "duration": 0,
    "start_time": "2023-05-31T20:41:05.307Z"
   },
   {
    "duration": 0,
    "start_time": "2023-05-31T20:41:05.308Z"
   },
   {
    "duration": 0,
    "start_time": "2023-05-31T20:41:05.309Z"
   },
   {
    "duration": 0,
    "start_time": "2023-05-31T20:41:05.311Z"
   },
   {
    "duration": 0,
    "start_time": "2023-05-31T20:41:05.312Z"
   },
   {
    "duration": 0,
    "start_time": "2023-05-31T20:41:05.314Z"
   },
   {
    "duration": 14,
    "start_time": "2023-05-31T20:42:30.385Z"
   },
   {
    "duration": 5,
    "start_time": "2023-05-31T20:42:45.985Z"
   },
   {
    "duration": 6,
    "start_time": "2023-05-31T20:47:53.560Z"
   },
   {
    "duration": 5,
    "start_time": "2023-05-31T20:49:49.859Z"
   },
   {
    "duration": 6,
    "start_time": "2023-05-31T20:50:34.350Z"
   },
   {
    "duration": 14,
    "start_time": "2023-05-31T20:57:41.306Z"
   },
   {
    "duration": 1115,
    "start_time": "2023-05-31T21:04:25.882Z"
   },
   {
    "duration": 38,
    "start_time": "2023-05-31T21:04:26.999Z"
   },
   {
    "duration": 16,
    "start_time": "2023-05-31T21:04:27.039Z"
   },
   {
    "duration": 56,
    "start_time": "2023-05-31T21:04:27.058Z"
   },
   {
    "duration": 10,
    "start_time": "2023-05-31T21:04:27.116Z"
   },
   {
    "duration": 20,
    "start_time": "2023-05-31T21:04:27.128Z"
   },
   {
    "duration": 14,
    "start_time": "2023-05-31T21:04:27.150Z"
   },
   {
    "duration": 22,
    "start_time": "2023-05-31T21:04:27.166Z"
   },
   {
    "duration": 9,
    "start_time": "2023-05-31T21:04:27.190Z"
   },
   {
    "duration": 9,
    "start_time": "2023-05-31T21:04:27.202Z"
   },
   {
    "duration": 44,
    "start_time": "2023-05-31T21:04:27.213Z"
   },
   {
    "duration": 5,
    "start_time": "2023-05-31T21:04:27.259Z"
   },
   {
    "duration": 15,
    "start_time": "2023-05-31T21:04:27.265Z"
   },
   {
    "duration": 6,
    "start_time": "2023-05-31T21:04:27.281Z"
   },
   {
    "duration": 16,
    "start_time": "2023-05-31T21:04:27.288Z"
   },
   {
    "duration": 8,
    "start_time": "2023-05-31T21:04:27.305Z"
   },
   {
    "duration": 178,
    "start_time": "2023-05-31T21:04:27.314Z"
   },
   {
    "duration": 9,
    "start_time": "2023-05-31T21:04:27.493Z"
   },
   {
    "duration": 179,
    "start_time": "2023-05-31T21:04:27.503Z"
   },
   {
    "duration": 129,
    "start_time": "2023-05-31T21:04:27.683Z"
   },
   {
    "duration": 104,
    "start_time": "2023-05-31T21:04:27.814Z"
   },
   {
    "duration": 270,
    "start_time": "2023-05-31T21:04:27.920Z"
   },
   {
    "duration": 8,
    "start_time": "2023-05-31T21:04:28.191Z"
   },
   {
    "duration": 210,
    "start_time": "2023-05-31T21:04:28.200Z"
   },
   {
    "duration": 380,
    "start_time": "2023-05-31T21:04:28.415Z"
   },
   {
    "duration": 289,
    "start_time": "2023-05-31T21:04:28.797Z"
   },
   {
    "duration": 276,
    "start_time": "2023-05-31T21:04:29.087Z"
   },
   {
    "duration": 296,
    "start_time": "2023-05-31T21:04:29.367Z"
   },
   {
    "duration": 25,
    "start_time": "2023-05-31T21:04:29.665Z"
   },
   {
    "duration": 5,
    "start_time": "2023-05-31T21:04:29.692Z"
   },
   {
    "duration": 28,
    "start_time": "2023-05-31T21:04:29.698Z"
   },
   {
    "duration": 35,
    "start_time": "2023-05-31T21:04:29.727Z"
   },
   {
    "duration": 531,
    "start_time": "2023-05-31T21:04:29.764Z"
   },
   {
    "duration": 625,
    "start_time": "2023-05-31T21:04:30.297Z"
   },
   {
    "duration": 504,
    "start_time": "2023-05-31T21:04:30.924Z"
   },
   {
    "duration": 502,
    "start_time": "2023-05-31T21:04:31.430Z"
   },
   {
    "duration": 28,
    "start_time": "2023-05-31T21:04:31.934Z"
   },
   {
    "duration": 29,
    "start_time": "2023-05-31T21:04:31.964Z"
   },
   {
    "duration": 86,
    "start_time": "2023-05-31T21:04:31.995Z"
   },
   {
    "duration": 30,
    "start_time": "2023-05-31T21:04:32.082Z"
   },
   {
    "duration": 23,
    "start_time": "2023-05-31T21:04:32.114Z"
   },
   {
    "duration": 40,
    "start_time": "2023-05-31T21:04:32.139Z"
   },
   {
    "duration": 63,
    "start_time": "2023-05-31T21:04:32.181Z"
   },
   {
    "duration": 7,
    "start_time": "2023-05-31T21:04:32.246Z"
   },
   {
    "duration": 13,
    "start_time": "2023-05-31T21:04:32.255Z"
   },
   {
    "duration": 24,
    "start_time": "2023-05-31T21:04:32.270Z"
   },
   {
    "duration": 8,
    "start_time": "2023-05-31T21:04:32.296Z"
   },
   {
    "duration": 96,
    "start_time": "2023-05-31T21:04:32.306Z"
   },
   {
    "duration": 0,
    "start_time": "2023-05-31T21:04:32.404Z"
   },
   {
    "duration": 0,
    "start_time": "2023-05-31T21:04:32.405Z"
   },
   {
    "duration": 0,
    "start_time": "2023-05-31T21:04:32.406Z"
   },
   {
    "duration": 0,
    "start_time": "2023-05-31T21:04:32.407Z"
   },
   {
    "duration": 0,
    "start_time": "2023-05-31T21:04:32.408Z"
   },
   {
    "duration": 0,
    "start_time": "2023-05-31T21:04:32.409Z"
   },
   {
    "duration": 0,
    "start_time": "2023-05-31T21:04:32.410Z"
   },
   {
    "duration": 1139,
    "start_time": "2023-05-31T21:05:11.259Z"
   },
   {
    "duration": 40,
    "start_time": "2023-05-31T21:05:12.400Z"
   },
   {
    "duration": 17,
    "start_time": "2023-05-31T21:05:12.441Z"
   },
   {
    "duration": 40,
    "start_time": "2023-05-31T21:05:12.459Z"
   },
   {
    "duration": 12,
    "start_time": "2023-05-31T21:05:12.501Z"
   },
   {
    "duration": 34,
    "start_time": "2023-05-31T21:05:12.514Z"
   },
   {
    "duration": 13,
    "start_time": "2023-05-31T21:05:12.550Z"
   },
   {
    "duration": 25,
    "start_time": "2023-05-31T21:05:12.565Z"
   },
   {
    "duration": 10,
    "start_time": "2023-05-31T21:05:12.591Z"
   },
   {
    "duration": 13,
    "start_time": "2023-05-31T21:05:12.603Z"
   },
   {
    "duration": 48,
    "start_time": "2023-05-31T21:05:12.618Z"
   },
   {
    "duration": 4,
    "start_time": "2023-05-31T21:05:12.668Z"
   },
   {
    "duration": 23,
    "start_time": "2023-05-31T21:05:12.674Z"
   },
   {
    "duration": 8,
    "start_time": "2023-05-31T21:05:12.701Z"
   },
   {
    "duration": 37,
    "start_time": "2023-05-31T21:05:12.711Z"
   },
   {
    "duration": 12,
    "start_time": "2023-05-31T21:05:12.750Z"
   },
   {
    "duration": 161,
    "start_time": "2023-05-31T21:05:12.764Z"
   },
   {
    "duration": 15,
    "start_time": "2023-05-31T21:05:12.927Z"
   },
   {
    "duration": 190,
    "start_time": "2023-05-31T21:05:12.947Z"
   },
   {
    "duration": 122,
    "start_time": "2023-05-31T21:05:13.139Z"
   },
   {
    "duration": 107,
    "start_time": "2023-05-31T21:05:13.263Z"
   },
   {
    "duration": 293,
    "start_time": "2023-05-31T21:05:13.372Z"
   },
   {
    "duration": 9,
    "start_time": "2023-05-31T21:05:13.667Z"
   },
   {
    "duration": 200,
    "start_time": "2023-05-31T21:05:13.678Z"
   },
   {
    "duration": 294,
    "start_time": "2023-05-31T21:05:13.879Z"
   },
   {
    "duration": 400,
    "start_time": "2023-05-31T21:05:14.176Z"
   },
   {
    "duration": 271,
    "start_time": "2023-05-31T21:05:14.577Z"
   },
   {
    "duration": 305,
    "start_time": "2023-05-31T21:05:14.850Z"
   },
   {
    "duration": 26,
    "start_time": "2023-05-31T21:05:15.157Z"
   },
   {
    "duration": 5,
    "start_time": "2023-05-31T21:05:15.184Z"
   },
   {
    "duration": 22,
    "start_time": "2023-05-31T21:05:15.191Z"
   },
   {
    "duration": 47,
    "start_time": "2023-05-31T21:05:15.215Z"
   },
   {
    "duration": 557,
    "start_time": "2023-05-31T21:05:15.264Z"
   },
   {
    "duration": 702,
    "start_time": "2023-05-31T21:05:15.824Z"
   },
   {
    "duration": 527,
    "start_time": "2023-05-31T21:05:16.529Z"
   },
   {
    "duration": 506,
    "start_time": "2023-05-31T21:05:17.058Z"
   },
   {
    "duration": 14,
    "start_time": "2023-05-31T21:05:17.566Z"
   },
   {
    "duration": 23,
    "start_time": "2023-05-31T21:05:17.582Z"
   },
   {
    "duration": 108,
    "start_time": "2023-05-31T21:05:17.607Z"
   },
   {
    "duration": 20,
    "start_time": "2023-05-31T21:05:17.717Z"
   },
   {
    "duration": 23,
    "start_time": "2023-05-31T21:05:17.740Z"
   },
   {
    "duration": 13,
    "start_time": "2023-05-31T21:05:17.765Z"
   },
   {
    "duration": 56,
    "start_time": "2023-05-31T21:05:17.780Z"
   },
   {
    "duration": 13,
    "start_time": "2023-05-31T21:05:17.838Z"
   },
   {
    "duration": 16,
    "start_time": "2023-05-31T21:05:17.853Z"
   },
   {
    "duration": 18,
    "start_time": "2023-05-31T21:05:17.871Z"
   },
   {
    "duration": 5,
    "start_time": "2023-05-31T21:05:17.891Z"
   },
   {
    "duration": 4,
    "start_time": "2023-05-31T21:05:17.898Z"
   },
   {
    "duration": 15,
    "start_time": "2023-05-31T21:05:17.904Z"
   },
   {
    "duration": 9,
    "start_time": "2023-05-31T21:05:17.921Z"
   },
   {
    "duration": 116,
    "start_time": "2023-05-31T21:05:17.932Z"
   },
   {
    "duration": 0,
    "start_time": "2023-05-31T21:05:18.050Z"
   },
   {
    "duration": 0,
    "start_time": "2023-05-31T21:05:18.051Z"
   },
   {
    "duration": 0,
    "start_time": "2023-05-31T21:05:18.056Z"
   },
   {
    "duration": 0,
    "start_time": "2023-05-31T21:05:18.057Z"
   },
   {
    "duration": 1121,
    "start_time": "2023-05-31T21:06:14.298Z"
   },
   {
    "duration": 38,
    "start_time": "2023-05-31T21:06:15.421Z"
   },
   {
    "duration": 12,
    "start_time": "2023-05-31T21:06:15.460Z"
   },
   {
    "duration": 39,
    "start_time": "2023-05-31T21:06:15.473Z"
   },
   {
    "duration": 11,
    "start_time": "2023-05-31T21:06:15.515Z"
   },
   {
    "duration": 20,
    "start_time": "2023-05-31T21:06:15.527Z"
   },
   {
    "duration": 9,
    "start_time": "2023-05-31T21:06:15.549Z"
   },
   {
    "duration": 16,
    "start_time": "2023-05-31T21:06:15.560Z"
   },
   {
    "duration": 11,
    "start_time": "2023-05-31T21:06:15.577Z"
   },
   {
    "duration": 12,
    "start_time": "2023-05-31T21:06:15.590Z"
   },
   {
    "duration": 49,
    "start_time": "2023-05-31T21:06:15.604Z"
   },
   {
    "duration": 5,
    "start_time": "2023-05-31T21:06:15.655Z"
   },
   {
    "duration": 21,
    "start_time": "2023-05-31T21:06:15.662Z"
   },
   {
    "duration": 7,
    "start_time": "2023-05-31T21:06:15.687Z"
   },
   {
    "duration": 14,
    "start_time": "2023-05-31T21:06:15.696Z"
   },
   {
    "duration": 38,
    "start_time": "2023-05-31T21:06:15.712Z"
   },
   {
    "duration": 160,
    "start_time": "2023-05-31T21:06:15.752Z"
   },
   {
    "duration": 8,
    "start_time": "2023-05-31T21:06:15.913Z"
   },
   {
    "duration": 174,
    "start_time": "2023-05-31T21:06:15.923Z"
   },
   {
    "duration": 122,
    "start_time": "2023-05-31T21:06:16.098Z"
   },
   {
    "duration": 98,
    "start_time": "2023-05-31T21:06:16.222Z"
   },
   {
    "duration": 262,
    "start_time": "2023-05-31T21:06:16.322Z"
   },
   {
    "duration": 11,
    "start_time": "2023-05-31T21:06:16.586Z"
   },
   {
    "duration": 167,
    "start_time": "2023-05-31T21:06:16.599Z"
   },
   {
    "duration": 252,
    "start_time": "2023-05-31T21:06:16.768Z"
   },
   {
    "duration": 366,
    "start_time": "2023-05-31T21:06:17.022Z"
   },
   {
    "duration": 243,
    "start_time": "2023-05-31T21:06:17.389Z"
   },
   {
    "duration": 264,
    "start_time": "2023-05-31T21:06:17.634Z"
   },
   {
    "duration": 24,
    "start_time": "2023-05-31T21:06:17.899Z"
   },
   {
    "duration": 19,
    "start_time": "2023-05-31T21:06:17.924Z"
   },
   {
    "duration": 22,
    "start_time": "2023-05-31T21:06:17.944Z"
   },
   {
    "duration": 19,
    "start_time": "2023-05-31T21:06:17.968Z"
   },
   {
    "duration": 616,
    "start_time": "2023-05-31T21:06:17.988Z"
   },
   {
    "duration": 613,
    "start_time": "2023-05-31T21:06:18.606Z"
   },
   {
    "duration": 521,
    "start_time": "2023-05-31T21:06:19.222Z"
   },
   {
    "duration": 504,
    "start_time": "2023-05-31T21:06:19.746Z"
   },
   {
    "duration": 15,
    "start_time": "2023-05-31T21:06:20.252Z"
   },
   {
    "duration": 33,
    "start_time": "2023-05-31T21:06:20.268Z"
   },
   {
    "duration": 19,
    "start_time": "2023-05-31T21:06:20.302Z"
   },
   {
    "duration": 20,
    "start_time": "2023-05-31T21:06:20.341Z"
   },
   {
    "duration": 22,
    "start_time": "2023-05-31T21:06:20.365Z"
   },
   {
    "duration": 18,
    "start_time": "2023-05-31T21:06:20.389Z"
   },
   {
    "duration": 68,
    "start_time": "2023-05-31T21:06:20.409Z"
   },
   {
    "duration": 8,
    "start_time": "2023-05-31T21:06:20.480Z"
   },
   {
    "duration": 13,
    "start_time": "2023-05-31T21:06:20.490Z"
   },
   {
    "duration": 23,
    "start_time": "2023-05-31T21:06:20.505Z"
   },
   {
    "duration": 13,
    "start_time": "2023-05-31T21:06:20.530Z"
   },
   {
    "duration": 6,
    "start_time": "2023-05-31T21:06:20.544Z"
   },
   {
    "duration": 5,
    "start_time": "2023-05-31T21:06:20.551Z"
   },
   {
    "duration": 5,
    "start_time": "2023-05-31T21:06:20.558Z"
   },
   {
    "duration": 5,
    "start_time": "2023-05-31T21:06:20.565Z"
   },
   {
    "duration": 7,
    "start_time": "2023-05-31T21:06:20.571Z"
   },
   {
    "duration": 5,
    "start_time": "2023-05-31T21:06:20.580Z"
   },
   {
    "duration": 152,
    "start_time": "2023-05-31T21:06:20.587Z"
   },
   {
    "duration": 177,
    "start_time": "2023-05-31T21:06:20.742Z"
   },
   {
    "duration": 3,
    "start_time": "2023-05-31T21:11:40.672Z"
   },
   {
    "duration": 111,
    "start_time": "2023-05-31T21:13:33.312Z"
   },
   {
    "duration": 5,
    "start_time": "2023-05-31T21:15:09.261Z"
   },
   {
    "duration": 16,
    "start_time": "2023-05-31T21:15:32.745Z"
   },
   {
    "duration": 12,
    "start_time": "2023-05-31T21:17:06.937Z"
   },
   {
    "duration": 15,
    "start_time": "2023-05-31T21:18:30.745Z"
   },
   {
    "duration": 12,
    "start_time": "2023-05-31T21:18:52.309Z"
   },
   {
    "duration": 16,
    "start_time": "2023-05-31T21:19:58.218Z"
   },
   {
    "duration": 4,
    "start_time": "2023-05-31T21:32:42.367Z"
   },
   {
    "duration": 4,
    "start_time": "2023-05-31T21:33:10.425Z"
   },
   {
    "duration": 12,
    "start_time": "2023-05-31T21:34:48.808Z"
   },
   {
    "duration": 12,
    "start_time": "2023-05-31T21:35:22.055Z"
   },
   {
    "duration": 9,
    "start_time": "2023-05-31T21:44:09.937Z"
   },
   {
    "duration": 4,
    "start_time": "2023-05-31T21:45:30.817Z"
   },
   {
    "duration": 9,
    "start_time": "2023-05-31T22:22:09.490Z"
   },
   {
    "duration": 55,
    "start_time": "2023-05-31T22:31:09.979Z"
   },
   {
    "duration": 10,
    "start_time": "2023-05-31T22:31:33.008Z"
   },
   {
    "duration": 9,
    "start_time": "2023-05-31T22:34:31.497Z"
   },
   {
    "duration": 4,
    "start_time": "2023-05-31T22:34:34.348Z"
   },
   {
    "duration": 6,
    "start_time": "2023-05-31T22:36:19.336Z"
   },
   {
    "duration": 7,
    "start_time": "2023-05-31T22:36:41.028Z"
   },
   {
    "duration": 5,
    "start_time": "2023-05-31T22:36:53.566Z"
   },
   {
    "duration": 5,
    "start_time": "2023-05-31T22:37:44.777Z"
   },
   {
    "duration": 5,
    "start_time": "2023-05-31T22:42:06.713Z"
   },
   {
    "duration": 6,
    "start_time": "2023-05-31T22:42:19.029Z"
   },
   {
    "duration": 12,
    "start_time": "2023-05-31T22:43:07.651Z"
   },
   {
    "duration": 1127,
    "start_time": "2023-05-31T22:49:34.033Z"
   },
   {
    "duration": 37,
    "start_time": "2023-05-31T22:49:35.162Z"
   },
   {
    "duration": 10,
    "start_time": "2023-05-31T22:49:35.201Z"
   },
   {
    "duration": 39,
    "start_time": "2023-05-31T22:49:35.213Z"
   },
   {
    "duration": 11,
    "start_time": "2023-05-31T22:49:35.254Z"
   },
   {
    "duration": 22,
    "start_time": "2023-05-31T22:49:35.266Z"
   },
   {
    "duration": 9,
    "start_time": "2023-05-31T22:49:35.290Z"
   },
   {
    "duration": 14,
    "start_time": "2023-05-31T22:49:35.301Z"
   },
   {
    "duration": 25,
    "start_time": "2023-05-31T22:49:35.316Z"
   },
   {
    "duration": 11,
    "start_time": "2023-05-31T22:49:35.343Z"
   },
   {
    "duration": 20,
    "start_time": "2023-05-31T22:49:35.356Z"
   },
   {
    "duration": 4,
    "start_time": "2023-05-31T22:49:35.378Z"
   },
   {
    "duration": 24,
    "start_time": "2023-05-31T22:49:35.383Z"
   },
   {
    "duration": 27,
    "start_time": "2023-05-31T22:49:35.410Z"
   },
   {
    "duration": 17,
    "start_time": "2023-05-31T22:49:35.442Z"
   },
   {
    "duration": 11,
    "start_time": "2023-05-31T22:49:35.461Z"
   },
   {
    "duration": 144,
    "start_time": "2023-05-31T22:49:35.474Z"
   },
   {
    "duration": 10,
    "start_time": "2023-05-31T22:49:35.620Z"
   },
   {
    "duration": 175,
    "start_time": "2023-05-31T22:49:35.642Z"
   },
   {
    "duration": 118,
    "start_time": "2023-05-31T22:49:35.819Z"
   },
   {
    "duration": 102,
    "start_time": "2023-05-31T22:49:35.941Z"
   },
   {
    "duration": 287,
    "start_time": "2023-05-31T22:49:36.045Z"
   },
   {
    "duration": 16,
    "start_time": "2023-05-31T22:49:36.334Z"
   },
   {
    "duration": 214,
    "start_time": "2023-05-31T22:49:36.353Z"
   },
   {
    "duration": 275,
    "start_time": "2023-05-31T22:49:36.569Z"
   },
   {
    "duration": 383,
    "start_time": "2023-05-31T22:49:36.845Z"
   },
   {
    "duration": 275,
    "start_time": "2023-05-31T22:49:37.230Z"
   },
   {
    "duration": 289,
    "start_time": "2023-05-31T22:49:37.506Z"
   },
   {
    "duration": 24,
    "start_time": "2023-05-31T22:49:37.797Z"
   },
   {
    "duration": 21,
    "start_time": "2023-05-31T22:49:37.823Z"
   },
   {
    "duration": 25,
    "start_time": "2023-05-31T22:49:37.845Z"
   },
   {
    "duration": 20,
    "start_time": "2023-05-31T22:49:37.871Z"
   },
   {
    "duration": 601,
    "start_time": "2023-05-31T22:49:37.893Z"
   },
   {
    "duration": 629,
    "start_time": "2023-05-31T22:49:38.496Z"
   },
   {
    "duration": 542,
    "start_time": "2023-05-31T22:49:39.126Z"
   },
   {
    "duration": 531,
    "start_time": "2023-05-31T22:49:39.670Z"
   },
   {
    "duration": 13,
    "start_time": "2023-05-31T22:49:40.204Z"
   },
   {
    "duration": 40,
    "start_time": "2023-05-31T22:49:40.219Z"
   },
   {
    "duration": 21,
    "start_time": "2023-05-31T22:49:40.260Z"
   },
   {
    "duration": 20,
    "start_time": "2023-05-31T22:49:40.282Z"
   },
   {
    "duration": 40,
    "start_time": "2023-05-31T22:49:40.306Z"
   },
   {
    "duration": 14,
    "start_time": "2023-05-31T22:49:40.347Z"
   },
   {
    "duration": 55,
    "start_time": "2023-05-31T22:49:40.363Z"
   },
   {
    "duration": 23,
    "start_time": "2023-05-31T22:49:40.420Z"
   },
   {
    "duration": 12,
    "start_time": "2023-05-31T22:49:40.445Z"
   },
   {
    "duration": 3,
    "start_time": "2023-05-31T22:49:40.459Z"
   },
   {
    "duration": 4,
    "start_time": "2023-05-31T22:49:40.464Z"
   },
   {
    "duration": 5,
    "start_time": "2023-05-31T22:49:40.469Z"
   },
   {
    "duration": 4,
    "start_time": "2023-05-31T22:49:40.476Z"
   },
   {
    "duration": 10,
    "start_time": "2023-05-31T22:49:40.482Z"
   },
   {
    "duration": 6,
    "start_time": "2023-05-31T22:49:40.493Z"
   },
   {
    "duration": 7,
    "start_time": "2023-05-31T22:49:40.501Z"
   },
   {
    "duration": 3,
    "start_time": "2023-05-31T22:49:40.542Z"
   },
   {
    "duration": 15,
    "start_time": "2023-05-31T22:49:40.548Z"
   },
   {
    "duration": 6,
    "start_time": "2023-05-31T22:49:40.565Z"
   },
   {
    "duration": 8,
    "start_time": "2023-05-31T22:49:40.573Z"
   },
   {
    "duration": 5,
    "start_time": "2023-05-31T22:49:40.583Z"
   },
   {
    "duration": 203,
    "start_time": "2023-05-31T22:49:40.589Z"
   },
   {
    "duration": 175,
    "start_time": "2023-05-31T22:49:40.795Z"
   },
   {
    "duration": 1267,
    "start_time": "2023-05-31T23:14:42.056Z"
   },
   {
    "duration": 46,
    "start_time": "2023-05-31T23:14:43.325Z"
   },
   {
    "duration": 14,
    "start_time": "2023-05-31T23:14:43.373Z"
   },
   {
    "duration": 40,
    "start_time": "2023-05-31T23:14:43.388Z"
   },
   {
    "duration": 19,
    "start_time": "2023-05-31T23:14:43.430Z"
   },
   {
    "duration": 39,
    "start_time": "2023-05-31T23:14:43.453Z"
   },
   {
    "duration": 10,
    "start_time": "2023-05-31T23:14:43.494Z"
   },
   {
    "duration": 18,
    "start_time": "2023-05-31T23:14:43.506Z"
   },
   {
    "duration": 10,
    "start_time": "2023-05-31T23:14:43.526Z"
   },
   {
    "duration": 18,
    "start_time": "2023-05-31T23:14:43.538Z"
   },
   {
    "duration": 25,
    "start_time": "2023-05-31T23:14:43.558Z"
   },
   {
    "duration": 21,
    "start_time": "2023-05-31T23:14:43.584Z"
   },
   {
    "duration": 16,
    "start_time": "2023-05-31T23:14:43.607Z"
   },
   {
    "duration": 7,
    "start_time": "2023-05-31T23:14:43.626Z"
   },
   {
    "duration": 35,
    "start_time": "2023-05-31T23:14:43.635Z"
   },
   {
    "duration": 9,
    "start_time": "2023-05-31T23:14:43.672Z"
   },
   {
    "duration": 145,
    "start_time": "2023-05-31T23:14:43.683Z"
   },
   {
    "duration": 20,
    "start_time": "2023-05-31T23:14:43.829Z"
   },
   {
    "duration": 179,
    "start_time": "2023-05-31T23:14:43.857Z"
   },
   {
    "duration": 153,
    "start_time": "2023-05-31T23:14:44.038Z"
   },
   {
    "duration": 98,
    "start_time": "2023-05-31T23:14:44.194Z"
   },
   {
    "duration": 265,
    "start_time": "2023-05-31T23:14:44.294Z"
   },
   {
    "duration": 9,
    "start_time": "2023-05-31T23:14:44.560Z"
   },
   {
    "duration": 167,
    "start_time": "2023-05-31T23:14:44.570Z"
   },
   {
    "duration": 253,
    "start_time": "2023-05-31T23:14:44.739Z"
   },
   {
    "duration": 374,
    "start_time": "2023-05-31T23:14:44.993Z"
   },
   {
    "duration": 258,
    "start_time": "2023-05-31T23:14:45.368Z"
   },
   {
    "duration": 274,
    "start_time": "2023-05-31T23:14:45.628Z"
   },
   {
    "duration": 24,
    "start_time": "2023-05-31T23:14:45.903Z"
   },
   {
    "duration": 18,
    "start_time": "2023-05-31T23:14:45.928Z"
   },
   {
    "duration": 32,
    "start_time": "2023-05-31T23:14:45.948Z"
   },
   {
    "duration": 20,
    "start_time": "2023-05-31T23:14:45.981Z"
   },
   {
    "duration": 490,
    "start_time": "2023-05-31T23:14:46.003Z"
   },
   {
    "duration": 610,
    "start_time": "2023-05-31T23:14:46.495Z"
   },
   {
    "duration": 535,
    "start_time": "2023-05-31T23:14:47.107Z"
   },
   {
    "duration": 480,
    "start_time": "2023-05-31T23:14:47.653Z"
   },
   {
    "duration": 29,
    "start_time": "2023-05-31T23:14:48.134Z"
   },
   {
    "duration": 37,
    "start_time": "2023-05-31T23:14:48.165Z"
   },
   {
    "duration": 22,
    "start_time": "2023-05-31T23:14:48.204Z"
   },
   {
    "duration": 45,
    "start_time": "2023-05-31T23:14:48.228Z"
   },
   {
    "duration": 36,
    "start_time": "2023-05-31T23:14:48.280Z"
   },
   {
    "duration": 21,
    "start_time": "2023-05-31T23:14:48.318Z"
   },
   {
    "duration": 67,
    "start_time": "2023-05-31T23:14:48.341Z"
   },
   {
    "duration": 17,
    "start_time": "2023-05-31T23:14:48.411Z"
   },
   {
    "duration": 22,
    "start_time": "2023-05-31T23:14:48.430Z"
   },
   {
    "duration": 32,
    "start_time": "2023-05-31T23:14:48.453Z"
   },
   {
    "duration": 8,
    "start_time": "2023-05-31T23:14:48.488Z"
   },
   {
    "duration": 11,
    "start_time": "2023-05-31T23:14:48.498Z"
   },
   {
    "duration": 19,
    "start_time": "2023-05-31T23:14:48.511Z"
   },
   {
    "duration": 15,
    "start_time": "2023-05-31T23:14:48.532Z"
   },
   {
    "duration": 23,
    "start_time": "2023-05-31T23:14:48.557Z"
   },
   {
    "duration": 11,
    "start_time": "2023-05-31T23:14:48.582Z"
   },
   {
    "duration": 8,
    "start_time": "2023-05-31T23:14:48.594Z"
   },
   {
    "duration": 19,
    "start_time": "2023-05-31T23:14:48.604Z"
   },
   {
    "duration": 8,
    "start_time": "2023-05-31T23:14:48.625Z"
   },
   {
    "duration": 15,
    "start_time": "2023-05-31T23:14:48.634Z"
   },
   {
    "duration": 20,
    "start_time": "2023-05-31T23:14:48.652Z"
   },
   {
    "duration": 148,
    "start_time": "2023-05-31T23:14:48.675Z"
   },
   {
    "duration": 178,
    "start_time": "2023-05-31T23:14:48.825Z"
   },
   {
    "duration": 1256,
    "start_time": "2023-05-31T23:19:01.474Z"
   },
   {
    "duration": 47,
    "start_time": "2023-05-31T23:19:02.733Z"
   },
   {
    "duration": 11,
    "start_time": "2023-05-31T23:19:02.782Z"
   },
   {
    "duration": 52,
    "start_time": "2023-05-31T23:19:02.795Z"
   },
   {
    "duration": 15,
    "start_time": "2023-05-31T23:19:02.849Z"
   },
   {
    "duration": 34,
    "start_time": "2023-05-31T23:19:02.866Z"
   },
   {
    "duration": 15,
    "start_time": "2023-05-31T23:19:02.902Z"
   },
   {
    "duration": 39,
    "start_time": "2023-05-31T23:19:02.919Z"
   },
   {
    "duration": 17,
    "start_time": "2023-05-31T23:19:02.959Z"
   },
   {
    "duration": 15,
    "start_time": "2023-05-31T23:19:02.978Z"
   },
   {
    "duration": 22,
    "start_time": "2023-05-31T23:19:02.994Z"
   },
   {
    "duration": 29,
    "start_time": "2023-05-31T23:19:03.018Z"
   },
   {
    "duration": 16,
    "start_time": "2023-05-31T23:19:03.049Z"
   },
   {
    "duration": 6,
    "start_time": "2023-05-31T23:19:03.068Z"
   },
   {
    "duration": 35,
    "start_time": "2023-05-31T23:19:03.076Z"
   },
   {
    "duration": 32,
    "start_time": "2023-05-31T23:19:03.113Z"
   },
   {
    "duration": 212,
    "start_time": "2023-05-31T23:19:03.147Z"
   },
   {
    "duration": 8,
    "start_time": "2023-05-31T23:19:03.361Z"
   },
   {
    "duration": 191,
    "start_time": "2023-05-31T23:19:03.371Z"
   },
   {
    "duration": 122,
    "start_time": "2023-05-31T23:19:03.564Z"
   },
   {
    "duration": 102,
    "start_time": "2023-05-31T23:19:03.688Z"
   },
   {
    "duration": 294,
    "start_time": "2023-05-31T23:19:03.793Z"
   },
   {
    "duration": 15,
    "start_time": "2023-05-31T23:19:04.090Z"
   },
   {
    "duration": 211,
    "start_time": "2023-05-31T23:19:04.107Z"
   },
   {
    "duration": 366,
    "start_time": "2023-05-31T23:19:04.321Z"
   },
   {
    "duration": 327,
    "start_time": "2023-05-31T23:19:04.689Z"
   },
   {
    "duration": 282,
    "start_time": "2023-05-31T23:19:05.019Z"
   },
   {
    "duration": 307,
    "start_time": "2023-05-31T23:19:05.303Z"
   },
   {
    "duration": 40,
    "start_time": "2023-05-31T23:19:05.612Z"
   },
   {
    "duration": 5,
    "start_time": "2023-05-31T23:19:05.660Z"
   },
   {
    "duration": 26,
    "start_time": "2023-05-31T23:19:05.666Z"
   },
   {
    "duration": 19,
    "start_time": "2023-05-31T23:19:05.693Z"
   },
   {
    "duration": 552,
    "start_time": "2023-05-31T23:19:05.713Z"
   },
   {
    "duration": 684,
    "start_time": "2023-05-31T23:19:06.267Z"
   },
   {
    "duration": 543,
    "start_time": "2023-05-31T23:19:06.952Z"
   },
   {
    "duration": 521,
    "start_time": "2023-05-31T23:19:07.498Z"
   },
   {
    "duration": 26,
    "start_time": "2023-05-31T23:19:08.020Z"
   },
   {
    "duration": 40,
    "start_time": "2023-05-31T23:19:08.048Z"
   },
   {
    "duration": 22,
    "start_time": "2023-05-31T23:19:08.090Z"
   },
   {
    "duration": 37,
    "start_time": "2023-05-31T23:19:08.114Z"
   },
   {
    "duration": 24,
    "start_time": "2023-05-31T23:19:08.155Z"
   },
   {
    "duration": 15,
    "start_time": "2023-05-31T23:19:08.181Z"
   },
   {
    "duration": 82,
    "start_time": "2023-05-31T23:19:08.198Z"
   },
   {
    "duration": 17,
    "start_time": "2023-05-31T23:19:08.282Z"
   },
   {
    "duration": 24,
    "start_time": "2023-05-31T23:19:08.301Z"
   },
   {
    "duration": 47,
    "start_time": "2023-05-31T23:19:08.327Z"
   },
   {
    "duration": 19,
    "start_time": "2023-05-31T23:19:08.375Z"
   },
   {
    "duration": 15,
    "start_time": "2023-05-31T23:19:08.397Z"
   },
   {
    "duration": 6,
    "start_time": "2023-05-31T23:19:08.414Z"
   },
   {
    "duration": 13,
    "start_time": "2023-05-31T23:19:08.422Z"
   },
   {
    "duration": 20,
    "start_time": "2023-05-31T23:19:08.437Z"
   },
   {
    "duration": 27,
    "start_time": "2023-05-31T23:19:08.459Z"
   },
   {
    "duration": 18,
    "start_time": "2023-05-31T23:19:08.489Z"
   },
   {
    "duration": 12,
    "start_time": "2023-05-31T23:19:08.509Z"
   },
   {
    "duration": 6,
    "start_time": "2023-05-31T23:19:08.523Z"
   },
   {
    "duration": 15,
    "start_time": "2023-05-31T23:19:08.530Z"
   },
   {
    "duration": 21,
    "start_time": "2023-05-31T23:19:08.547Z"
   },
   {
    "duration": 151,
    "start_time": "2023-05-31T23:19:08.570Z"
   },
   {
    "duration": 202,
    "start_time": "2023-05-31T23:19:08.723Z"
   },
   {
    "duration": 1023,
    "start_time": "2023-06-01T15:10:09.803Z"
   },
   {
    "duration": 37,
    "start_time": "2023-06-01T15:10:10.828Z"
   },
   {
    "duration": 10,
    "start_time": "2023-06-01T15:10:10.867Z"
   },
   {
    "duration": 73,
    "start_time": "2023-06-01T15:10:10.879Z"
   },
   {
    "duration": 11,
    "start_time": "2023-06-01T15:10:10.954Z"
   },
   {
    "duration": 50,
    "start_time": "2023-06-01T15:10:10.966Z"
   },
   {
    "duration": 9,
    "start_time": "2023-06-01T15:10:11.017Z"
   },
   {
    "duration": 26,
    "start_time": "2023-06-01T15:10:11.028Z"
   },
   {
    "duration": 22,
    "start_time": "2023-06-01T15:10:11.055Z"
   },
   {
    "duration": 16,
    "start_time": "2023-06-01T15:10:11.079Z"
   },
   {
    "duration": 38,
    "start_time": "2023-06-01T15:10:11.097Z"
   },
   {
    "duration": 22,
    "start_time": "2023-06-01T15:10:11.136Z"
   },
   {
    "duration": 17,
    "start_time": "2023-06-01T15:10:11.159Z"
   },
   {
    "duration": 5,
    "start_time": "2023-06-01T15:10:11.178Z"
   },
   {
    "duration": 25,
    "start_time": "2023-06-01T15:10:11.184Z"
   },
   {
    "duration": 13,
    "start_time": "2023-06-01T15:10:11.211Z"
   },
   {
    "duration": 128,
    "start_time": "2023-06-01T15:10:11.225Z"
   },
   {
    "duration": 6,
    "start_time": "2023-06-01T15:10:11.355Z"
   },
   {
    "duration": 160,
    "start_time": "2023-06-01T15:10:11.363Z"
   },
   {
    "duration": 108,
    "start_time": "2023-06-01T15:10:11.525Z"
   },
   {
    "duration": 89,
    "start_time": "2023-06-01T15:10:11.634Z"
   },
   {
    "duration": 233,
    "start_time": "2023-06-01T15:10:11.724Z"
   },
   {
    "duration": 7,
    "start_time": "2023-06-01T15:10:11.958Z"
   },
   {
    "duration": 156,
    "start_time": "2023-06-01T15:10:11.966Z"
   },
   {
    "duration": 274,
    "start_time": "2023-06-01T15:10:12.123Z"
   },
   {
    "duration": 261,
    "start_time": "2023-06-01T15:10:12.399Z"
   },
   {
    "duration": 220,
    "start_time": "2023-06-01T15:10:12.661Z"
   },
   {
    "duration": 254,
    "start_time": "2023-06-01T15:10:12.887Z"
   },
   {
    "duration": 21,
    "start_time": "2023-06-01T15:10:13.142Z"
   },
   {
    "duration": 4,
    "start_time": "2023-06-01T15:10:13.165Z"
   },
   {
    "duration": 24,
    "start_time": "2023-06-01T15:10:13.186Z"
   },
   {
    "duration": 20,
    "start_time": "2023-06-01T15:10:13.212Z"
   },
   {
    "duration": 429,
    "start_time": "2023-06-01T15:10:13.234Z"
   },
   {
    "duration": 499,
    "start_time": "2023-06-01T15:10:13.665Z"
   },
   {
    "duration": 446,
    "start_time": "2023-06-01T15:10:14.165Z"
   },
   {
    "duration": 448,
    "start_time": "2023-06-01T15:10:14.613Z"
   },
   {
    "duration": 24,
    "start_time": "2023-06-01T15:10:15.063Z"
   },
   {
    "duration": 65,
    "start_time": "2023-06-01T15:10:15.088Z"
   },
   {
    "duration": 70,
    "start_time": "2023-06-01T15:10:15.158Z"
   },
   {
    "duration": 37,
    "start_time": "2023-06-01T15:10:15.230Z"
   },
   {
    "duration": 29,
    "start_time": "2023-06-01T15:10:15.269Z"
   },
   {
    "duration": 46,
    "start_time": "2023-06-01T15:10:15.300Z"
   },
   {
    "duration": 95,
    "start_time": "2023-06-01T15:10:15.347Z"
   },
   {
    "duration": 18,
    "start_time": "2023-06-01T15:10:15.444Z"
   },
   {
    "duration": 25,
    "start_time": "2023-06-01T15:10:15.464Z"
   },
   {
    "duration": 31,
    "start_time": "2023-06-01T15:10:15.491Z"
   },
   {
    "duration": 38,
    "start_time": "2023-06-01T15:10:15.524Z"
   },
   {
    "duration": 57,
    "start_time": "2023-06-01T15:10:15.564Z"
   },
   {
    "duration": 24,
    "start_time": "2023-06-01T15:10:15.623Z"
   },
   {
    "duration": 14,
    "start_time": "2023-06-01T15:10:15.649Z"
   },
   {
    "duration": 7,
    "start_time": "2023-06-01T15:10:15.665Z"
   },
   {
    "duration": 5,
    "start_time": "2023-06-01T15:10:15.674Z"
   },
   {
    "duration": 23,
    "start_time": "2023-06-01T15:10:15.681Z"
   },
   {
    "duration": 14,
    "start_time": "2023-06-01T15:10:15.705Z"
   },
   {
    "duration": 12,
    "start_time": "2023-06-01T15:10:15.720Z"
   },
   {
    "duration": 15,
    "start_time": "2023-06-01T15:10:15.733Z"
   },
   {
    "duration": 8,
    "start_time": "2023-06-01T15:10:15.749Z"
   },
   {
    "duration": 144,
    "start_time": "2023-06-01T15:10:15.758Z"
   },
   {
    "duration": 179,
    "start_time": "2023-06-01T15:10:15.904Z"
   },
   {
    "duration": 95,
    "start_time": "2023-06-01T15:15:27.704Z"
   },
   {
    "duration": 5,
    "start_time": "2023-06-01T15:15:43.285Z"
   },
   {
    "duration": 1075,
    "start_time": "2023-06-01T15:29:13.259Z"
   },
   {
    "duration": 40,
    "start_time": "2023-06-01T15:29:14.336Z"
   },
   {
    "duration": 13,
    "start_time": "2023-06-01T15:29:14.378Z"
   },
   {
    "duration": 52,
    "start_time": "2023-06-01T15:29:14.398Z"
   },
   {
    "duration": 9,
    "start_time": "2023-06-01T15:29:14.453Z"
   },
   {
    "duration": 25,
    "start_time": "2023-06-01T15:29:14.464Z"
   },
   {
    "duration": 30,
    "start_time": "2023-06-01T15:29:14.491Z"
   },
   {
    "duration": 17,
    "start_time": "2023-06-01T15:29:14.523Z"
   },
   {
    "duration": 10,
    "start_time": "2023-06-01T15:29:14.542Z"
   },
   {
    "duration": 26,
    "start_time": "2023-06-01T15:29:14.555Z"
   },
   {
    "duration": 18,
    "start_time": "2023-06-01T15:29:14.582Z"
   },
   {
    "duration": 4,
    "start_time": "2023-06-01T15:29:14.601Z"
   },
   {
    "duration": 13,
    "start_time": "2023-06-01T15:29:14.607Z"
   },
   {
    "duration": 5,
    "start_time": "2023-06-01T15:29:14.622Z"
   },
   {
    "duration": 13,
    "start_time": "2023-06-01T15:29:14.629Z"
   },
   {
    "duration": 11,
    "start_time": "2023-06-01T15:29:14.644Z"
   },
   {
    "duration": 191,
    "start_time": "2023-06-01T15:29:14.657Z"
   },
   {
    "duration": 9,
    "start_time": "2023-06-01T15:29:14.850Z"
   },
   {
    "duration": 180,
    "start_time": "2023-06-01T15:29:14.860Z"
   },
   {
    "duration": 122,
    "start_time": "2023-06-01T15:29:15.042Z"
   },
   {
    "duration": 174,
    "start_time": "2023-06-01T15:29:15.165Z"
   },
   {
    "duration": 281,
    "start_time": "2023-06-01T15:29:15.341Z"
   },
   {
    "duration": 11,
    "start_time": "2023-06-01T15:29:15.624Z"
   },
   {
    "duration": 250,
    "start_time": "2023-06-01T15:29:15.637Z"
   },
   {
    "duration": 443,
    "start_time": "2023-06-01T15:29:15.889Z"
   },
   {
    "duration": 291,
    "start_time": "2023-06-01T15:29:16.333Z"
   },
   {
    "duration": 249,
    "start_time": "2023-06-01T15:29:16.626Z"
   },
   {
    "duration": 246,
    "start_time": "2023-06-01T15:29:16.878Z"
   },
   {
    "duration": 22,
    "start_time": "2023-06-01T15:29:17.126Z"
   },
   {
    "duration": 4,
    "start_time": "2023-06-01T15:29:17.150Z"
   },
   {
    "duration": 48,
    "start_time": "2023-06-01T15:29:17.156Z"
   },
   {
    "duration": 25,
    "start_time": "2023-06-01T15:29:17.206Z"
   },
   {
    "duration": 405,
    "start_time": "2023-06-01T15:29:17.233Z"
   },
   {
    "duration": 473,
    "start_time": "2023-06-01T15:29:17.639Z"
   },
   {
    "duration": 508,
    "start_time": "2023-06-01T15:29:18.115Z"
   },
   {
    "duration": 422,
    "start_time": "2023-06-01T15:29:18.625Z"
   },
   {
    "duration": 12,
    "start_time": "2023-06-01T15:29:19.048Z"
   },
   {
    "duration": 32,
    "start_time": "2023-06-01T15:29:19.061Z"
   },
   {
    "duration": 32,
    "start_time": "2023-06-01T15:29:19.095Z"
   },
   {
    "duration": 17,
    "start_time": "2023-06-01T15:29:19.129Z"
   },
   {
    "duration": 15,
    "start_time": "2023-06-01T15:29:19.147Z"
   },
   {
    "duration": 31,
    "start_time": "2023-06-01T15:29:19.163Z"
   },
   {
    "duration": 35,
    "start_time": "2023-06-01T15:29:19.195Z"
   },
   {
    "duration": 11,
    "start_time": "2023-06-01T15:29:19.231Z"
   },
   {
    "duration": 17,
    "start_time": "2023-06-01T15:29:19.243Z"
   },
   {
    "duration": 11,
    "start_time": "2023-06-01T15:29:19.262Z"
   },
   {
    "duration": 13,
    "start_time": "2023-06-01T15:29:19.274Z"
   },
   {
    "duration": 5,
    "start_time": "2023-06-01T15:29:19.288Z"
   },
   {
    "duration": 4,
    "start_time": "2023-06-01T15:29:19.294Z"
   },
   {
    "duration": 9,
    "start_time": "2023-06-01T15:29:19.299Z"
   },
   {
    "duration": 5,
    "start_time": "2023-06-01T15:29:19.310Z"
   },
   {
    "duration": 4,
    "start_time": "2023-06-01T15:29:19.317Z"
   },
   {
    "duration": 8,
    "start_time": "2023-06-01T15:29:19.323Z"
   },
   {
    "duration": 12,
    "start_time": "2023-06-01T15:29:19.333Z"
   },
   {
    "duration": 6,
    "start_time": "2023-06-01T15:29:19.347Z"
   },
   {
    "duration": 30,
    "start_time": "2023-06-01T15:29:19.355Z"
   },
   {
    "duration": 4,
    "start_time": "2023-06-01T15:29:19.387Z"
   },
   {
    "duration": 162,
    "start_time": "2023-06-01T15:29:19.392Z"
   },
   {
    "duration": 166,
    "start_time": "2023-06-01T15:29:19.556Z"
   },
   {
    "duration": 1283,
    "start_time": "2023-06-01T21:22:26.116Z"
   },
   {
    "duration": 85,
    "start_time": "2023-06-01T21:22:27.401Z"
   },
   {
    "duration": 11,
    "start_time": "2023-06-01T21:22:27.487Z"
   },
   {
    "duration": 75,
    "start_time": "2023-06-01T21:22:27.500Z"
   },
   {
    "duration": 11,
    "start_time": "2023-06-01T21:22:27.578Z"
   },
   {
    "duration": 62,
    "start_time": "2023-06-01T21:22:27.591Z"
   },
   {
    "duration": 9,
    "start_time": "2023-06-01T21:22:27.654Z"
   },
   {
    "duration": 13,
    "start_time": "2023-06-01T21:22:27.665Z"
   },
   {
    "duration": 8,
    "start_time": "2023-06-01T21:22:27.680Z"
   },
   {
    "duration": 9,
    "start_time": "2023-06-01T21:22:27.690Z"
   },
   {
    "duration": 19,
    "start_time": "2023-06-01T21:22:27.700Z"
   },
   {
    "duration": 4,
    "start_time": "2023-06-01T21:22:27.721Z"
   },
   {
    "duration": 16,
    "start_time": "2023-06-01T21:22:27.726Z"
   },
   {
    "duration": 5,
    "start_time": "2023-06-01T21:22:27.745Z"
   },
   {
    "duration": 10,
    "start_time": "2023-06-01T21:22:27.752Z"
   },
   {
    "duration": 8,
    "start_time": "2023-06-01T21:22:27.764Z"
   },
   {
    "duration": 158,
    "start_time": "2023-06-01T21:22:27.773Z"
   },
   {
    "duration": 8,
    "start_time": "2023-06-01T21:22:27.932Z"
   },
   {
    "duration": 162,
    "start_time": "2023-06-01T21:22:27.941Z"
   },
   {
    "duration": 135,
    "start_time": "2023-06-01T21:22:28.104Z"
   },
   {
    "duration": 87,
    "start_time": "2023-06-01T21:22:28.241Z"
   },
   {
    "duration": 249,
    "start_time": "2023-06-01T21:22:28.330Z"
   },
   {
    "duration": 7,
    "start_time": "2023-06-01T21:22:28.580Z"
   },
   {
    "duration": 156,
    "start_time": "2023-06-01T21:22:28.589Z"
   },
   {
    "duration": 153,
    "start_time": "2023-06-01T21:22:28.747Z"
   },
   {
    "duration": 268,
    "start_time": "2023-06-01T21:22:28.902Z"
   },
   {
    "duration": 263,
    "start_time": "2023-06-01T21:22:29.171Z"
   },
   {
    "duration": 236,
    "start_time": "2023-06-01T21:22:29.436Z"
   },
   {
    "duration": 253,
    "start_time": "2023-06-01T21:22:29.674Z"
   },
   {
    "duration": 23,
    "start_time": "2023-06-01T21:22:29.929Z"
   },
   {
    "duration": 5,
    "start_time": "2023-06-01T21:22:29.953Z"
   },
   {
    "duration": 22,
    "start_time": "2023-06-01T21:22:29.960Z"
   },
   {
    "duration": 39,
    "start_time": "2023-06-01T21:22:29.984Z"
   },
   {
    "duration": 451,
    "start_time": "2023-06-01T21:22:30.024Z"
   },
   {
    "duration": 550,
    "start_time": "2023-06-01T21:22:30.477Z"
   },
   {
    "duration": 430,
    "start_time": "2023-06-01T21:22:31.029Z"
   },
   {
    "duration": 472,
    "start_time": "2023-06-01T21:22:31.460Z"
   },
   {
    "duration": 18,
    "start_time": "2023-06-01T21:22:31.934Z"
   },
   {
    "duration": 70,
    "start_time": "2023-06-01T21:22:31.954Z"
   },
   {
    "duration": 20,
    "start_time": "2023-06-01T21:22:32.025Z"
   },
   {
    "duration": 17,
    "start_time": "2023-06-01T21:22:32.049Z"
   },
   {
    "duration": 34,
    "start_time": "2023-06-01T21:22:32.068Z"
   },
   {
    "duration": 26,
    "start_time": "2023-06-01T21:22:32.104Z"
   },
   {
    "duration": 58,
    "start_time": "2023-06-01T21:22:32.131Z"
   },
   {
    "duration": 13,
    "start_time": "2023-06-01T21:22:32.190Z"
   },
   {
    "duration": 32,
    "start_time": "2023-06-01T21:22:32.204Z"
   },
   {
    "duration": 32,
    "start_time": "2023-06-01T21:22:32.237Z"
   },
   {
    "duration": 18,
    "start_time": "2023-06-01T21:22:32.271Z"
   },
   {
    "duration": 18,
    "start_time": "2023-06-01T21:22:32.291Z"
   },
   {
    "duration": 13,
    "start_time": "2023-06-01T21:22:32.310Z"
   },
   {
    "duration": 25,
    "start_time": "2023-06-01T21:22:32.325Z"
   },
   {
    "duration": 17,
    "start_time": "2023-06-01T21:22:32.351Z"
   },
   {
    "duration": 15,
    "start_time": "2023-06-01T21:22:32.370Z"
   },
   {
    "duration": 28,
    "start_time": "2023-06-01T21:22:32.387Z"
   },
   {
    "duration": 26,
    "start_time": "2023-06-01T21:22:32.416Z"
   },
   {
    "duration": 21,
    "start_time": "2023-06-01T21:22:32.444Z"
   },
   {
    "duration": 18,
    "start_time": "2023-06-01T21:22:32.467Z"
   },
   {
    "duration": 5,
    "start_time": "2023-06-01T21:22:32.487Z"
   },
   {
    "duration": 135,
    "start_time": "2023-06-01T21:22:32.494Z"
   },
   {
    "duration": 176,
    "start_time": "2023-06-01T21:22:32.630Z"
   },
   {
    "duration": 288,
    "start_time": "2023-06-01T21:23:35.210Z"
   },
   {
    "duration": 208,
    "start_time": "2023-06-01T21:23:42.941Z"
   },
   {
    "duration": 202,
    "start_time": "2023-06-01T21:23:51.711Z"
   },
   {
    "duration": 11,
    "start_time": "2023-06-01T21:28:22.577Z"
   },
   {
    "duration": 3,
    "start_time": "2023-06-01T21:28:32.563Z"
   },
   {
    "duration": 13,
    "start_time": "2023-06-01T21:32:36.400Z"
   },
   {
    "duration": 10,
    "start_time": "2023-06-01T21:33:01.899Z"
   },
   {
    "duration": 929,
    "start_time": "2023-06-01T21:41:15.313Z"
   },
   {
    "duration": 46,
    "start_time": "2023-06-01T21:41:28.313Z"
   },
   {
    "duration": 4,
    "start_time": "2023-06-01T21:43:15.701Z"
   },
   {
    "duration": 47,
    "start_time": "2023-06-01T21:52:54.608Z"
   },
   {
    "duration": 1085,
    "start_time": "2023-06-01T21:55:02.138Z"
   },
   {
    "duration": 42,
    "start_time": "2023-06-01T21:55:03.225Z"
   },
   {
    "duration": 10,
    "start_time": "2023-06-01T21:55:03.269Z"
   },
   {
    "duration": 34,
    "start_time": "2023-06-01T21:55:03.281Z"
   },
   {
    "duration": 15,
    "start_time": "2023-06-01T21:55:03.318Z"
   },
   {
    "duration": 28,
    "start_time": "2023-06-01T21:55:03.335Z"
   },
   {
    "duration": 10,
    "start_time": "2023-06-01T21:55:03.364Z"
   },
   {
    "duration": 20,
    "start_time": "2023-06-01T21:55:03.376Z"
   },
   {
    "duration": 11,
    "start_time": "2023-06-01T21:55:03.398Z"
   },
   {
    "duration": 13,
    "start_time": "2023-06-01T21:55:03.416Z"
   },
   {
    "duration": 30,
    "start_time": "2023-06-01T21:55:03.431Z"
   },
   {
    "duration": 7,
    "start_time": "2023-06-01T21:55:03.463Z"
   },
   {
    "duration": 16,
    "start_time": "2023-06-01T21:55:03.471Z"
   },
   {
    "duration": 6,
    "start_time": "2023-06-01T21:55:03.490Z"
   },
   {
    "duration": 30,
    "start_time": "2023-06-01T21:55:03.498Z"
   },
   {
    "duration": 11,
    "start_time": "2023-06-01T21:55:03.530Z"
   },
   {
    "duration": 146,
    "start_time": "2023-06-01T21:55:03.543Z"
   },
   {
    "duration": 9,
    "start_time": "2023-06-01T21:55:03.692Z"
   },
   {
    "duration": 178,
    "start_time": "2023-06-01T21:55:03.717Z"
   },
   {
    "duration": 109,
    "start_time": "2023-06-01T21:55:03.897Z"
   },
   {
    "duration": 127,
    "start_time": "2023-06-01T21:55:04.008Z"
   },
   {
    "duration": 243,
    "start_time": "2023-06-01T21:55:04.143Z"
   },
   {
    "duration": 8,
    "start_time": "2023-06-01T21:55:04.388Z"
   },
   {
    "duration": 181,
    "start_time": "2023-06-01T21:55:04.398Z"
   },
   {
    "duration": 243,
    "start_time": "2023-06-01T21:55:04.581Z"
   },
   {
    "duration": 333,
    "start_time": "2023-06-01T21:55:04.826Z"
   },
   {
    "duration": 276,
    "start_time": "2023-06-01T21:55:05.160Z"
   },
   {
    "duration": 233,
    "start_time": "2023-06-01T21:55:05.438Z"
   },
   {
    "duration": 274,
    "start_time": "2023-06-01T21:55:05.673Z"
   },
   {
    "duration": 8,
    "start_time": "2023-06-01T21:55:05.949Z"
   },
   {
    "duration": 29,
    "start_time": "2023-06-01T21:55:05.958Z"
   },
   {
    "duration": 5,
    "start_time": "2023-06-01T21:55:05.989Z"
   },
   {
    "duration": 45,
    "start_time": "2023-06-01T21:55:05.995Z"
   },
   {
    "duration": 19,
    "start_time": "2023-06-01T21:55:06.042Z"
   },
   {
    "duration": 456,
    "start_time": "2023-06-01T21:55:06.063Z"
   },
   {
    "duration": 541,
    "start_time": "2023-06-01T21:55:06.520Z"
   },
   {
    "duration": 451,
    "start_time": "2023-06-01T21:55:07.062Z"
   },
   {
    "duration": 452,
    "start_time": "2023-06-01T21:55:07.515Z"
   },
   {
    "duration": 13,
    "start_time": "2023-06-01T21:55:07.968Z"
   },
   {
    "duration": 23,
    "start_time": "2023-06-01T21:55:07.982Z"
   },
   {
    "duration": 22,
    "start_time": "2023-06-01T21:55:08.020Z"
   },
   {
    "duration": 20,
    "start_time": "2023-06-01T21:55:08.043Z"
   },
   {
    "duration": 23,
    "start_time": "2023-06-01T21:55:08.066Z"
   },
   {
    "duration": 25,
    "start_time": "2023-06-01T21:55:08.117Z"
   },
   {
    "duration": 25,
    "start_time": "2023-06-01T21:55:08.144Z"
   },
   {
    "duration": 113,
    "start_time": "2023-06-01T21:55:08.170Z"
   },
   {
    "duration": 0,
    "start_time": "2023-06-01T21:55:08.285Z"
   },
   {
    "duration": 0,
    "start_time": "2023-06-01T21:55:08.286Z"
   },
   {
    "duration": 0,
    "start_time": "2023-06-01T21:55:08.287Z"
   },
   {
    "duration": 0,
    "start_time": "2023-06-01T21:55:08.288Z"
   },
   {
    "duration": 0,
    "start_time": "2023-06-01T21:55:08.290Z"
   },
   {
    "duration": 0,
    "start_time": "2023-06-01T21:55:08.291Z"
   },
   {
    "duration": 0,
    "start_time": "2023-06-01T21:55:08.291Z"
   },
   {
    "duration": 0,
    "start_time": "2023-06-01T21:55:08.293Z"
   },
   {
    "duration": 0,
    "start_time": "2023-06-01T21:55:08.294Z"
   },
   {
    "duration": 0,
    "start_time": "2023-06-01T21:55:08.295Z"
   },
   {
    "duration": 0,
    "start_time": "2023-06-01T21:55:08.296Z"
   },
   {
    "duration": 0,
    "start_time": "2023-06-01T21:55:08.297Z"
   },
   {
    "duration": 0,
    "start_time": "2023-06-01T21:55:08.298Z"
   },
   {
    "duration": 0,
    "start_time": "2023-06-01T21:55:08.299Z"
   },
   {
    "duration": 0,
    "start_time": "2023-06-01T21:55:08.299Z"
   },
   {
    "duration": 0,
    "start_time": "2023-06-01T21:55:08.318Z"
   },
   {
    "duration": 0,
    "start_time": "2023-06-01T21:55:08.320Z"
   },
   {
    "duration": 1210,
    "start_time": "2023-06-01T21:55:52.952Z"
   },
   {
    "duration": 39,
    "start_time": "2023-06-01T21:55:54.164Z"
   },
   {
    "duration": 13,
    "start_time": "2023-06-01T21:55:54.204Z"
   },
   {
    "duration": 61,
    "start_time": "2023-06-01T21:55:54.219Z"
   },
   {
    "duration": 15,
    "start_time": "2023-06-01T21:55:54.284Z"
   },
   {
    "duration": 19,
    "start_time": "2023-06-01T21:55:54.300Z"
   },
   {
    "duration": 10,
    "start_time": "2023-06-01T21:55:54.321Z"
   },
   {
    "duration": 24,
    "start_time": "2023-06-01T21:55:54.333Z"
   },
   {
    "duration": 10,
    "start_time": "2023-06-01T21:55:54.358Z"
   },
   {
    "duration": 18,
    "start_time": "2023-06-01T21:55:54.369Z"
   },
   {
    "duration": 20,
    "start_time": "2023-06-01T21:55:54.388Z"
   },
   {
    "duration": 6,
    "start_time": "2023-06-01T21:55:54.418Z"
   },
   {
    "duration": 28,
    "start_time": "2023-06-01T21:55:54.428Z"
   },
   {
    "duration": 7,
    "start_time": "2023-06-01T21:55:54.460Z"
   },
   {
    "duration": 18,
    "start_time": "2023-06-01T21:55:54.468Z"
   },
   {
    "duration": 10,
    "start_time": "2023-06-01T21:55:54.488Z"
   },
   {
    "duration": 199,
    "start_time": "2023-06-01T21:55:54.500Z"
   },
   {
    "duration": 17,
    "start_time": "2023-06-01T21:55:54.701Z"
   },
   {
    "duration": 228,
    "start_time": "2023-06-01T21:55:54.720Z"
   },
   {
    "duration": 120,
    "start_time": "2023-06-01T21:55:54.955Z"
   },
   {
    "duration": 105,
    "start_time": "2023-06-01T21:55:55.076Z"
   },
   {
    "duration": 294,
    "start_time": "2023-06-01T21:55:55.183Z"
   },
   {
    "duration": 8,
    "start_time": "2023-06-01T21:55:55.478Z"
   },
   {
    "duration": 176,
    "start_time": "2023-06-01T21:55:55.487Z"
   },
   {
    "duration": 220,
    "start_time": "2023-06-01T21:55:55.665Z"
   },
   {
    "duration": 348,
    "start_time": "2023-06-01T21:55:55.887Z"
   },
   {
    "duration": 301,
    "start_time": "2023-06-01T21:55:56.236Z"
   },
   {
    "duration": 234,
    "start_time": "2023-06-01T21:55:56.539Z"
   },
   {
    "duration": 264,
    "start_time": "2023-06-01T21:55:56.775Z"
   },
   {
    "duration": 10,
    "start_time": "2023-06-01T21:55:57.041Z"
   },
   {
    "duration": 29,
    "start_time": "2023-06-01T21:55:57.053Z"
   },
   {
    "duration": 4,
    "start_time": "2023-06-01T21:55:57.084Z"
   },
   {
    "duration": 54,
    "start_time": "2023-06-01T21:55:57.089Z"
   },
   {
    "duration": 19,
    "start_time": "2023-06-01T21:55:57.144Z"
   },
   {
    "duration": 491,
    "start_time": "2023-06-01T21:55:57.165Z"
   },
   {
    "duration": 548,
    "start_time": "2023-06-01T21:55:57.657Z"
   },
   {
    "duration": 451,
    "start_time": "2023-06-01T21:55:58.206Z"
   },
   {
    "duration": 459,
    "start_time": "2023-06-01T21:55:58.658Z"
   },
   {
    "duration": 15,
    "start_time": "2023-06-01T21:55:59.119Z"
   },
   {
    "duration": 24,
    "start_time": "2023-06-01T21:55:59.135Z"
   },
   {
    "duration": 16,
    "start_time": "2023-06-01T21:55:59.162Z"
   },
   {
    "duration": 18,
    "start_time": "2023-06-01T21:55:59.179Z"
   },
   {
    "duration": 20,
    "start_time": "2023-06-01T21:55:59.218Z"
   },
   {
    "duration": 13,
    "start_time": "2023-06-01T21:55:59.240Z"
   },
   {
    "duration": 4,
    "start_time": "2023-06-01T21:55:59.255Z"
   },
   {
    "duration": 66,
    "start_time": "2023-06-01T21:55:59.260Z"
   },
   {
    "duration": 14,
    "start_time": "2023-06-01T21:55:59.328Z"
   },
   {
    "duration": 24,
    "start_time": "2023-06-01T21:55:59.344Z"
   },
   {
    "duration": 14,
    "start_time": "2023-06-01T21:55:59.370Z"
   },
   {
    "duration": 11,
    "start_time": "2023-06-01T21:55:59.386Z"
   },
   {
    "duration": 15,
    "start_time": "2023-06-01T21:55:59.398Z"
   },
   {
    "duration": 22,
    "start_time": "2023-06-01T21:55:59.415Z"
   },
   {
    "duration": 18,
    "start_time": "2023-06-01T21:55:59.438Z"
   },
   {
    "duration": 4,
    "start_time": "2023-06-01T21:55:59.458Z"
   },
   {
    "duration": 5,
    "start_time": "2023-06-01T21:55:59.464Z"
   },
   {
    "duration": 6,
    "start_time": "2023-06-01T21:55:59.471Z"
   },
   {
    "duration": 16,
    "start_time": "2023-06-01T21:55:59.478Z"
   },
   {
    "duration": 6,
    "start_time": "2023-06-01T21:55:59.496Z"
   },
   {
    "duration": 8,
    "start_time": "2023-06-01T21:55:59.504Z"
   },
   {
    "duration": 18,
    "start_time": "2023-06-01T21:55:59.514Z"
   },
   {
    "duration": 142,
    "start_time": "2023-06-01T21:55:59.534Z"
   },
   {
    "duration": 166,
    "start_time": "2023-06-01T21:55:59.678Z"
   },
   {
    "duration": 117,
    "start_time": "2023-06-01T21:59:53.752Z"
   },
   {
    "duration": 5,
    "start_time": "2023-06-01T22:00:12.410Z"
   },
   {
    "duration": 80,
    "start_time": "2023-06-01T22:01:23.534Z"
   },
   {
    "duration": 4,
    "start_time": "2023-06-01T22:01:26.595Z"
   },
   {
    "duration": 6,
    "start_time": "2023-06-01T22:01:33.692Z"
   },
   {
    "duration": 3,
    "start_time": "2023-06-01T22:01:36.466Z"
   },
   {
    "duration": 4,
    "start_time": "2023-06-01T22:02:12.275Z"
   },
   {
    "duration": 1147,
    "start_time": "2023-06-01T22:02:33.435Z"
   },
   {
    "duration": 42,
    "start_time": "2023-06-01T22:02:34.583Z"
   },
   {
    "duration": 21,
    "start_time": "2023-06-01T22:02:34.626Z"
   },
   {
    "duration": 42,
    "start_time": "2023-06-01T22:02:34.649Z"
   },
   {
    "duration": 16,
    "start_time": "2023-06-01T22:02:34.694Z"
   },
   {
    "duration": 68,
    "start_time": "2023-06-01T22:02:34.712Z"
   },
   {
    "duration": 13,
    "start_time": "2023-06-01T22:02:34.782Z"
   },
   {
    "duration": 31,
    "start_time": "2023-06-01T22:02:34.796Z"
   },
   {
    "duration": 25,
    "start_time": "2023-06-01T22:02:34.829Z"
   },
   {
    "duration": 16,
    "start_time": "2023-06-01T22:02:34.857Z"
   },
   {
    "duration": 27,
    "start_time": "2023-06-01T22:02:34.875Z"
   },
   {
    "duration": 33,
    "start_time": "2023-06-01T22:02:34.904Z"
   },
   {
    "duration": 26,
    "start_time": "2023-06-01T22:02:34.940Z"
   },
   {
    "duration": 8,
    "start_time": "2023-06-01T22:02:34.970Z"
   },
   {
    "duration": 19,
    "start_time": "2023-06-01T22:02:34.980Z"
   },
   {
    "duration": 18,
    "start_time": "2023-06-01T22:02:35.001Z"
   },
   {
    "duration": 147,
    "start_time": "2023-06-01T22:02:35.021Z"
   },
   {
    "duration": 8,
    "start_time": "2023-06-01T22:02:35.169Z"
   },
   {
    "duration": 169,
    "start_time": "2023-06-01T22:02:35.179Z"
   },
   {
    "duration": 119,
    "start_time": "2023-06-01T22:02:35.350Z"
   },
   {
    "duration": 100,
    "start_time": "2023-06-01T22:02:35.471Z"
   },
   {
    "duration": 256,
    "start_time": "2023-06-01T22:02:35.572Z"
   },
   {
    "duration": 12,
    "start_time": "2023-06-01T22:02:35.829Z"
   },
   {
    "duration": 169,
    "start_time": "2023-06-01T22:02:35.843Z"
   },
   {
    "duration": 233,
    "start_time": "2023-06-01T22:02:36.018Z"
   },
   {
    "duration": 301,
    "start_time": "2023-06-01T22:02:36.253Z"
   },
   {
    "duration": 270,
    "start_time": "2023-06-01T22:02:36.555Z"
   },
   {
    "duration": 237,
    "start_time": "2023-06-01T22:02:36.828Z"
   },
   {
    "duration": 276,
    "start_time": "2023-06-01T22:02:37.066Z"
   },
   {
    "duration": 8,
    "start_time": "2023-06-01T22:02:37.344Z"
   },
   {
    "duration": 23,
    "start_time": "2023-06-01T22:02:37.353Z"
   },
   {
    "duration": 5,
    "start_time": "2023-06-01T22:02:37.378Z"
   },
   {
    "duration": 50,
    "start_time": "2023-06-01T22:02:37.385Z"
   },
   {
    "duration": 20,
    "start_time": "2023-06-01T22:02:37.438Z"
   },
   {
    "duration": 529,
    "start_time": "2023-06-01T22:02:37.460Z"
   },
   {
    "duration": 545,
    "start_time": "2023-06-01T22:02:37.990Z"
   },
   {
    "duration": 449,
    "start_time": "2023-06-01T22:02:38.537Z"
   },
   {
    "duration": 433,
    "start_time": "2023-06-01T22:02:38.988Z"
   },
   {
    "duration": 15,
    "start_time": "2023-06-01T22:02:39.423Z"
   },
   {
    "duration": 25,
    "start_time": "2023-06-01T22:02:39.440Z"
   },
   {
    "duration": 18,
    "start_time": "2023-06-01T22:02:39.469Z"
   },
   {
    "duration": 44,
    "start_time": "2023-06-01T22:02:39.488Z"
   },
   {
    "duration": 15,
    "start_time": "2023-06-01T22:02:39.533Z"
   },
   {
    "duration": 13,
    "start_time": "2023-06-01T22:02:39.550Z"
   },
   {
    "duration": 16,
    "start_time": "2023-06-01T22:02:39.565Z"
   },
   {
    "duration": 62,
    "start_time": "2023-06-01T22:02:39.583Z"
   },
   {
    "duration": 17,
    "start_time": "2023-06-01T22:02:39.647Z"
   },
   {
    "duration": 119,
    "start_time": "2023-06-01T22:02:39.666Z"
   },
   {
    "duration": 0,
    "start_time": "2023-06-01T22:02:39.787Z"
   },
   {
    "duration": 0,
    "start_time": "2023-06-01T22:02:39.788Z"
   },
   {
    "duration": 0,
    "start_time": "2023-06-01T22:02:39.789Z"
   },
   {
    "duration": 0,
    "start_time": "2023-06-01T22:02:39.789Z"
   },
   {
    "duration": 0,
    "start_time": "2023-06-01T22:02:39.790Z"
   },
   {
    "duration": 0,
    "start_time": "2023-06-01T22:02:39.791Z"
   },
   {
    "duration": 0,
    "start_time": "2023-06-01T22:02:39.792Z"
   },
   {
    "duration": 0,
    "start_time": "2023-06-01T22:02:39.793Z"
   },
   {
    "duration": 0,
    "start_time": "2023-06-01T22:02:39.794Z"
   },
   {
    "duration": 0,
    "start_time": "2023-06-01T22:02:39.795Z"
   },
   {
    "duration": 0,
    "start_time": "2023-06-01T22:02:39.795Z"
   },
   {
    "duration": 0,
    "start_time": "2023-06-01T22:02:39.796Z"
   },
   {
    "duration": 0,
    "start_time": "2023-06-01T22:02:39.797Z"
   },
   {
    "duration": 0,
    "start_time": "2023-06-01T22:02:39.818Z"
   },
   {
    "duration": 0,
    "start_time": "2023-06-01T22:02:39.819Z"
   },
   {
    "duration": 45,
    "start_time": "2023-06-01T22:04:41.017Z"
   },
   {
    "duration": 9,
    "start_time": "2023-06-01T22:05:58.642Z"
   },
   {
    "duration": 7,
    "start_time": "2023-06-01T22:06:15.155Z"
   },
   {
    "duration": 110,
    "start_time": "2023-06-01T22:06:27.318Z"
   },
   {
    "duration": 5,
    "start_time": "2023-06-01T22:06:32.669Z"
   },
   {
    "duration": 6,
    "start_time": "2023-06-01T22:07:15.666Z"
   },
   {
    "duration": 3,
    "start_time": "2023-06-01T22:07:29.006Z"
   },
   {
    "duration": 1122,
    "start_time": "2023-06-01T22:07:43.755Z"
   },
   {
    "duration": 38,
    "start_time": "2023-06-01T22:07:44.879Z"
   },
   {
    "duration": 10,
    "start_time": "2023-06-01T22:07:44.919Z"
   },
   {
    "duration": 36,
    "start_time": "2023-06-01T22:07:44.931Z"
   },
   {
    "duration": 12,
    "start_time": "2023-06-01T22:07:44.970Z"
   },
   {
    "duration": 21,
    "start_time": "2023-06-01T22:07:44.983Z"
   },
   {
    "duration": 15,
    "start_time": "2023-06-01T22:07:45.005Z"
   },
   {
    "duration": 52,
    "start_time": "2023-06-01T22:07:45.021Z"
   },
   {
    "duration": 34,
    "start_time": "2023-06-01T22:07:45.074Z"
   },
   {
    "duration": 9,
    "start_time": "2023-06-01T22:07:45.109Z"
   },
   {
    "duration": 19,
    "start_time": "2023-06-01T22:07:45.119Z"
   },
   {
    "duration": 4,
    "start_time": "2023-06-01T22:07:45.139Z"
   },
   {
    "duration": 14,
    "start_time": "2023-06-01T22:07:45.144Z"
   },
   {
    "duration": 5,
    "start_time": "2023-06-01T22:07:45.161Z"
   },
   {
    "duration": 10,
    "start_time": "2023-06-01T22:07:45.168Z"
   },
   {
    "duration": 8,
    "start_time": "2023-06-01T22:07:45.180Z"
   },
   {
    "duration": 135,
    "start_time": "2023-06-01T22:07:45.218Z"
   },
   {
    "duration": 8,
    "start_time": "2023-06-01T22:07:45.354Z"
   },
   {
    "duration": 178,
    "start_time": "2023-06-01T22:07:45.363Z"
   },
   {
    "duration": 111,
    "start_time": "2023-06-01T22:07:45.542Z"
   },
   {
    "duration": 97,
    "start_time": "2023-06-01T22:07:45.655Z"
   },
   {
    "duration": 248,
    "start_time": "2023-06-01T22:07:45.754Z"
   },
   {
    "duration": 17,
    "start_time": "2023-06-01T22:07:46.004Z"
   },
   {
    "duration": 164,
    "start_time": "2023-06-01T22:07:46.023Z"
   },
   {
    "duration": 206,
    "start_time": "2023-06-01T22:07:46.189Z"
   },
   {
    "duration": 284,
    "start_time": "2023-06-01T22:07:46.396Z"
   },
   {
    "duration": 263,
    "start_time": "2023-06-01T22:07:46.681Z"
   },
   {
    "duration": 220,
    "start_time": "2023-06-01T22:07:46.945Z"
   },
   {
    "duration": 247,
    "start_time": "2023-06-01T22:07:47.167Z"
   },
   {
    "duration": 9,
    "start_time": "2023-06-01T22:07:47.417Z"
   },
   {
    "duration": 21,
    "start_time": "2023-06-01T22:07:47.427Z"
   },
   {
    "duration": 5,
    "start_time": "2023-06-01T22:07:47.450Z"
   },
   {
    "duration": 23,
    "start_time": "2023-06-01T22:07:47.457Z"
   },
   {
    "duration": 48,
    "start_time": "2023-06-01T22:07:47.482Z"
   },
   {
    "duration": 430,
    "start_time": "2023-06-01T22:07:47.531Z"
   },
   {
    "duration": 544,
    "start_time": "2023-06-01T22:07:47.962Z"
   },
   {
    "duration": 427,
    "start_time": "2023-06-01T22:07:48.508Z"
   },
   {
    "duration": 423,
    "start_time": "2023-06-01T22:07:48.936Z"
   },
   {
    "duration": 15,
    "start_time": "2023-06-01T22:07:49.360Z"
   },
   {
    "duration": 27,
    "start_time": "2023-06-01T22:07:49.376Z"
   },
   {
    "duration": 19,
    "start_time": "2023-06-01T22:07:49.420Z"
   },
   {
    "duration": 18,
    "start_time": "2023-06-01T22:07:49.441Z"
   },
   {
    "duration": 17,
    "start_time": "2023-06-01T22:07:49.461Z"
   },
   {
    "duration": 39,
    "start_time": "2023-06-01T22:07:49.480Z"
   },
   {
    "duration": 5,
    "start_time": "2023-06-01T22:07:49.521Z"
   },
   {
    "duration": 59,
    "start_time": "2023-06-01T22:07:49.528Z"
   },
   {
    "duration": 14,
    "start_time": "2023-06-01T22:07:49.589Z"
   },
   {
    "duration": 14,
    "start_time": "2023-06-01T22:07:49.618Z"
   },
   {
    "duration": 13,
    "start_time": "2023-06-01T22:07:49.634Z"
   },
   {
    "duration": 13,
    "start_time": "2023-06-01T22:07:49.649Z"
   },
   {
    "duration": 16,
    "start_time": "2023-06-01T22:07:49.664Z"
   },
   {
    "duration": 18,
    "start_time": "2023-06-01T22:07:49.682Z"
   },
   {
    "duration": 9,
    "start_time": "2023-06-01T22:07:49.701Z"
   },
   {
    "duration": 23,
    "start_time": "2023-06-01T22:07:49.713Z"
   },
   {
    "duration": 19,
    "start_time": "2023-06-01T22:07:49.738Z"
   },
   {
    "duration": 16,
    "start_time": "2023-06-01T22:07:49.758Z"
   },
   {
    "duration": 27,
    "start_time": "2023-06-01T22:07:49.776Z"
   },
   {
    "duration": 18,
    "start_time": "2023-06-01T22:07:49.805Z"
   },
   {
    "duration": 18,
    "start_time": "2023-06-01T22:07:49.825Z"
   },
   {
    "duration": 7,
    "start_time": "2023-06-01T22:07:49.845Z"
   },
   {
    "duration": 6,
    "start_time": "2023-06-01T22:07:49.853Z"
   },
   {
    "duration": 145,
    "start_time": "2023-06-01T22:07:49.860Z"
   },
   {
    "duration": 171,
    "start_time": "2023-06-01T22:07:50.006Z"
   },
   {
    "duration": 7,
    "start_time": "2023-06-01T22:14:00.036Z"
   },
   {
    "duration": 1063,
    "start_time": "2023-06-01T22:14:57.105Z"
   },
   {
    "duration": 37,
    "start_time": "2023-06-01T22:14:58.170Z"
   },
   {
    "duration": 16,
    "start_time": "2023-06-01T22:14:58.209Z"
   },
   {
    "duration": 34,
    "start_time": "2023-06-01T22:14:58.228Z"
   },
   {
    "duration": 10,
    "start_time": "2023-06-01T22:14:58.264Z"
   },
   {
    "duration": 21,
    "start_time": "2023-06-01T22:14:58.276Z"
   },
   {
    "duration": 10,
    "start_time": "2023-06-01T22:14:58.299Z"
   },
   {
    "duration": 16,
    "start_time": "2023-06-01T22:14:58.311Z"
   },
   {
    "duration": 8,
    "start_time": "2023-06-01T22:14:58.329Z"
   },
   {
    "duration": 9,
    "start_time": "2023-06-01T22:14:58.339Z"
   },
   {
    "duration": 19,
    "start_time": "2023-06-01T22:14:58.349Z"
   },
   {
    "duration": 3,
    "start_time": "2023-06-01T22:14:58.370Z"
   },
   {
    "duration": 44,
    "start_time": "2023-06-01T22:14:58.374Z"
   },
   {
    "duration": 6,
    "start_time": "2023-06-01T22:14:58.421Z"
   },
   {
    "duration": 11,
    "start_time": "2023-06-01T22:14:58.429Z"
   },
   {
    "duration": 8,
    "start_time": "2023-06-01T22:14:58.442Z"
   },
   {
    "duration": 152,
    "start_time": "2023-06-01T22:14:58.451Z"
   },
   {
    "duration": 7,
    "start_time": "2023-06-01T22:14:58.605Z"
   },
   {
    "duration": 154,
    "start_time": "2023-06-01T22:14:58.618Z"
   },
   {
    "duration": 104,
    "start_time": "2023-06-01T22:14:58.773Z"
   },
   {
    "duration": 90,
    "start_time": "2023-06-01T22:14:58.879Z"
   },
   {
    "duration": 228,
    "start_time": "2023-06-01T22:14:58.971Z"
   },
   {
    "duration": 6,
    "start_time": "2023-06-01T22:14:59.201Z"
   },
   {
    "duration": 166,
    "start_time": "2023-06-01T22:14:59.209Z"
   },
   {
    "duration": 204,
    "start_time": "2023-06-01T22:14:59.377Z"
   },
   {
    "duration": 289,
    "start_time": "2023-06-01T22:14:59.582Z"
   },
   {
    "duration": 271,
    "start_time": "2023-06-01T22:14:59.872Z"
   },
   {
    "duration": 225,
    "start_time": "2023-06-01T22:15:00.144Z"
   },
   {
    "duration": 258,
    "start_time": "2023-06-01T22:15:00.371Z"
   },
   {
    "duration": 8,
    "start_time": "2023-06-01T22:15:00.631Z"
   },
   {
    "duration": 38,
    "start_time": "2023-06-01T22:15:00.641Z"
   },
   {
    "duration": 15,
    "start_time": "2023-06-01T22:15:00.681Z"
   },
   {
    "duration": 116,
    "start_time": "2023-06-01T22:15:00.698Z"
   },
   {
    "duration": 32,
    "start_time": "2023-06-01T22:15:00.815Z"
   },
   {
    "duration": 469,
    "start_time": "2023-06-01T22:15:00.850Z"
   },
   {
    "duration": 527,
    "start_time": "2023-06-01T22:15:01.320Z"
   },
   {
    "duration": 446,
    "start_time": "2023-06-01T22:15:01.848Z"
   },
   {
    "duration": 422,
    "start_time": "2023-06-01T22:15:02.295Z"
   },
   {
    "duration": 14,
    "start_time": "2023-06-01T22:15:02.719Z"
   },
   {
    "duration": 20,
    "start_time": "2023-06-01T22:15:02.735Z"
   },
   {
    "duration": 23,
    "start_time": "2023-06-01T22:15:02.760Z"
   },
   {
    "duration": 45,
    "start_time": "2023-06-01T22:15:02.785Z"
   },
   {
    "duration": 16,
    "start_time": "2023-06-01T22:15:02.833Z"
   },
   {
    "duration": 12,
    "start_time": "2023-06-01T22:15:02.850Z"
   },
   {
    "duration": 16,
    "start_time": "2023-06-01T22:15:02.863Z"
   },
   {
    "duration": 47,
    "start_time": "2023-06-01T22:15:02.881Z"
   },
   {
    "duration": 11,
    "start_time": "2023-06-01T22:15:02.930Z"
   },
   {
    "duration": 17,
    "start_time": "2023-06-01T22:15:02.943Z"
   },
   {
    "duration": 6,
    "start_time": "2023-06-01T22:15:02.961Z"
   },
   {
    "duration": 7,
    "start_time": "2023-06-01T22:15:02.968Z"
   },
   {
    "duration": 6,
    "start_time": "2023-06-01T22:15:02.976Z"
   },
   {
    "duration": 5,
    "start_time": "2023-06-01T22:15:02.983Z"
   },
   {
    "duration": 18,
    "start_time": "2023-06-01T22:15:02.989Z"
   },
   {
    "duration": 18,
    "start_time": "2023-06-01T22:15:03.008Z"
   },
   {
    "duration": 21,
    "start_time": "2023-06-01T22:15:03.028Z"
   },
   {
    "duration": 32,
    "start_time": "2023-06-01T22:15:03.051Z"
   },
   {
    "duration": 7,
    "start_time": "2023-06-01T22:15:03.085Z"
   },
   {
    "duration": 9,
    "start_time": "2023-06-01T22:15:03.093Z"
   },
   {
    "duration": 21,
    "start_time": "2023-06-01T22:15:03.103Z"
   },
   {
    "duration": 15,
    "start_time": "2023-06-01T22:15:03.126Z"
   },
   {
    "duration": 15,
    "start_time": "2023-06-01T22:15:03.143Z"
   },
   {
    "duration": 4,
    "start_time": "2023-06-01T22:15:03.160Z"
   },
   {
    "duration": 135,
    "start_time": "2023-06-01T22:15:03.165Z"
   },
   {
    "duration": 167,
    "start_time": "2023-06-01T22:15:03.302Z"
   },
   {
    "duration": 6,
    "start_time": "2023-06-01T22:18:16.941Z"
   },
   {
    "duration": 1075,
    "start_time": "2023-06-01T22:19:07.536Z"
   },
   {
    "duration": 10,
    "start_time": "2023-06-01T22:20:23.696Z"
   },
   {
    "duration": 4,
    "start_time": "2023-06-01T22:20:29.828Z"
   },
   {
    "duration": 12,
    "start_time": "2023-06-01T22:22:12.061Z"
   },
   {
    "duration": 15,
    "start_time": "2023-06-01T22:22:30.264Z"
   },
   {
    "duration": 11,
    "start_time": "2023-06-01T22:23:28.417Z"
   },
   {
    "duration": 12,
    "start_time": "2023-06-01T22:23:39.495Z"
   },
   {
    "duration": 1097,
    "start_time": "2023-06-01T22:24:05.314Z"
   },
   {
    "duration": 38,
    "start_time": "2023-06-01T22:24:06.413Z"
   },
   {
    "duration": 10,
    "start_time": "2023-06-01T22:24:06.453Z"
   },
   {
    "duration": 34,
    "start_time": "2023-06-01T22:24:06.464Z"
   },
   {
    "duration": 10,
    "start_time": "2023-06-01T22:24:06.500Z"
   },
   {
    "duration": 26,
    "start_time": "2023-06-01T22:24:06.511Z"
   },
   {
    "duration": 9,
    "start_time": "2023-06-01T22:24:06.538Z"
   },
   {
    "duration": 20,
    "start_time": "2023-06-01T22:24:06.549Z"
   },
   {
    "duration": 10,
    "start_time": "2023-06-01T22:24:06.570Z"
   },
   {
    "duration": 10,
    "start_time": "2023-06-01T22:24:06.581Z"
   },
   {
    "duration": 29,
    "start_time": "2023-06-01T22:24:06.593Z"
   },
   {
    "duration": 4,
    "start_time": "2023-06-01T22:24:06.624Z"
   },
   {
    "duration": 14,
    "start_time": "2023-06-01T22:24:06.630Z"
   },
   {
    "duration": 6,
    "start_time": "2023-06-01T22:24:06.647Z"
   },
   {
    "duration": 12,
    "start_time": "2023-06-01T22:24:06.655Z"
   },
   {
    "duration": 10,
    "start_time": "2023-06-01T22:24:06.669Z"
   },
   {
    "duration": 168,
    "start_time": "2023-06-01T22:24:06.681Z"
   },
   {
    "duration": 8,
    "start_time": "2023-06-01T22:24:06.851Z"
   },
   {
    "duration": 173,
    "start_time": "2023-06-01T22:24:06.861Z"
   },
   {
    "duration": 117,
    "start_time": "2023-06-01T22:24:07.037Z"
   },
   {
    "duration": 98,
    "start_time": "2023-06-01T22:24:07.156Z"
   },
   {
    "duration": 257,
    "start_time": "2023-06-01T22:24:07.256Z"
   },
   {
    "duration": 9,
    "start_time": "2023-06-01T22:24:07.515Z"
   },
   {
    "duration": 172,
    "start_time": "2023-06-01T22:24:07.525Z"
   },
   {
    "duration": 208,
    "start_time": "2023-06-01T22:24:07.698Z"
   },
   {
    "duration": 304,
    "start_time": "2023-06-01T22:24:07.908Z"
   },
   {
    "duration": 271,
    "start_time": "2023-06-01T22:24:08.213Z"
   },
   {
    "duration": 233,
    "start_time": "2023-06-01T22:24:08.486Z"
   },
   {
    "duration": 259,
    "start_time": "2023-06-01T22:24:08.720Z"
   },
   {
    "duration": 8,
    "start_time": "2023-06-01T22:24:08.981Z"
   },
   {
    "duration": 43,
    "start_time": "2023-06-01T22:24:08.990Z"
   },
   {
    "duration": 4,
    "start_time": "2023-06-01T22:24:09.034Z"
   },
   {
    "duration": 21,
    "start_time": "2023-06-01T22:24:09.039Z"
   },
   {
    "duration": 18,
    "start_time": "2023-06-01T22:24:09.061Z"
   },
   {
    "duration": 443,
    "start_time": "2023-06-01T22:24:09.080Z"
   },
   {
    "duration": 506,
    "start_time": "2023-06-01T22:24:09.525Z"
   },
   {
    "duration": 423,
    "start_time": "2023-06-01T22:24:10.033Z"
   },
   {
    "duration": 449,
    "start_time": "2023-06-01T22:24:10.458Z"
   },
   {
    "duration": 20,
    "start_time": "2023-06-01T22:24:10.909Z"
   },
   {
    "duration": 23,
    "start_time": "2023-06-01T22:24:10.930Z"
   },
   {
    "duration": 18,
    "start_time": "2023-06-01T22:24:10.957Z"
   },
   {
    "duration": 41,
    "start_time": "2023-06-01T22:24:10.977Z"
   },
   {
    "duration": 17,
    "start_time": "2023-06-01T22:24:11.020Z"
   },
   {
    "duration": 21,
    "start_time": "2023-06-01T22:24:11.039Z"
   },
   {
    "duration": 5,
    "start_time": "2023-06-01T22:24:11.061Z"
   },
   {
    "duration": 57,
    "start_time": "2023-06-01T22:24:11.068Z"
   },
   {
    "duration": 13,
    "start_time": "2023-06-01T22:24:11.126Z"
   },
   {
    "duration": 10,
    "start_time": "2023-06-01T22:24:11.140Z"
   },
   {
    "duration": 5,
    "start_time": "2023-06-01T22:24:11.152Z"
   },
   {
    "duration": 11,
    "start_time": "2023-06-01T22:24:11.159Z"
   },
   {
    "duration": 7,
    "start_time": "2023-06-01T22:24:11.171Z"
   },
   {
    "duration": 10,
    "start_time": "2023-06-01T22:24:11.180Z"
   },
   {
    "duration": 9,
    "start_time": "2023-06-01T22:24:11.192Z"
   },
   {
    "duration": 7,
    "start_time": "2023-06-01T22:24:11.202Z"
   },
   {
    "duration": 12,
    "start_time": "2023-06-01T22:24:11.210Z"
   },
   {
    "duration": 8,
    "start_time": "2023-06-01T22:24:11.223Z"
   },
   {
    "duration": 5,
    "start_time": "2023-06-01T22:24:11.232Z"
   },
   {
    "duration": 5,
    "start_time": "2023-06-01T22:24:11.238Z"
   },
   {
    "duration": 6,
    "start_time": "2023-06-01T22:24:11.244Z"
   },
   {
    "duration": 15,
    "start_time": "2023-06-01T22:24:11.252Z"
   },
   {
    "duration": 13,
    "start_time": "2023-06-01T22:24:11.269Z"
   },
   {
    "duration": 10,
    "start_time": "2023-06-01T22:24:11.284Z"
   },
   {
    "duration": 25,
    "start_time": "2023-06-01T22:24:11.296Z"
   },
   {
    "duration": 4,
    "start_time": "2023-06-01T22:24:11.323Z"
   },
   {
    "duration": 140,
    "start_time": "2023-06-01T22:24:11.328Z"
   },
   {
    "duration": 169,
    "start_time": "2023-06-01T22:24:11.469Z"
   },
   {
    "duration": 10,
    "start_time": "2023-06-01T22:25:52.761Z"
   },
   {
    "duration": 4,
    "start_time": "2023-06-01T22:27:05.447Z"
   },
   {
    "duration": 106,
    "start_time": "2023-06-01T22:30:20.965Z"
   },
   {
    "duration": 1164,
    "start_time": "2023-06-01T22:32:34.121Z"
   },
   {
    "duration": 39,
    "start_time": "2023-06-01T22:32:35.287Z"
   },
   {
    "duration": 11,
    "start_time": "2023-06-01T22:32:35.327Z"
   },
   {
    "duration": 60,
    "start_time": "2023-06-01T22:32:35.339Z"
   },
   {
    "duration": 10,
    "start_time": "2023-06-01T22:32:35.400Z"
   },
   {
    "duration": 27,
    "start_time": "2023-06-01T22:32:35.412Z"
   },
   {
    "duration": 9,
    "start_time": "2023-06-01T22:32:35.440Z"
   },
   {
    "duration": 25,
    "start_time": "2023-06-01T22:32:35.451Z"
   },
   {
    "duration": 18,
    "start_time": "2023-06-01T22:32:35.478Z"
   },
   {
    "duration": 9,
    "start_time": "2023-06-01T22:32:35.498Z"
   },
   {
    "duration": 25,
    "start_time": "2023-06-01T22:32:35.509Z"
   },
   {
    "duration": 3,
    "start_time": "2023-06-01T22:32:35.536Z"
   },
   {
    "duration": 20,
    "start_time": "2023-06-01T22:32:35.540Z"
   },
   {
    "duration": 16,
    "start_time": "2023-06-01T22:32:35.561Z"
   },
   {
    "duration": 15,
    "start_time": "2023-06-01T22:32:35.578Z"
   },
   {
    "duration": 32,
    "start_time": "2023-06-01T22:32:35.594Z"
   },
   {
    "duration": 131,
    "start_time": "2023-06-01T22:32:35.628Z"
   },
   {
    "duration": 7,
    "start_time": "2023-06-01T22:32:35.760Z"
   },
   {
    "duration": 159,
    "start_time": "2023-06-01T22:32:35.769Z"
   },
   {
    "duration": 112,
    "start_time": "2023-06-01T22:32:35.930Z"
   },
   {
    "duration": 100,
    "start_time": "2023-06-01T22:32:36.043Z"
   },
   {
    "duration": 241,
    "start_time": "2023-06-01T22:32:36.144Z"
   },
   {
    "duration": 8,
    "start_time": "2023-06-01T22:32:36.386Z"
   },
   {
    "duration": 159,
    "start_time": "2023-06-01T22:32:36.396Z"
   },
   {
    "duration": 200,
    "start_time": "2023-06-01T22:32:36.556Z"
   },
   {
    "duration": 316,
    "start_time": "2023-06-01T22:32:36.757Z"
   },
   {
    "duration": 248,
    "start_time": "2023-06-01T22:32:37.075Z"
   },
   {
    "duration": 223,
    "start_time": "2023-06-01T22:32:37.327Z"
   },
   {
    "duration": 257,
    "start_time": "2023-06-01T22:32:37.551Z"
   },
   {
    "duration": 9,
    "start_time": "2023-06-01T22:32:37.809Z"
   },
   {
    "duration": 25,
    "start_time": "2023-06-01T22:32:37.819Z"
   },
   {
    "duration": 5,
    "start_time": "2023-06-01T22:32:37.845Z"
   },
   {
    "duration": 46,
    "start_time": "2023-06-01T22:32:37.851Z"
   },
   {
    "duration": 29,
    "start_time": "2023-06-01T22:32:37.899Z"
   },
   {
    "duration": 448,
    "start_time": "2023-06-01T22:32:37.929Z"
   },
   {
    "duration": 504,
    "start_time": "2023-06-01T22:32:38.379Z"
   },
   {
    "duration": 431,
    "start_time": "2023-06-01T22:32:38.884Z"
   },
   {
    "duration": 418,
    "start_time": "2023-06-01T22:32:39.317Z"
   },
   {
    "duration": 14,
    "start_time": "2023-06-01T22:32:39.736Z"
   },
   {
    "duration": 21,
    "start_time": "2023-06-01T22:32:39.752Z"
   },
   {
    "duration": 16,
    "start_time": "2023-06-01T22:32:39.774Z"
   },
   {
    "duration": 35,
    "start_time": "2023-06-01T22:32:39.792Z"
   },
   {
    "duration": 17,
    "start_time": "2023-06-01T22:32:39.829Z"
   },
   {
    "duration": 15,
    "start_time": "2023-06-01T22:32:39.848Z"
   },
   {
    "duration": 13,
    "start_time": "2023-06-01T22:32:39.864Z"
   },
   {
    "duration": 53,
    "start_time": "2023-06-01T22:32:39.879Z"
   },
   {
    "duration": 11,
    "start_time": "2023-06-01T22:32:39.934Z"
   },
   {
    "duration": 12,
    "start_time": "2023-06-01T22:32:39.946Z"
   },
   {
    "duration": 17,
    "start_time": "2023-06-01T22:32:39.960Z"
   },
   {
    "duration": 10,
    "start_time": "2023-06-01T22:32:39.979Z"
   },
   {
    "duration": 4,
    "start_time": "2023-06-01T22:32:39.991Z"
   },
   {
    "duration": 19,
    "start_time": "2023-06-01T22:32:39.996Z"
   },
   {
    "duration": 25,
    "start_time": "2023-06-01T22:32:40.017Z"
   },
   {
    "duration": 25,
    "start_time": "2023-06-01T22:32:40.043Z"
   },
   {
    "duration": 17,
    "start_time": "2023-06-01T22:32:40.070Z"
   },
   {
    "duration": 9,
    "start_time": "2023-06-01T22:32:40.089Z"
   },
   {
    "duration": 10,
    "start_time": "2023-06-01T22:32:40.099Z"
   },
   {
    "duration": 13,
    "start_time": "2023-06-01T22:32:40.110Z"
   },
   {
    "duration": 14,
    "start_time": "2023-06-01T22:32:40.125Z"
   },
   {
    "duration": 21,
    "start_time": "2023-06-01T22:32:40.141Z"
   },
   {
    "duration": 15,
    "start_time": "2023-06-01T22:32:40.163Z"
   },
   {
    "duration": 104,
    "start_time": "2023-06-01T22:32:40.179Z"
   },
   {
    "duration": 0,
    "start_time": "2023-06-01T22:32:40.285Z"
   },
   {
    "duration": 0,
    "start_time": "2023-06-01T22:32:40.287Z"
   },
   {
    "duration": 0,
    "start_time": "2023-06-01T22:32:40.288Z"
   },
   {
    "duration": 0,
    "start_time": "2023-06-01T22:32:40.289Z"
   },
   {
    "duration": 13,
    "start_time": "2023-06-01T22:35:42.998Z"
   },
   {
    "duration": 1078,
    "start_time": "2023-06-01T22:36:17.680Z"
   },
   {
    "duration": 38,
    "start_time": "2023-06-01T22:36:18.760Z"
   },
   {
    "duration": 12,
    "start_time": "2023-06-01T22:36:18.800Z"
   },
   {
    "duration": 38,
    "start_time": "2023-06-01T22:36:18.814Z"
   },
   {
    "duration": 9,
    "start_time": "2023-06-01T22:36:18.854Z"
   },
   {
    "duration": 19,
    "start_time": "2023-06-01T22:36:18.864Z"
   },
   {
    "duration": 8,
    "start_time": "2023-06-01T22:36:18.885Z"
   },
   {
    "duration": 12,
    "start_time": "2023-06-01T22:36:18.895Z"
   },
   {
    "duration": 9,
    "start_time": "2023-06-01T22:36:18.909Z"
   },
   {
    "duration": 9,
    "start_time": "2023-06-01T22:36:18.921Z"
   },
   {
    "duration": 19,
    "start_time": "2023-06-01T22:36:18.931Z"
   },
   {
    "duration": 3,
    "start_time": "2023-06-01T22:36:18.951Z"
   },
   {
    "duration": 12,
    "start_time": "2023-06-01T22:36:18.956Z"
   },
   {
    "duration": 5,
    "start_time": "2023-06-01T22:36:18.970Z"
   },
   {
    "duration": 41,
    "start_time": "2023-06-01T22:36:18.977Z"
   },
   {
    "duration": 10,
    "start_time": "2023-06-01T22:36:19.020Z"
   },
   {
    "duration": 145,
    "start_time": "2023-06-01T22:36:19.031Z"
   },
   {
    "duration": 8,
    "start_time": "2023-06-01T22:36:19.177Z"
   },
   {
    "duration": 164,
    "start_time": "2023-06-01T22:36:19.187Z"
   },
   {
    "duration": 110,
    "start_time": "2023-06-01T22:36:19.354Z"
   },
   {
    "duration": 97,
    "start_time": "2023-06-01T22:36:19.466Z"
   },
   {
    "duration": 263,
    "start_time": "2023-06-01T22:36:19.565Z"
   },
   {
    "duration": 7,
    "start_time": "2023-06-01T22:36:19.830Z"
   },
   {
    "duration": 150,
    "start_time": "2023-06-01T22:36:19.839Z"
   },
   {
    "duration": 229,
    "start_time": "2023-06-01T22:36:19.990Z"
   },
   {
    "duration": 291,
    "start_time": "2023-06-01T22:36:20.221Z"
   },
   {
    "duration": 261,
    "start_time": "2023-06-01T22:36:20.517Z"
   },
   {
    "duration": 250,
    "start_time": "2023-06-01T22:36:20.781Z"
   },
   {
    "duration": 259,
    "start_time": "2023-06-01T22:36:21.033Z"
   },
   {
    "duration": 9,
    "start_time": "2023-06-01T22:36:21.293Z"
   },
   {
    "duration": 32,
    "start_time": "2023-06-01T22:36:21.304Z"
   },
   {
    "duration": 4,
    "start_time": "2023-06-01T22:36:21.338Z"
   },
   {
    "duration": 29,
    "start_time": "2023-06-01T22:36:21.344Z"
   },
   {
    "duration": 42,
    "start_time": "2023-06-01T22:36:21.375Z"
   },
   {
    "duration": 447,
    "start_time": "2023-06-01T22:36:21.418Z"
   },
   {
    "duration": 510,
    "start_time": "2023-06-01T22:36:21.866Z"
   },
   {
    "duration": 433,
    "start_time": "2023-06-01T22:36:22.378Z"
   },
   {
    "duration": 427,
    "start_time": "2023-06-01T22:36:22.812Z"
   },
   {
    "duration": 13,
    "start_time": "2023-06-01T22:36:23.241Z"
   },
   {
    "duration": 20,
    "start_time": "2023-06-01T22:36:23.255Z"
   },
   {
    "duration": 16,
    "start_time": "2023-06-01T22:36:23.276Z"
   },
   {
    "duration": 40,
    "start_time": "2023-06-01T22:36:23.293Z"
   },
   {
    "duration": 16,
    "start_time": "2023-06-01T22:36:23.335Z"
   },
   {
    "duration": 11,
    "start_time": "2023-06-01T22:36:23.353Z"
   },
   {
    "duration": 4,
    "start_time": "2023-06-01T22:36:23.366Z"
   },
   {
    "duration": 67,
    "start_time": "2023-06-01T22:36:23.372Z"
   },
   {
    "duration": 11,
    "start_time": "2023-06-01T22:36:23.440Z"
   },
   {
    "duration": 9,
    "start_time": "2023-06-01T22:36:23.453Z"
   },
   {
    "duration": 6,
    "start_time": "2023-06-01T22:36:23.464Z"
   },
   {
    "duration": 7,
    "start_time": "2023-06-01T22:36:23.472Z"
   },
   {
    "duration": 4,
    "start_time": "2023-06-01T22:36:23.480Z"
   },
   {
    "duration": 4,
    "start_time": "2023-06-01T22:36:23.486Z"
   },
   {
    "duration": 7,
    "start_time": "2023-06-01T22:36:23.491Z"
   },
   {
    "duration": 23,
    "start_time": "2023-06-01T22:36:23.499Z"
   },
   {
    "duration": 9,
    "start_time": "2023-06-01T22:36:23.523Z"
   },
   {
    "duration": 4,
    "start_time": "2023-06-01T22:36:23.534Z"
   },
   {
    "duration": 4,
    "start_time": "2023-06-01T22:36:23.540Z"
   },
   {
    "duration": 5,
    "start_time": "2023-06-01T22:36:23.545Z"
   },
   {
    "duration": 8,
    "start_time": "2023-06-01T22:36:23.551Z"
   },
   {
    "duration": 13,
    "start_time": "2023-06-01T22:36:23.561Z"
   },
   {
    "duration": 3,
    "start_time": "2023-06-01T22:36:23.575Z"
   },
   {
    "duration": 155,
    "start_time": "2023-06-01T22:36:23.579Z"
   },
   {
    "duration": 166,
    "start_time": "2023-06-01T22:36:23.735Z"
   },
   {
    "duration": 1216,
    "start_time": "2023-06-01T22:41:48.414Z"
   },
   {
    "duration": 197,
    "start_time": "2023-06-01T22:44:43.642Z"
   },
   {
    "duration": 143,
    "start_time": "2023-06-01T22:45:44.795Z"
   },
   {
    "duration": 1088,
    "start_time": "2023-06-01T22:50:01.370Z"
   },
   {
    "duration": 37,
    "start_time": "2023-06-01T22:50:02.460Z"
   },
   {
    "duration": 10,
    "start_time": "2023-06-01T22:50:02.499Z"
   },
   {
    "duration": 49,
    "start_time": "2023-06-01T22:50:02.510Z"
   },
   {
    "duration": 11,
    "start_time": "2023-06-01T22:50:02.561Z"
   },
   {
    "duration": 50,
    "start_time": "2023-06-01T22:50:02.574Z"
   },
   {
    "duration": 10,
    "start_time": "2023-06-01T22:50:02.626Z"
   },
   {
    "duration": 35,
    "start_time": "2023-06-01T22:50:02.637Z"
   },
   {
    "duration": 17,
    "start_time": "2023-06-01T22:50:02.674Z"
   },
   {
    "duration": 29,
    "start_time": "2023-06-01T22:50:02.693Z"
   },
   {
    "duration": 30,
    "start_time": "2023-06-01T22:50:02.723Z"
   },
   {
    "duration": 33,
    "start_time": "2023-06-01T22:50:02.755Z"
   },
   {
    "duration": 28,
    "start_time": "2023-06-01T22:50:02.790Z"
   },
   {
    "duration": 12,
    "start_time": "2023-06-01T22:50:02.820Z"
   },
   {
    "duration": 24,
    "start_time": "2023-06-01T22:50:02.833Z"
   },
   {
    "duration": 25,
    "start_time": "2023-06-01T22:50:02.858Z"
   },
   {
    "duration": 142,
    "start_time": "2023-06-01T22:50:02.885Z"
   },
   {
    "duration": 6,
    "start_time": "2023-06-01T22:50:03.029Z"
   },
   {
    "duration": 168,
    "start_time": "2023-06-01T22:50:03.037Z"
   },
   {
    "duration": 110,
    "start_time": "2023-06-01T22:50:03.207Z"
   },
   {
    "duration": 98,
    "start_time": "2023-06-01T22:50:03.319Z"
   },
   {
    "duration": 244,
    "start_time": "2023-06-01T22:50:03.419Z"
   },
   {
    "duration": 8,
    "start_time": "2023-06-01T22:50:03.664Z"
   },
   {
    "duration": 157,
    "start_time": "2023-06-01T22:50:03.673Z"
   },
   {
    "duration": 204,
    "start_time": "2023-06-01T22:50:03.832Z"
   },
   {
    "duration": 295,
    "start_time": "2023-06-01T22:50:04.037Z"
   },
   {
    "duration": 307,
    "start_time": "2023-06-01T22:50:04.333Z"
   },
   {
    "duration": 249,
    "start_time": "2023-06-01T22:50:04.641Z"
   },
   {
    "duration": 261,
    "start_time": "2023-06-01T22:50:04.892Z"
   },
   {
    "duration": 8,
    "start_time": "2023-06-01T22:50:05.155Z"
   },
   {
    "duration": 42,
    "start_time": "2023-06-01T22:50:05.165Z"
   },
   {
    "duration": 4,
    "start_time": "2023-06-01T22:50:05.209Z"
   },
   {
    "duration": 43,
    "start_time": "2023-06-01T22:50:05.215Z"
   },
   {
    "duration": 22,
    "start_time": "2023-06-01T22:50:05.260Z"
   },
   {
    "duration": 413,
    "start_time": "2023-06-01T22:50:05.284Z"
   },
   {
    "duration": 535,
    "start_time": "2023-06-01T22:50:05.699Z"
   },
   {
    "duration": 429,
    "start_time": "2023-06-01T22:50:06.236Z"
   },
   {
    "duration": 419,
    "start_time": "2023-06-01T22:50:06.666Z"
   },
   {
    "duration": 14,
    "start_time": "2023-06-01T22:50:07.086Z"
   },
   {
    "duration": 36,
    "start_time": "2023-06-01T22:50:07.101Z"
   },
   {
    "duration": 16,
    "start_time": "2023-06-01T22:50:07.142Z"
   },
   {
    "duration": 29,
    "start_time": "2023-06-01T22:50:07.160Z"
   },
   {
    "duration": 27,
    "start_time": "2023-06-01T22:50:07.191Z"
   },
   {
    "duration": 15,
    "start_time": "2023-06-01T22:50:07.220Z"
   },
   {
    "duration": 9,
    "start_time": "2023-06-01T22:50:07.237Z"
   },
   {
    "duration": 50,
    "start_time": "2023-06-01T22:50:07.248Z"
   },
   {
    "duration": 12,
    "start_time": "2023-06-01T22:50:07.299Z"
   },
   {
    "duration": 11,
    "start_time": "2023-06-01T22:50:07.312Z"
   },
   {
    "duration": 14,
    "start_time": "2023-06-01T22:50:07.324Z"
   },
   {
    "duration": 8,
    "start_time": "2023-06-01T22:50:07.340Z"
   },
   {
    "duration": 20,
    "start_time": "2023-06-01T22:50:07.349Z"
   },
   {
    "duration": 7,
    "start_time": "2023-06-01T22:50:07.370Z"
   },
   {
    "duration": 5,
    "start_time": "2023-06-01T22:50:07.379Z"
   },
   {
    "duration": 20,
    "start_time": "2023-06-01T22:50:07.385Z"
   },
   {
    "duration": 6,
    "start_time": "2023-06-01T22:50:07.407Z"
   },
   {
    "duration": 8,
    "start_time": "2023-06-01T22:50:07.414Z"
   },
   {
    "duration": 9,
    "start_time": "2023-06-01T22:50:07.423Z"
   },
   {
    "duration": 5,
    "start_time": "2023-06-01T22:50:07.434Z"
   },
   {
    "duration": 8,
    "start_time": "2023-06-01T22:50:07.440Z"
   },
   {
    "duration": 15,
    "start_time": "2023-06-01T22:50:07.450Z"
   },
   {
    "duration": 19,
    "start_time": "2023-06-01T22:50:07.466Z"
   },
   {
    "duration": 9,
    "start_time": "2023-06-01T22:50:07.487Z"
   },
   {
    "duration": 141,
    "start_time": "2023-06-01T22:50:07.498Z"
   },
   {
    "duration": 137,
    "start_time": "2023-06-01T22:50:07.641Z"
   },
   {
    "duration": 161,
    "start_time": "2023-06-01T22:50:07.780Z"
   },
   {
    "duration": 1122,
    "start_time": "2023-06-01T22:57:00.022Z"
   },
   {
    "duration": 39,
    "start_time": "2023-06-01T22:57:01.147Z"
   },
   {
    "duration": 12,
    "start_time": "2023-06-01T22:57:01.187Z"
   },
   {
    "duration": 45,
    "start_time": "2023-06-01T22:57:01.200Z"
   },
   {
    "duration": 10,
    "start_time": "2023-06-01T22:57:01.249Z"
   },
   {
    "duration": 33,
    "start_time": "2023-06-01T22:57:01.261Z"
   },
   {
    "duration": 9,
    "start_time": "2023-06-01T22:57:01.295Z"
   },
   {
    "duration": 45,
    "start_time": "2023-06-01T22:57:01.306Z"
   },
   {
    "duration": 20,
    "start_time": "2023-06-01T22:57:01.353Z"
   },
   {
    "duration": 29,
    "start_time": "2023-06-01T22:57:01.374Z"
   },
   {
    "duration": 36,
    "start_time": "2023-06-01T22:57:01.404Z"
   },
   {
    "duration": 24,
    "start_time": "2023-06-01T22:57:01.442Z"
   },
   {
    "duration": 24,
    "start_time": "2023-06-01T22:57:01.468Z"
   },
   {
    "duration": 8,
    "start_time": "2023-06-01T22:57:01.495Z"
   },
   {
    "duration": 19,
    "start_time": "2023-06-01T22:57:01.505Z"
   },
   {
    "duration": 20,
    "start_time": "2023-06-01T22:57:01.525Z"
   },
   {
    "duration": 151,
    "start_time": "2023-06-01T22:57:01.546Z"
   },
   {
    "duration": 8,
    "start_time": "2023-06-01T22:57:01.698Z"
   },
   {
    "duration": 187,
    "start_time": "2023-06-01T22:57:01.707Z"
   },
   {
    "duration": 100,
    "start_time": "2023-06-01T22:57:01.896Z"
   },
   {
    "duration": 92,
    "start_time": "2023-06-01T22:57:01.998Z"
   },
   {
    "duration": 235,
    "start_time": "2023-06-01T22:57:02.092Z"
   },
   {
    "duration": 7,
    "start_time": "2023-06-01T22:57:02.329Z"
   },
   {
    "duration": 169,
    "start_time": "2023-06-01T22:57:02.338Z"
   },
   {
    "duration": 190,
    "start_time": "2023-06-01T22:57:02.509Z"
   },
   {
    "duration": 290,
    "start_time": "2023-06-01T22:57:02.701Z"
   },
   {
    "duration": 252,
    "start_time": "2023-06-01T22:57:02.993Z"
   },
   {
    "duration": 226,
    "start_time": "2023-06-01T22:57:03.246Z"
   },
   {
    "duration": 266,
    "start_time": "2023-06-01T22:57:03.474Z"
   },
   {
    "duration": 10,
    "start_time": "2023-06-01T22:57:03.741Z"
   },
   {
    "duration": 43,
    "start_time": "2023-06-01T22:57:03.753Z"
   },
   {
    "duration": 4,
    "start_time": "2023-06-01T22:57:03.797Z"
   },
   {
    "duration": 26,
    "start_time": "2023-06-01T22:57:03.802Z"
   },
   {
    "duration": 18,
    "start_time": "2023-06-01T22:57:03.829Z"
   },
   {
    "duration": 453,
    "start_time": "2023-06-01T22:57:03.849Z"
   },
   {
    "duration": 560,
    "start_time": "2023-06-01T22:57:04.303Z"
   },
   {
    "duration": 420,
    "start_time": "2023-06-01T22:57:04.865Z"
   },
   {
    "duration": 423,
    "start_time": "2023-06-01T22:57:05.287Z"
   },
   {
    "duration": 13,
    "start_time": "2023-06-01T22:57:05.717Z"
   },
   {
    "duration": 18,
    "start_time": "2023-06-01T22:57:05.731Z"
   },
   {
    "duration": 15,
    "start_time": "2023-06-01T22:57:05.753Z"
   },
   {
    "duration": 16,
    "start_time": "2023-06-01T22:57:05.770Z"
   },
   {
    "duration": 38,
    "start_time": "2023-06-01T22:57:05.788Z"
   },
   {
    "duration": 13,
    "start_time": "2023-06-01T22:57:05.828Z"
   },
   {
    "duration": 18,
    "start_time": "2023-06-01T22:57:05.843Z"
   },
   {
    "duration": 50,
    "start_time": "2023-06-01T22:57:05.862Z"
   },
   {
    "duration": 14,
    "start_time": "2023-06-01T22:57:05.913Z"
   },
   {
    "duration": 9,
    "start_time": "2023-06-01T22:57:05.928Z"
   },
   {
    "duration": 19,
    "start_time": "2023-06-01T22:57:05.938Z"
   },
   {
    "duration": 9,
    "start_time": "2023-06-01T22:57:05.959Z"
   },
   {
    "duration": 6,
    "start_time": "2023-06-01T22:57:05.969Z"
   },
   {
    "duration": 25,
    "start_time": "2023-06-01T22:57:05.976Z"
   },
   {
    "duration": 11,
    "start_time": "2023-06-01T22:57:06.003Z"
   },
   {
    "duration": 9,
    "start_time": "2023-06-01T22:57:06.016Z"
   },
   {
    "duration": 36,
    "start_time": "2023-06-01T22:57:06.027Z"
   },
   {
    "duration": 12,
    "start_time": "2023-06-01T22:57:06.065Z"
   },
   {
    "duration": 19,
    "start_time": "2023-06-01T22:57:06.078Z"
   },
   {
    "duration": 9,
    "start_time": "2023-06-01T22:57:06.099Z"
   },
   {
    "duration": 7,
    "start_time": "2023-06-01T22:57:06.110Z"
   },
   {
    "duration": 34,
    "start_time": "2023-06-01T22:57:06.120Z"
   },
   {
    "duration": 12,
    "start_time": "2023-06-01T22:57:06.156Z"
   },
   {
    "duration": 10,
    "start_time": "2023-06-01T22:57:06.170Z"
   },
   {
    "duration": 142,
    "start_time": "2023-06-01T22:57:06.182Z"
   },
   {
    "duration": 123,
    "start_time": "2023-06-01T22:57:06.325Z"
   },
   {
    "duration": 169,
    "start_time": "2023-06-01T22:57:06.449Z"
   },
   {
    "duration": 3,
    "start_time": "2023-06-02T14:05:59.246Z"
   },
   {
    "duration": 40,
    "start_time": "2023-06-02T14:05:59.253Z"
   },
   {
    "duration": 11,
    "start_time": "2023-06-02T14:05:59.294Z"
   },
   {
    "duration": 61,
    "start_time": "2023-06-02T14:05:59.306Z"
   },
   {
    "duration": 11,
    "start_time": "2023-06-02T14:05:59.369Z"
   },
   {
    "duration": 22,
    "start_time": "2023-06-02T14:05:59.382Z"
   },
   {
    "duration": 24,
    "start_time": "2023-06-02T14:05:59.405Z"
   },
   {
    "duration": 23,
    "start_time": "2023-06-02T14:05:59.441Z"
   },
   {
    "duration": 9,
    "start_time": "2023-06-02T14:05:59.466Z"
   },
   {
    "duration": 10,
    "start_time": "2023-06-02T14:05:59.476Z"
   },
   {
    "duration": 17,
    "start_time": "2023-06-02T14:05:59.487Z"
   },
   {
    "duration": 8,
    "start_time": "2023-06-02T14:05:59.505Z"
   },
   {
    "duration": 41,
    "start_time": "2023-06-02T14:05:59.514Z"
   },
   {
    "duration": 5,
    "start_time": "2023-06-02T14:05:59.557Z"
   },
   {
    "duration": 10,
    "start_time": "2023-06-02T14:05:59.563Z"
   },
   {
    "duration": 9,
    "start_time": "2023-06-02T14:05:59.575Z"
   },
   {
    "duration": 132,
    "start_time": "2023-06-02T14:05:59.586Z"
   },
   {
    "duration": 22,
    "start_time": "2023-06-02T14:05:59.719Z"
   },
   {
    "duration": 235,
    "start_time": "2023-06-02T14:05:59.748Z"
   },
   {
    "duration": 105,
    "start_time": "2023-06-02T14:05:59.985Z"
   },
   {
    "duration": 102,
    "start_time": "2023-06-02T14:06:00.091Z"
   },
   {
    "duration": 276,
    "start_time": "2023-06-02T14:06:00.195Z"
   },
   {
    "duration": 8,
    "start_time": "2023-06-02T14:06:00.473Z"
   },
   {
    "duration": 172,
    "start_time": "2023-06-02T14:06:00.483Z"
   },
   {
    "duration": 214,
    "start_time": "2023-06-02T14:06:00.659Z"
   },
   {
    "duration": 267,
    "start_time": "2023-06-02T14:06:00.874Z"
   },
   {
    "duration": 256,
    "start_time": "2023-06-02T14:06:01.143Z"
   },
   {
    "duration": 308,
    "start_time": "2023-06-02T14:06:01.401Z"
   },
   {
    "duration": 303,
    "start_time": "2023-06-02T14:06:01.711Z"
   },
   {
    "duration": 21,
    "start_time": "2023-06-02T14:06:02.015Z"
   },
   {
    "duration": 64,
    "start_time": "2023-06-02T14:06:02.049Z"
   },
   {
    "duration": 40,
    "start_time": "2023-06-02T14:06:02.114Z"
   },
   {
    "duration": 37,
    "start_time": "2023-06-02T14:06:02.156Z"
   },
   {
    "duration": 27,
    "start_time": "2023-06-02T14:06:02.194Z"
   },
   {
    "duration": 458,
    "start_time": "2023-06-02T14:06:02.223Z"
   },
   {
    "duration": 457,
    "start_time": "2023-06-02T14:06:02.683Z"
   },
   {
    "duration": 543,
    "start_time": "2023-06-02T14:06:03.142Z"
   },
   {
    "duration": 464,
    "start_time": "2023-06-02T14:06:03.687Z"
   },
   {
    "duration": 12,
    "start_time": "2023-06-02T14:06:04.152Z"
   },
   {
    "duration": 21,
    "start_time": "2023-06-02T14:06:04.166Z"
   },
   {
    "duration": 61,
    "start_time": "2023-06-02T14:06:04.188Z"
   },
   {
    "duration": 23,
    "start_time": "2023-06-02T14:06:04.251Z"
   },
   {
    "duration": 18,
    "start_time": "2023-06-02T14:06:04.276Z"
   },
   {
    "duration": 12,
    "start_time": "2023-06-02T14:06:04.295Z"
   },
   {
    "duration": 37,
    "start_time": "2023-06-02T14:06:04.309Z"
   },
   {
    "duration": 40,
    "start_time": "2023-06-02T14:06:04.347Z"
   },
   {
    "duration": 10,
    "start_time": "2023-06-02T14:06:04.388Z"
   },
   {
    "duration": 21,
    "start_time": "2023-06-02T14:06:04.400Z"
   },
   {
    "duration": 22,
    "start_time": "2023-06-02T14:06:04.436Z"
   },
   {
    "duration": 6,
    "start_time": "2023-06-02T14:06:04.459Z"
   },
   {
    "duration": 8,
    "start_time": "2023-06-02T14:06:04.469Z"
   },
   {
    "duration": 8,
    "start_time": "2023-06-02T14:06:04.478Z"
   },
   {
    "duration": 7,
    "start_time": "2023-06-02T14:06:04.487Z"
   },
   {
    "duration": 7,
    "start_time": "2023-06-02T14:06:04.496Z"
   },
   {
    "duration": 44,
    "start_time": "2023-06-02T14:06:04.505Z"
   },
   {
    "duration": 5,
    "start_time": "2023-06-02T14:06:04.551Z"
   },
   {
    "duration": 28,
    "start_time": "2023-06-02T14:06:04.557Z"
   },
   {
    "duration": 17,
    "start_time": "2023-06-02T14:06:04.587Z"
   },
   {
    "duration": 46,
    "start_time": "2023-06-02T14:06:04.605Z"
   },
   {
    "duration": 31,
    "start_time": "2023-06-02T14:06:04.653Z"
   },
   {
    "duration": 17,
    "start_time": "2023-06-02T14:06:04.686Z"
   },
   {
    "duration": 44,
    "start_time": "2023-06-02T14:06:04.704Z"
   },
   {
    "duration": 126,
    "start_time": "2023-06-02T14:06:04.750Z"
   },
   {
    "duration": 167,
    "start_time": "2023-06-02T14:06:04.878Z"
   },
   {
    "duration": 155,
    "start_time": "2023-06-02T14:06:05.049Z"
   },
   {
    "duration": 31,
    "start_time": "2023-06-02T14:08:21.714Z"
   },
   {
    "duration": 6,
    "start_time": "2023-06-02T14:09:22.779Z"
   },
   {
    "duration": 47,
    "start_time": "2023-06-02T14:10:29.099Z"
   },
   {
    "duration": 1148,
    "start_time": "2023-06-02T20:39:02.490Z"
   },
   {
    "duration": 109,
    "start_time": "2023-06-02T20:39:03.640Z"
   },
   {
    "duration": 11,
    "start_time": "2023-06-02T20:39:03.750Z"
   },
   {
    "duration": 161,
    "start_time": "2023-06-02T20:39:03.763Z"
   },
   {
    "duration": 10,
    "start_time": "2023-06-02T20:39:03.926Z"
   },
   {
    "duration": 60,
    "start_time": "2023-06-02T20:39:03.938Z"
   },
   {
    "duration": 9,
    "start_time": "2023-06-02T20:39:04.000Z"
   },
   {
    "duration": 44,
    "start_time": "2023-06-02T20:39:04.010Z"
   },
   {
    "duration": 8,
    "start_time": "2023-06-02T20:39:04.055Z"
   },
   {
    "duration": 9,
    "start_time": "2023-06-02T20:39:04.065Z"
   },
   {
    "duration": 17,
    "start_time": "2023-06-02T20:39:04.076Z"
   },
   {
    "duration": 4,
    "start_time": "2023-06-02T20:39:04.094Z"
   },
   {
    "duration": 11,
    "start_time": "2023-06-02T20:39:04.099Z"
   },
   {
    "duration": 6,
    "start_time": "2023-06-02T20:39:04.111Z"
   },
   {
    "duration": 9,
    "start_time": "2023-06-02T20:39:04.118Z"
   },
   {
    "duration": 7,
    "start_time": "2023-06-02T20:39:04.129Z"
   },
   {
    "duration": 144,
    "start_time": "2023-06-02T20:39:04.137Z"
   },
   {
    "duration": 8,
    "start_time": "2023-06-02T20:39:04.282Z"
   },
   {
    "duration": 149,
    "start_time": "2023-06-02T20:39:04.291Z"
   },
   {
    "duration": 100,
    "start_time": "2023-06-02T20:39:04.441Z"
   },
   {
    "duration": 85,
    "start_time": "2023-06-02T20:39:04.542Z"
   },
   {
    "duration": 226,
    "start_time": "2023-06-02T20:39:04.629Z"
   },
   {
    "duration": 7,
    "start_time": "2023-06-02T20:39:04.856Z"
   },
   {
    "duration": 146,
    "start_time": "2023-06-02T20:39:04.864Z"
   },
   {
    "duration": 186,
    "start_time": "2023-06-02T20:39:05.012Z"
   },
   {
    "duration": 278,
    "start_time": "2023-06-02T20:39:05.199Z"
   },
   {
    "duration": 297,
    "start_time": "2023-06-02T20:39:05.479Z"
   },
   {
    "duration": 230,
    "start_time": "2023-06-02T20:39:05.781Z"
   },
   {
    "duration": 244,
    "start_time": "2023-06-02T20:39:06.013Z"
   },
   {
    "duration": 9,
    "start_time": "2023-06-02T20:39:06.258Z"
   },
   {
    "duration": 39,
    "start_time": "2023-06-02T20:39:06.268Z"
   },
   {
    "duration": 5,
    "start_time": "2023-06-02T20:39:06.308Z"
   },
   {
    "duration": 29,
    "start_time": "2023-06-02T20:39:06.314Z"
   },
   {
    "duration": 27,
    "start_time": "2023-06-02T20:39:06.345Z"
   },
   {
    "duration": 427,
    "start_time": "2023-06-02T20:39:06.373Z"
   },
   {
    "duration": 507,
    "start_time": "2023-06-02T20:39:06.802Z"
   },
   {
    "duration": 413,
    "start_time": "2023-06-02T20:39:07.310Z"
   },
   {
    "duration": 407,
    "start_time": "2023-06-02T20:39:07.724Z"
   },
   {
    "duration": 12,
    "start_time": "2023-06-02T20:39:08.132Z"
   },
   {
    "duration": 21,
    "start_time": "2023-06-02T20:39:08.146Z"
   },
   {
    "duration": 15,
    "start_time": "2023-06-02T20:39:08.168Z"
   },
   {
    "duration": 34,
    "start_time": "2023-06-02T20:39:08.185Z"
   },
   {
    "duration": 15,
    "start_time": "2023-06-02T20:39:08.220Z"
   },
   {
    "duration": 10,
    "start_time": "2023-06-02T20:39:08.236Z"
   },
   {
    "duration": 12,
    "start_time": "2023-06-02T20:39:08.247Z"
   },
   {
    "duration": 47,
    "start_time": "2023-06-02T20:39:08.260Z"
   },
   {
    "duration": 12,
    "start_time": "2023-06-02T20:39:08.308Z"
   },
   {
    "duration": 5,
    "start_time": "2023-06-02T20:39:08.321Z"
   },
   {
    "duration": 2,
    "start_time": "2023-06-02T20:39:08.328Z"
   },
   {
    "duration": 7,
    "start_time": "2023-06-02T20:39:08.331Z"
   },
   {
    "duration": 5,
    "start_time": "2023-06-02T20:39:08.339Z"
   },
   {
    "duration": 6,
    "start_time": "2023-06-02T20:39:08.345Z"
   },
   {
    "duration": 10,
    "start_time": "2023-06-02T20:39:08.352Z"
   },
   {
    "duration": 4,
    "start_time": "2023-06-02T20:39:08.363Z"
   },
   {
    "duration": 5,
    "start_time": "2023-06-02T20:39:08.368Z"
   },
   {
    "duration": 14,
    "start_time": "2023-06-02T20:39:08.374Z"
   },
   {
    "duration": 3,
    "start_time": "2023-06-02T20:39:08.389Z"
   },
   {
    "duration": 2,
    "start_time": "2023-06-02T20:39:08.406Z"
   },
   {
    "duration": 3,
    "start_time": "2023-06-02T20:39:08.410Z"
   },
   {
    "duration": 11,
    "start_time": "2023-06-02T20:39:08.414Z"
   },
   {
    "duration": 2,
    "start_time": "2023-06-02T20:39:08.426Z"
   },
   {
    "duration": 6,
    "start_time": "2023-06-02T20:39:08.429Z"
   },
   {
    "duration": 128,
    "start_time": "2023-06-02T20:39:08.436Z"
   },
   {
    "duration": 124,
    "start_time": "2023-06-02T20:39:08.565Z"
   },
   {
    "duration": 145,
    "start_time": "2023-06-02T20:39:08.691Z"
   },
   {
    "duration": 15,
    "start_time": "2023-06-02T20:47:05.748Z"
   },
   {
    "duration": 11,
    "start_time": "2023-06-02T20:56:15.173Z"
   },
   {
    "duration": 11,
    "start_time": "2023-06-02T20:56:48.276Z"
   },
   {
    "duration": 19,
    "start_time": "2023-06-02T20:57:34.287Z"
   },
   {
    "duration": 3,
    "start_time": "2023-06-02T21:02:29.263Z"
   },
   {
    "duration": 14,
    "start_time": "2023-06-02T21:02:47.741Z"
   },
   {
    "duration": 75,
    "start_time": "2023-06-02T21:09:01.940Z"
   },
   {
    "duration": 88,
    "start_time": "2023-06-02T21:10:38.057Z"
   },
   {
    "duration": 3,
    "start_time": "2023-06-02T21:11:40.403Z"
   },
   {
    "duration": 7,
    "start_time": "2023-06-02T21:34:21.832Z"
   },
   {
    "duration": 7,
    "start_time": "2023-06-02T21:35:58.587Z"
   },
   {
    "duration": 7,
    "start_time": "2023-06-02T21:36:38.494Z"
   },
   {
    "duration": 6,
    "start_time": "2023-06-02T21:52:55.042Z"
   },
   {
    "duration": 7,
    "start_time": "2023-06-02T21:57:18.368Z"
   },
   {
    "duration": 8,
    "start_time": "2023-06-02T21:57:25.028Z"
   },
   {
    "duration": 83,
    "start_time": "2023-06-02T22:06:09.205Z"
   },
   {
    "duration": 967,
    "start_time": "2023-06-02T22:12:22.266Z"
   },
   {
    "duration": 37,
    "start_time": "2023-06-02T22:12:23.234Z"
   },
   {
    "duration": 9,
    "start_time": "2023-06-02T22:12:23.272Z"
   },
   {
    "duration": 33,
    "start_time": "2023-06-02T22:12:23.283Z"
   },
   {
    "duration": 10,
    "start_time": "2023-06-02T22:12:23.318Z"
   },
   {
    "duration": 28,
    "start_time": "2023-06-02T22:12:23.329Z"
   },
   {
    "duration": 9,
    "start_time": "2023-06-02T22:12:23.358Z"
   },
   {
    "duration": 14,
    "start_time": "2023-06-02T22:12:23.369Z"
   },
   {
    "duration": 9,
    "start_time": "2023-06-02T22:12:23.384Z"
   },
   {
    "duration": 27,
    "start_time": "2023-06-02T22:12:23.394Z"
   },
   {
    "duration": 18,
    "start_time": "2023-06-02T22:12:23.422Z"
   },
   {
    "duration": 4,
    "start_time": "2023-06-02T22:12:23.441Z"
   },
   {
    "duration": 22,
    "start_time": "2023-06-02T22:12:23.446Z"
   },
   {
    "duration": 5,
    "start_time": "2023-06-02T22:12:23.471Z"
   },
   {
    "duration": 24,
    "start_time": "2023-06-02T22:12:23.477Z"
   },
   {
    "duration": 8,
    "start_time": "2023-06-02T22:12:23.502Z"
   },
   {
    "duration": 126,
    "start_time": "2023-06-02T22:12:23.511Z"
   },
   {
    "duration": 7,
    "start_time": "2023-06-02T22:12:23.638Z"
   },
   {
    "duration": 139,
    "start_time": "2023-06-02T22:12:23.647Z"
   },
   {
    "duration": 95,
    "start_time": "2023-06-02T22:12:23.788Z"
   },
   {
    "duration": 96,
    "start_time": "2023-06-02T22:12:23.885Z"
   },
   {
    "duration": 229,
    "start_time": "2023-06-02T22:12:23.982Z"
   },
   {
    "duration": 8,
    "start_time": "2023-06-02T22:12:24.213Z"
   },
   {
    "duration": 152,
    "start_time": "2023-06-02T22:12:24.222Z"
   },
   {
    "duration": 188,
    "start_time": "2023-06-02T22:12:24.376Z"
   },
   {
    "duration": 278,
    "start_time": "2023-06-02T22:12:24.566Z"
   },
   {
    "duration": 239,
    "start_time": "2023-06-02T22:12:24.846Z"
   },
   {
    "duration": 204,
    "start_time": "2023-06-02T22:12:25.087Z"
   },
   {
    "duration": 236,
    "start_time": "2023-06-02T22:12:25.293Z"
   },
   {
    "duration": 7,
    "start_time": "2023-06-02T22:12:25.531Z"
   },
   {
    "duration": 19,
    "start_time": "2023-06-02T22:12:25.540Z"
   },
   {
    "duration": 4,
    "start_time": "2023-06-02T22:12:25.560Z"
   },
   {
    "duration": 20,
    "start_time": "2023-06-02T22:12:25.565Z"
   },
   {
    "duration": 35,
    "start_time": "2023-06-02T22:12:25.586Z"
   },
   {
    "duration": 419,
    "start_time": "2023-06-02T22:12:25.622Z"
   },
   {
    "duration": 503,
    "start_time": "2023-06-02T22:12:26.042Z"
   },
   {
    "duration": 402,
    "start_time": "2023-06-02T22:12:26.546Z"
   },
   {
    "duration": 393,
    "start_time": "2023-06-02T22:12:26.949Z"
   },
   {
    "duration": 11,
    "start_time": "2023-06-02T22:12:27.344Z"
   },
   {
    "duration": 33,
    "start_time": "2023-06-02T22:12:27.357Z"
   },
   {
    "duration": 14,
    "start_time": "2023-06-02T22:12:27.394Z"
   },
   {
    "duration": 15,
    "start_time": "2023-06-02T22:12:27.410Z"
   },
   {
    "duration": 14,
    "start_time": "2023-06-02T22:12:27.426Z"
   },
   {
    "duration": 11,
    "start_time": "2023-06-02T22:12:27.442Z"
   },
   {
    "duration": 16,
    "start_time": "2023-06-02T22:12:27.454Z"
   },
   {
    "duration": 48,
    "start_time": "2023-06-02T22:12:27.472Z"
   },
   {
    "duration": 11,
    "start_time": "2023-06-02T22:12:27.522Z"
   },
   {
    "duration": 10,
    "start_time": "2023-06-02T22:12:27.534Z"
   },
   {
    "duration": 8,
    "start_time": "2023-06-02T22:12:27.545Z"
   },
   {
    "duration": 41,
    "start_time": "2023-06-02T22:12:27.554Z"
   },
   {
    "duration": 11,
    "start_time": "2023-06-02T22:12:27.597Z"
   },
   {
    "duration": 12,
    "start_time": "2023-06-02T22:12:27.611Z"
   },
   {
    "duration": 7,
    "start_time": "2023-06-02T22:12:27.625Z"
   },
   {
    "duration": 14,
    "start_time": "2023-06-02T22:12:27.634Z"
   },
   {
    "duration": 17,
    "start_time": "2023-06-02T22:12:27.649Z"
   },
   {
    "duration": 10,
    "start_time": "2023-06-02T22:12:27.668Z"
   },
   {
    "duration": 8,
    "start_time": "2023-06-02T22:12:27.679Z"
   },
   {
    "duration": 10,
    "start_time": "2023-06-02T22:12:27.688Z"
   },
   {
    "duration": 7,
    "start_time": "2023-06-02T22:12:27.700Z"
   },
   {
    "duration": 9,
    "start_time": "2023-06-02T22:12:27.708Z"
   },
   {
    "duration": 22,
    "start_time": "2023-06-02T22:12:27.718Z"
   },
   {
    "duration": 12,
    "start_time": "2023-06-02T22:12:27.742Z"
   },
   {
    "duration": 30,
    "start_time": "2023-06-02T22:12:27.755Z"
   },
   {
    "duration": 32,
    "start_time": "2023-06-02T22:12:27.788Z"
   },
   {
    "duration": 5,
    "start_time": "2023-06-02T22:12:27.821Z"
   },
   {
    "duration": 4,
    "start_time": "2023-06-02T22:12:27.827Z"
   },
   {
    "duration": 8,
    "start_time": "2023-06-02T22:12:27.832Z"
   },
   {
    "duration": 116,
    "start_time": "2023-06-02T22:12:27.841Z"
   },
   {
    "duration": 122,
    "start_time": "2023-06-02T22:12:27.959Z"
   },
   {
    "duration": 151,
    "start_time": "2023-06-02T22:12:28.082Z"
   },
   {
    "duration": 2002,
    "start_time": "2023-06-03T08:29:30.080Z"
   },
   {
    "duration": 125,
    "start_time": "2023-06-03T08:29:32.084Z"
   },
   {
    "duration": 12,
    "start_time": "2023-06-03T08:29:32.211Z"
   },
   {
    "duration": 132,
    "start_time": "2023-06-03T08:29:32.225Z"
   },
   {
    "duration": 12,
    "start_time": "2023-06-03T08:29:32.359Z"
   },
   {
    "duration": 105,
    "start_time": "2023-06-03T08:29:32.372Z"
   },
   {
    "duration": 11,
    "start_time": "2023-06-03T08:29:32.479Z"
   },
   {
    "duration": 48,
    "start_time": "2023-06-03T08:29:32.491Z"
   },
   {
    "duration": 47,
    "start_time": "2023-06-03T08:29:32.541Z"
   },
   {
    "duration": 27,
    "start_time": "2023-06-03T08:29:32.591Z"
   },
   {
    "duration": 52,
    "start_time": "2023-06-03T08:29:32.619Z"
   },
   {
    "duration": 4,
    "start_time": "2023-06-03T08:29:32.672Z"
   },
   {
    "duration": 26,
    "start_time": "2023-06-03T08:29:32.677Z"
   },
   {
    "duration": 17,
    "start_time": "2023-06-03T08:29:32.704Z"
   },
   {
    "duration": 53,
    "start_time": "2023-06-03T08:29:32.722Z"
   },
   {
    "duration": 14,
    "start_time": "2023-06-03T08:29:32.777Z"
   },
   {
    "duration": 180,
    "start_time": "2023-06-03T08:29:32.793Z"
   },
   {
    "duration": 8,
    "start_time": "2023-06-03T08:29:32.975Z"
   },
   {
    "duration": 198,
    "start_time": "2023-06-03T08:29:32.985Z"
   },
   {
    "duration": 125,
    "start_time": "2023-06-03T08:29:33.185Z"
   },
   {
    "duration": 123,
    "start_time": "2023-06-03T08:29:33.311Z"
   },
   {
    "duration": 301,
    "start_time": "2023-06-03T08:29:33.438Z"
   },
   {
    "duration": 12,
    "start_time": "2023-06-03T08:29:33.744Z"
   },
   {
    "duration": 186,
    "start_time": "2023-06-03T08:29:33.758Z"
   },
   {
    "duration": 233,
    "start_time": "2023-06-03T08:29:33.952Z"
   },
   {
    "duration": 384,
    "start_time": "2023-06-03T08:29:34.187Z"
   },
   {
    "duration": 365,
    "start_time": "2023-06-03T08:29:34.573Z"
   },
   {
    "duration": 309,
    "start_time": "2023-06-03T08:29:34.949Z"
   },
   {
    "duration": 296,
    "start_time": "2023-06-03T08:29:35.263Z"
   },
   {
    "duration": 9,
    "start_time": "2023-06-03T08:29:35.561Z"
   },
   {
    "duration": 37,
    "start_time": "2023-06-03T08:29:35.572Z"
   },
   {
    "duration": 33,
    "start_time": "2023-06-03T08:29:35.611Z"
   },
   {
    "duration": 58,
    "start_time": "2023-06-03T08:29:35.650Z"
   },
   {
    "duration": 28,
    "start_time": "2023-06-03T08:29:35.709Z"
   },
   {
    "duration": 548,
    "start_time": "2023-06-03T08:29:35.740Z"
   },
   {
    "duration": 681,
    "start_time": "2023-06-03T08:29:36.289Z"
   },
   {
    "duration": 596,
    "start_time": "2023-06-03T08:29:36.972Z"
   },
   {
    "duration": 574,
    "start_time": "2023-06-03T08:29:37.570Z"
   },
   {
    "duration": 26,
    "start_time": "2023-06-03T08:29:38.145Z"
   },
   {
    "duration": 32,
    "start_time": "2023-06-03T08:29:38.172Z"
   },
   {
    "duration": 42,
    "start_time": "2023-06-03T08:29:38.206Z"
   },
   {
    "duration": 23,
    "start_time": "2023-06-03T08:29:38.249Z"
   },
   {
    "duration": 19,
    "start_time": "2023-06-03T08:29:38.274Z"
   },
   {
    "duration": 15,
    "start_time": "2023-06-03T08:29:38.295Z"
   },
   {
    "duration": 15,
    "start_time": "2023-06-03T08:29:38.312Z"
   },
   {
    "duration": 41,
    "start_time": "2023-06-03T08:29:38.331Z"
   },
   {
    "duration": 13,
    "start_time": "2023-06-03T08:29:38.374Z"
   },
   {
    "duration": 14,
    "start_time": "2023-06-03T08:29:38.389Z"
   },
   {
    "duration": 17,
    "start_time": "2023-06-03T08:29:38.405Z"
   },
   {
    "duration": 37,
    "start_time": "2023-06-03T08:29:38.424Z"
   },
   {
    "duration": 11,
    "start_time": "2023-06-03T08:29:38.462Z"
   },
   {
    "duration": 15,
    "start_time": "2023-06-03T08:29:38.474Z"
   },
   {
    "duration": 6,
    "start_time": "2023-06-03T08:29:38.491Z"
   },
   {
    "duration": 8,
    "start_time": "2023-06-03T08:29:38.498Z"
   },
   {
    "duration": 83,
    "start_time": "2023-06-03T08:29:38.508Z"
   },
   {
    "duration": 21,
    "start_time": "2023-06-03T08:29:38.593Z"
   },
   {
    "duration": 48,
    "start_time": "2023-06-03T08:29:38.615Z"
   },
   {
    "duration": 5,
    "start_time": "2023-06-03T08:29:38.664Z"
   },
   {
    "duration": 38,
    "start_time": "2023-06-03T08:29:38.671Z"
   },
   {
    "duration": 78,
    "start_time": "2023-06-03T08:29:38.710Z"
   },
   {
    "duration": 32,
    "start_time": "2023-06-03T08:29:38.790Z"
   },
   {
    "duration": 59,
    "start_time": "2023-06-03T08:29:38.824Z"
   },
   {
    "duration": 22,
    "start_time": "2023-06-03T08:29:38.884Z"
   },
   {
    "duration": 58,
    "start_time": "2023-06-03T08:29:38.907Z"
   },
   {
    "duration": 11,
    "start_time": "2023-06-03T08:29:38.967Z"
   },
   {
    "duration": 22,
    "start_time": "2023-06-03T08:29:38.979Z"
   },
   {
    "duration": 11,
    "start_time": "2023-06-03T08:29:39.003Z"
   },
   {
    "duration": 160,
    "start_time": "2023-06-03T08:29:39.016Z"
   },
   {
    "duration": 164,
    "start_time": "2023-06-03T08:29:39.178Z"
   },
   {
    "duration": 182,
    "start_time": "2023-06-03T08:29:39.343Z"
   },
   {
    "duration": 1301,
    "start_time": "2023-06-03T12:42:09.889Z"
   },
   {
    "duration": 73,
    "start_time": "2023-06-03T12:42:11.201Z"
   },
   {
    "duration": 23,
    "start_time": "2023-06-03T12:42:11.290Z"
   },
   {
    "duration": 38,
    "start_time": "2023-06-03T12:42:11.316Z"
   },
   {
    "duration": 31,
    "start_time": "2023-06-03T12:42:11.376Z"
   },
   {
    "duration": 26,
    "start_time": "2023-06-03T12:42:11.408Z"
   },
   {
    "duration": 12,
    "start_time": "2023-06-03T12:42:11.436Z"
   },
   {
    "duration": 31,
    "start_time": "2023-06-03T12:42:11.450Z"
   },
   {
    "duration": 25,
    "start_time": "2023-06-03T12:42:11.488Z"
   },
   {
    "duration": 16,
    "start_time": "2023-06-03T12:42:11.516Z"
   },
   {
    "duration": 34,
    "start_time": "2023-06-03T12:42:11.534Z"
   },
   {
    "duration": 6,
    "start_time": "2023-06-03T12:42:11.571Z"
   },
   {
    "duration": 29,
    "start_time": "2023-06-03T12:42:11.579Z"
   },
   {
    "duration": 11,
    "start_time": "2023-06-03T12:42:11.616Z"
   },
   {
    "duration": 17,
    "start_time": "2023-06-03T12:42:11.629Z"
   },
   {
    "duration": 50,
    "start_time": "2023-06-03T12:42:11.648Z"
   },
   {
    "duration": 211,
    "start_time": "2023-06-03T12:42:11.700Z"
   },
   {
    "duration": 10,
    "start_time": "2023-06-03T12:42:11.913Z"
   },
   {
    "duration": 215,
    "start_time": "2023-06-03T12:42:11.925Z"
   },
   {
    "duration": 160,
    "start_time": "2023-06-03T12:42:12.142Z"
   },
   {
    "duration": 132,
    "start_time": "2023-06-03T12:42:12.307Z"
   },
   {
    "duration": 340,
    "start_time": "2023-06-03T12:42:12.441Z"
   },
   {
    "duration": 12,
    "start_time": "2023-06-03T12:42:12.793Z"
   },
   {
    "duration": 224,
    "start_time": "2023-06-03T12:42:12.807Z"
   },
   {
    "duration": 300,
    "start_time": "2023-06-03T12:42:13.033Z"
   },
   {
    "duration": 401,
    "start_time": "2023-06-03T12:42:13.335Z"
   },
   {
    "duration": 400,
    "start_time": "2023-06-03T12:42:13.738Z"
   },
   {
    "duration": 350,
    "start_time": "2023-06-03T12:42:14.140Z"
   },
   {
    "duration": 341,
    "start_time": "2023-06-03T12:42:14.504Z"
   },
   {
    "duration": 27,
    "start_time": "2023-06-03T12:42:14.846Z"
   },
   {
    "duration": 41,
    "start_time": "2023-06-03T12:42:14.879Z"
   },
   {
    "duration": 23,
    "start_time": "2023-06-03T12:42:14.923Z"
   },
   {
    "duration": 59,
    "start_time": "2023-06-03T12:42:14.949Z"
   },
   {
    "duration": 88,
    "start_time": "2023-06-03T12:42:15.010Z"
   },
   {
    "duration": 604,
    "start_time": "2023-06-03T12:42:15.099Z"
   },
   {
    "duration": 725,
    "start_time": "2023-06-03T12:42:15.708Z"
   },
   {
    "duration": 593,
    "start_time": "2023-06-03T12:42:16.435Z"
   },
   {
    "duration": 614,
    "start_time": "2023-06-03T12:42:17.030Z"
   },
   {
    "duration": 37,
    "start_time": "2023-06-03T12:42:17.646Z"
   },
   {
    "duration": 28,
    "start_time": "2023-06-03T12:42:17.689Z"
   },
   {
    "duration": 21,
    "start_time": "2023-06-03T12:42:17.722Z"
   },
   {
    "duration": 48,
    "start_time": "2023-06-03T12:42:17.746Z"
   },
   {
    "duration": 22,
    "start_time": "2023-06-03T12:42:17.797Z"
   },
   {
    "duration": 13,
    "start_time": "2023-06-03T12:42:17.821Z"
   },
   {
    "duration": 5,
    "start_time": "2023-06-03T12:42:17.836Z"
   },
   {
    "duration": 76,
    "start_time": "2023-06-03T12:42:17.843Z"
   },
   {
    "duration": 14,
    "start_time": "2023-06-03T12:42:17.921Z"
   },
   {
    "duration": 7,
    "start_time": "2023-06-03T12:42:17.937Z"
   },
   {
    "duration": 4,
    "start_time": "2023-06-03T12:42:17.966Z"
   },
   {
    "duration": 15,
    "start_time": "2023-06-03T12:42:17.972Z"
   },
   {
    "duration": 15,
    "start_time": "2023-06-03T12:42:17.990Z"
   },
   {
    "duration": 9,
    "start_time": "2023-06-03T12:42:18.008Z"
   },
   {
    "duration": 4,
    "start_time": "2023-06-03T12:42:18.019Z"
   },
   {
    "duration": 5,
    "start_time": "2023-06-03T12:42:18.025Z"
   },
   {
    "duration": 9,
    "start_time": "2023-06-03T12:42:18.032Z"
   },
   {
    "duration": 10,
    "start_time": "2023-06-03T12:42:18.043Z"
   },
   {
    "duration": 25,
    "start_time": "2023-06-03T12:42:18.055Z"
   },
   {
    "duration": 14,
    "start_time": "2023-06-03T12:42:18.085Z"
   },
   {
    "duration": 6,
    "start_time": "2023-06-03T12:42:18.104Z"
   },
   {
    "duration": 6,
    "start_time": "2023-06-03T12:42:18.112Z"
   },
   {
    "duration": 27,
    "start_time": "2023-06-03T12:42:18.122Z"
   },
   {
    "duration": 15,
    "start_time": "2023-06-03T12:42:18.151Z"
   },
   {
    "duration": 9,
    "start_time": "2023-06-03T12:42:18.167Z"
   },
   {
    "duration": 22,
    "start_time": "2023-06-03T12:42:18.178Z"
   },
   {
    "duration": 3,
    "start_time": "2023-06-03T12:42:18.204Z"
   },
   {
    "duration": 5,
    "start_time": "2023-06-03T12:42:18.209Z"
   },
   {
    "duration": 29,
    "start_time": "2023-06-03T12:42:18.216Z"
   },
   {
    "duration": 228,
    "start_time": "2023-06-03T12:42:18.247Z"
   },
   {
    "duration": 191,
    "start_time": "2023-06-03T12:42:18.477Z"
   },
   {
    "duration": 219,
    "start_time": "2023-06-03T12:42:18.677Z"
   }
  ],
  "kernelspec": {
   "display_name": "Python 3 (ipykernel)",
   "language": "python",
   "name": "python3"
  },
  "language_info": {
   "codemirror_mode": {
    "name": "ipython",
    "version": 3
   },
   "file_extension": ".py",
   "mimetype": "text/x-python",
   "name": "python",
   "nbconvert_exporter": "python",
   "pygments_lexer": "ipython3",
   "version": "3.10.12"
  },
  "toc": {
   "base_numbering": 1,
   "nav_menu": {},
   "number_sections": true,
   "sideBar": true,
   "skip_h1_title": true,
   "title_cell": "Table of Contents",
   "title_sidebar": "Contents",
   "toc_cell": false,
   "toc_position": {},
   "toc_section_display": true,
   "toc_window_display": false
  }
 },
 "nbformat": 4,
 "nbformat_minor": 5
}
